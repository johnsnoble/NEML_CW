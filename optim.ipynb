{
 "cells": [
  {
   "cell_type": "code",
   "execution_count": 1,
   "id": "b37c5dd0-c5d3-49c8-ad58-bdb4d8d047cc",
   "metadata": {},
   "outputs": [],
   "source": [
    "import pymanopt\n",
    "import numpy as np\n",
    "\n",
    "dim=3"
   ]
  },
  {
   "cell_type": "code",
   "execution_count": 421,
   "id": "995aa2f9-4291-4ab2-b75a-475181c42b68",
   "metadata": {},
   "outputs": [],
   "source": [
    "def random_cov():\n",
    "    A = np.random.rand(dim-1, dim-1)\n",
    "    return np.dot(A, A.transpose())"
   ]
  },
  {
   "cell_type": "code",
   "execution_count": 2,
   "id": "6530c600-c07f-4f61-a775-bb2976466ef9",
   "metadata": {},
   "outputs": [],
   "source": [
    "man = pymanopt.manifolds.Sphere(dim)\n",
    "A = np.random.rand(dim-1, dim-1)\n",
    "cov = np.dot(A, A.transpose())\n",
    "mean = man.random_point()"
   ]
  },
  {
   "cell_type": "code",
   "execution_count": 3,
   "id": "f15df29d-a82c-4d10-b5ee-ac669d349c04",
   "metadata": {},
   "outputs": [
    {
     "data": {
      "text/plain": [
       "(array([-0.44328158, -0.46141816,  0.76850161]),\n",
       " array([[1.26839351, 0.32717228],\n",
       "        [0.32717228, 0.13089927]]))"
      ]
     },
     "execution_count": 3,
     "metadata": {},
     "output_type": "execute_result"
    }
   ],
   "source": [
    "mean, cov"
   ]
  },
  {
   "cell_type": "code",
   "execution_count": 299,
   "id": "8b9eeadb-d859-4a8f-a8d8-7c7b7b0e2aa6",
   "metadata": {},
   "outputs": [],
   "source": [
    "# generate tangent space\n",
    "N = 100\n",
    "samples = np.random.multivariate_normal(np.zeros(dim-1), cov, N)"
   ]
  },
  {
   "cell_type": "code",
   "execution_count": 300,
   "id": "d0fc9c76-ba15-4cc8-a794-ee711fe5bf58",
   "metadata": {},
   "outputs": [],
   "source": [
    "# We need a tangent\n",
    "normal = mean/np.linalg.norm(mean)"
   ]
  },
  {
   "cell_type": "code",
   "execution_count": 301,
   "id": "b9cd8d25-9e27-4667-a08c-9b0935a19786",
   "metadata": {},
   "outputs": [],
   "source": [
    "tol = 1e-5\n",
    "\n",
    "def gram_schmidt(vectors):\n",
    "    Q = np.zeros_like(vectors)\n",
    "    for i in range(len(vectors)):\n",
    "        v = vectors[i]\n",
    "        for j in range(i):\n",
    "            proj = np.dot(v, Q[j]) / np.dot(Q[j], Q[j]) * Q[j]\n",
    "            v = v - proj\n",
    "        Q[i] = v / np.linalg.norm(v)\n",
    "    return Q\n",
    "    \n",
    "def get_axis(normal):\n",
    "    # Assumes it is norm 1\n",
    "    Q = np.eye(dim)\n",
    "    arg = np.argmax(normal)\n",
    "    if normal[arg]>(1-tol) and np.sum(normal)>(1-tol):\n",
    "        return np.concatenate([Q[:arg], Q[arg+1:]])\n",
    "    return gram_schmidt(np.vstack([normal,Q[:-1]]))[1:]\n",
    "\n",
    "def get_e(i,n):\n",
    "    return np.array(i*[0]+[1]+(n-i-1)*[0])"
   ]
  },
  {
   "cell_type": "code",
   "execution_count": 302,
   "id": "f66de7d5-b4c7-4bfe-a047-9ac153a6a5a7",
   "metadata": {},
   "outputs": [],
   "source": [
    "ax = get_axis(normal)\n",
    "\n",
    "# Project points onto the axis to get all points in the tangent space\n",
    "tangent_points = samples@ax\n",
    "\n",
    "points = man.exp(mean, tangent_points)"
   ]
  },
  {
   "cell_type": "code",
   "execution_count": 431,
   "id": "5510e685-dd03-435d-8343-957d70a1163d",
   "metadata": {},
   "outputs": [],
   "source": [
    "# For estimateing normalisation constant\n",
    "def estimate_normalising(mu, Sigma, manifold, m=None, S=100):\n",
    "    d = manifold.dim\n",
    "    z = np.sqrt((2*np.pi)**d*np.linalg.det(Sigma))\n",
    "    samples = np.random.multivariate_normal(np.zeros(d), Sigma, S)\n",
    "    vs = samples@ax\n",
    "    return  z*np.mean(compute_vol(mu, vs, manifold, m))\n",
    "\n",
    "sphere_M = lambda v: np.array([np.eye(v.shape[-1])]*len(v))\n",
    "\n",
    "def compute_vol(mu, v, manifold, m=None):\n",
    "    if m == None: m = sphere_M\n",
    "    return np.sqrt(np.linalg.det(m(manifold.exp(mu, v-mu))))"
   ]
  },
  {
   "cell_type": "code",
   "execution_count": 432,
   "id": "9d0de8c4-1c42-461b-baee-6cc157c289fb",
   "metadata": {},
   "outputs": [],
   "source": [
    "def extrinsic_to_log(manifold, mu, x, ax):\n",
    "    point = manifold.log(mu, x)\n",
    "    return np.dot(point, ax.T)"
   ]
  },
  {
   "cell_type": "code",
   "execution_count": 457,
   "id": "86c5e63f-941c-44ce-9cd1-6075b43c12d5",
   "metadata": {},
   "outputs": [],
   "source": [
    "def objective_grad_mu(points, mu, Sigma, ax, manifold, S=100):\n",
    "    d = manifold.dim\n",
    "    samples = np.random.multivariate_normal(np.zeros(d), Sigma, S)\n",
    "    vs = samples@ax\n",
    "    ms = compute_vol(mu, vs, manifold)\n",
    "    z = np.sqrt((2*np.pi)**d*np.linalg.det(Sigma))\n",
    "    grad = -(np.array([extrinsic_to_log(manifold,mu,p,ax) for p in points])\n",
    "             .mean(0)-z*(ms.reshape(1,-1)@samples)/\n",
    "             (S*estimate_normalising(mu, Sigma, manifold)))\n",
    "    return grad\n",
    "\n",
    "def objective_grad_A(points, mu, Sigma, ax, manifold, S=100):\n",
    "    d = manifold.dim\n",
    "    vals, vecs = np.linalg.eig(Sigma)\n",
    "    A = (vecs@np.diag(1/np.sqrt(vals))).T\n",
    "    samples = np.random.multivariate_normal(np.zeros(d), Sigma, S)\n",
    "    ms = compute_vol(mu, vs, manifold)\n",
    "    term2 = np.zeros((d, d)).astype(dtype='float64')\n",
    "    for m,s in zip(ms,samples):\n",
    "        term2 += m*((s.reshape(-1,1))@(s.reshape(1,-1)))\n",
    "    term2 *= np.sqrt((2*np.pi)**d*np.linalg.det(Sigma))\n",
    "    term2 /= (S*estimate_normalising(mu, Sigma, manifold))\n",
    "    term1 = np.zeros((d, d)).astype(dtype='float64')\n",
    "    for p,v in zip(points,vs):\n",
    "        log = extrinsic_to_log(manifold,mu,p,ax)\n",
    "        term1 += (log.reshape(-1,1))@(log.reshape(1,-1))\n",
    "    term1 /= len(points)\n",
    "    return A@(term1-term2)\n",
    "\n",
    "def objective(points, mu, Sigma, manifold):\n",
    "    d = manifold.dim\n",
    "    result = 0\n",
    "    inv = np.linalg.inv(Sigma)\n",
    "    for p in points:\n",
    "        log = extrinsic_to_log(manifold,mu,p,ax)\n",
    "        result += np.dot(log, inv@log)\n",
    "    result /= 2*len(points)\n",
    "    return result + np.log(estimate_normalising(mu, Sigma, manifold))\n",
    "\n",
    "def convergence_criteria(points, manifold, e=1e-4):\n",
    "    x =  lambda mu0, Sigma0, mu, Sigma: (objective(points, mu, Sigma, manifold)-\n",
    "                                         objective(points, mu0, Sigma0, manifold))\n",
    "    return (lambda mu0, Sigma0, mu, Sigma: np.abs(x(mu, Sigma, mu0, Sigma))>e)\n",
    "def mle_manifold(points, manifold, step_size_mu=1e-2, step_size_A=1e-2):\n",
    "    d = manifold.dim\n",
    "    Sigma0 = random_cov()\n",
    "    mu0 = manifold.random_point()\n",
    "    Sigma = random_cov()\n",
    "    mu = manifold.random_point()\n",
    "    criterion = convergence_criteria(points, manifold)\n",
    "    count, max_loops = 0, 100\n",
    "    while criterion(mu0, Sigma0, mu, Sigma) and count < max_loops:\n",
    "        norm_const = estimate_normalising(mu, Sigma, manifold)\n",
    "        grad_mu = objective_grad_mu(points, mu, Sigma, ax, manifold)@ax\n",
    "        mu0, Sigma0 = mu, Sigma\n",
    "        mu = manifold.exp(mu0, step_size_mu*grad_mu)[0]\n",
    "        norm_const = estimate_normalising(mu, Sigma0, manifold)\n",
    "        vals, vecs = np.linalg.eig(Sigma)\n",
    "        A = (vecs@np.diag(1/np.sqrt(vals))).T\n",
    "        grad_A = objective_grad_A(points, mu, Sigma0, ax, manifold)\n",
    "        A -= step_size_A*grad_A\n",
    "        Sigma = np.linalg.inv(A.T@A)\n",
    "        count += 1\n",
    "    return mu, Sigma\n",
    "    \n",
    "    "
   ]
  },
  {
   "cell_type": "code",
   "execution_count": 458,
   "id": "9b15641b-b435-4907-9058-80a173984887",
   "metadata": {},
   "outputs": [
    {
     "name": "stdout",
     "output_type": "stream",
     "text": [
      "55\n"
     ]
    },
    {
     "data": {
      "text/plain": [
       "(array([ 0.06631592,  0.84624475, -0.29386839]),\n",
       " array([[0.47957189, 0.14276516],\n",
       "        [0.14276516, 0.48519716]]))"
      ]
     },
     "execution_count": 458,
     "metadata": {},
     "output_type": "execute_result"
    }
   ],
   "source": [
    "mle_manifold(points, man)"
   ]
  },
  {
   "cell_type": "code",
   "execution_count": 460,
   "id": "3cccf488-129e-4e67-b874-77b58b9724ac",
   "metadata": {},
   "outputs": [
    {
     "data": {
      "text/plain": [
       "array([-0.44328158, -0.46141816,  0.76850161])"
      ]
     },
     "execution_count": 460,
     "metadata": {},
     "output_type": "execute_result"
    }
   ],
   "source": [
    "mean"
   ]
  },
  {
   "cell_type": "code",
   "execution_count": 462,
   "id": "93d7f970-bec5-4d7d-9336-412b4f0d9a6b",
   "metadata": {},
   "outputs": [
    {
     "data": {
      "text/plain": [
       "array([[1.26839351, 0.32717228],\n",
       "       [0.32717228, 0.13089927]])"
      ]
     },
     "execution_count": 462,
     "metadata": {},
     "output_type": "execute_result"
    }
   ],
   "source": [
    "\n",
    "cov"
   ]
  },
  {
   "cell_type": "code",
   "execution_count": null,
   "id": "25fb1eb9-c882-4963-bd1f-847b389d6332",
   "metadata": {},
   "outputs": [],
   "source": []
  }
 ],
 "metadata": {
  "kernelspec": {
   "display_name": "venv",
   "language": "python",
   "name": "venv"
  },
  "language_info": {
   "codemirror_mode": {
    "name": "ipython",
    "version": 3
   },
   "file_extension": ".py",
   "mimetype": "text/x-python",
   "name": "python",
   "nbconvert_exporter": "python",
   "pygments_lexer": "ipython3",
   "version": "3.10.12"
  }
 },
 "nbformat": 4,
 "nbformat_minor": 5
}

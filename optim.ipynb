{
 "cells": [
  {
   "cell_type": "code",
   "execution_count": 1,
   "id": "b37c5dd0-c5d3-49c8-ad58-bdb4d8d047cc",
   "metadata": {},
   "outputs": [],
   "source": [
    "import pymanopt\n",
    "import numpy as np\n",
    "\n",
    "dim=3"
   ]
  },
  {
   "cell_type": "code",
   "execution_count": 2,
   "id": "6530c600-c07f-4f61-a775-bb2976466ef9",
   "metadata": {},
   "outputs": [],
   "source": [
    "man = pymanopt.manifolds.Sphere(dim)\n",
    "A = np.random.rand(dim-1, dim-1)\n",
    "cov = np.dot(A, A.transpose())\n",
    "mean = man.random_point()"
   ]
  },
  {
   "cell_type": "code",
   "execution_count": 3,
   "id": "f15df29d-a82c-4d10-b5ee-ac669d349c04",
   "metadata": {},
   "outputs": [
    {
     "data": {
      "text/plain": [
       "(array([-0.44328158, -0.46141816,  0.76850161]),\n",
       " array([[1.26839351, 0.32717228],\n",
       "        [0.32717228, 0.13089927]]))"
      ]
     },
     "execution_count": 3,
     "metadata": {},
     "output_type": "execute_result"
    }
   ],
   "source": [
    "mean, cov"
   ]
  },
  {
   "cell_type": "code",
   "execution_count": 272,
   "id": "8b9eeadb-d859-4a8f-a8d8-7c7b7b0e2aa6",
   "metadata": {},
   "outputs": [],
   "source": [
    "# generate tangent space\n",
    "N = 100\n",
    "samples = np.random.multivariate_normal(np.zeros(dim-1), cov, N)"
   ]
  },
  {
   "cell_type": "code",
   "execution_count": 273,
   "id": "d0fc9c76-ba15-4cc8-a794-ee711fe5bf58",
   "metadata": {},
   "outputs": [],
   "source": [
    "# We need a tangent\n",
    "normal = mean/np.linalg.norm(mean)"
   ]
  },
  {
   "cell_type": "code",
   "execution_count": 274,
   "id": "b9cd8d25-9e27-4667-a08c-9b0935a19786",
   "metadata": {},
   "outputs": [],
   "source": [
    "tol = 1e-5\n",
    "\n",
    "def gram_schmidt(vectors):\n",
    "    Q = np.zeros_like(vectors)\n",
    "    for i in range(len(vectors)):\n",
    "        v = vectors[i]\n",
    "        for j in range(i):\n",
    "            proj = np.dot(v, Q[j]) / np.dot(Q[j], Q[j]) * Q[j]\n",
    "            v = v - proj\n",
    "        Q[i] = v / np.linalg.norm(v)\n",
    "    return Q\n",
    "    \n",
    "def get_axis(normal):\n",
    "    # Assumes it is norm 1\n",
    "    Q = np.eye(dim)\n",
    "    arg = np.argmax(normal)\n",
    "    if normal[arg]>(1-tol) and np.sum(normal)>(1-tol):\n",
    "        return np.concatenate([Q[:arg], Q[arg+1:]])\n",
    "    return gram_schmidt(np.vstack([normal,Q[:-1]]))[1:]\n",
    "\n",
    "def get_e(i,n):\n",
    "    return np.array(i*[0]+[1]+(n-i-1)*[0])"
   ]
  },
  {
   "cell_type": "code",
   "execution_count": 281,
   "id": "f66de7d5-b4c7-4bfe-a047-9ac153a6a5a7",
   "metadata": {},
   "outputs": [],
   "source": [
    "ax = get_axis(normal)\n",
    "\n",
    "# Project points onto the axis to get all points in the tangent space\n",
    "tangent_points = samples@ax\n",
    "\n",
    "points = man.exp(mean, tangent_points)"
   ]
  },
  {
   "cell_type": "code",
   "execution_count": 282,
   "id": "5510e685-dd03-435d-8343-957d70a1163d",
   "metadata": {},
   "outputs": [],
   "source": [
    "# For estimateing normalisation constant\n",
    "def estimate_normalising(mu, Sigma, manifold, m=None, S=100):\n",
    "    d = manifold.dim\n",
    "    z = np.sqrt((2*np.pi)**d*np.linalg.det(Sigma))\n",
    "    samples = np.random.multivariate_normal(np.zeros(d), Sigma, S)\n",
    "    ax = get_axis(mu)\n",
    "    vs = samples@ax\n",
    "    return  z*np.mean(compute_vol(mu, vs, manifold, m))\n",
    "\n",
    "sphere_M = lambda v: np.array([np.eye(v.shape[-1])]*len(v))\n",
    "\n",
    "def compute_vol(mu, v, manifold, m=None):\n",
    "    if m == None: m = sphere_M\n",
    "    return np.sqrt(np.linalg.det(m(manifold.exp(mu, v-mu))))"
   ]
  },
  {
   "cell_type": "code",
   "execution_count": 283,
   "id": "082e7477-d206-45d7-97af-1da059b181ce",
   "metadata": {},
   "outputs": [
    {
     "data": {
      "text/plain": [
       "np.float64(1.5260520812767422)"
      ]
     },
     "execution_count": 283,
     "metadata": {},
     "output_type": "execute_result"
    }
   ],
   "source": [
    "estimate_normalising(mean, cov, man)"
   ]
  },
  {
   "cell_type": "code",
   "execution_count": 284,
   "id": "9d0de8c4-1c42-461b-baee-6cc157c289fb",
   "metadata": {},
   "outputs": [],
   "source": [
    "def extrinsic_to_log(manifold, mu, x, ax):\n",
    "    point = manifold.log(mu, x)\n",
    "    return np.dot(point, ax.T)"
   ]
  },
  {
   "cell_type": "code",
   "execution_count": 289,
   "id": "86c5e63f-941c-44ce-9cd1-6075b43c12d5",
   "metadata": {},
   "outputs": [],
   "source": [
    "def objective_grad(points, mu, Sigma, manifold, S=100):\n",
    "    d = manifold.dim\n",
    "    samples = np.random.multivariate_normal(np.zeros(d), Sigma, S)\n",
    "    ax = get_axis(mu)\n",
    "    vs = samples@ax\n",
    "    ms = compute_vol(mu, vs, manifold)\n",
    "    z = np.sqrt((2*np.pi)**d*np.linalg.det(Sigma))\n",
    "    grad = -(np.array([extrinsic_to_log(manifold,mu,p,ax) for p in points])\n",
    "             .mean(0)-z*(ms.reshape(1,-1)@vs)/S)\n",
    "    return grad\n",
    "    \n",
    "def mle_manifold(points, manifold):\n",
    "    pass"
   ]
  },
  {
   "cell_type": "code",
   "execution_count": 286,
   "id": "a3f003de-f211-4d7f-89b1-97c477d5aee5",
   "metadata": {},
   "outputs": [
    {
     "data": {
      "text/plain": [
       "array([[ 0.20447833],\n",
       "       [-1.19099027]])"
      ]
     },
     "execution_count": 286,
     "metadata": {},
     "output_type": "execute_result"
    }
   ],
   "source": [
    "ss = np.random.multivariate_normal(np.zeros(dim-1), cov, 100)\n",
    "vs = ss@ax\n",
    "ms = compute_vol(mean, vs, man)\n",
    "z = np.sqrt((2*np.pi)**2*np.linalg.det(cov))\n",
    "grad = -(np.array([extrinsic_to_log(man,mean,p,ax) for p in points]).mean(0)\n",
    "         -z*(ms.reshape(1,-1)@ss)/(100*estimate_normalising(mean,cov,man)))\n",
    "np.linalg.inv(cov)@grad.reshape(-1,1)"
   ]
  },
  {
   "cell_type": "code",
   "execution_count": 287,
   "id": "1256806f-2cd8-4d4a-9ca6-886a953b8569",
   "metadata": {},
   "outputs": [
    {
     "data": {
      "text/plain": [
       "array([[-0.13030002, -0.08900011]])"
      ]
     },
     "execution_count": 287,
     "metadata": {},
     "output_type": "execute_result"
    }
   ],
   "source": [
    "grad"
   ]
  },
  {
   "cell_type": "code",
   "execution_count": 269,
   "id": "93c5be1e-564a-44d0-8547-90f56f4c722a",
   "metadata": {},
   "outputs": [
    {
     "data": {
      "text/plain": [
       "array([1.65955897, 0.45228425, 1.22881211])"
      ]
     },
     "execution_count": 269,
     "metadata": {},
     "output_type": "execute_result"
    }
   ],
   "source": [
    "vs[0]"
   ]
  },
  {
   "cell_type": "code",
   "execution_count": 137,
   "id": "166f1d3b-8b32-4ae7-ad9f-a47d5f9a6010",
   "metadata": {},
   "outputs": [
    {
     "ename": "ValueError",
     "evalue": "matmul: Input operand 1 has a mismatch in its core dimension 0, with gufunc signature (n?,k),(k,m?)->(n?,m?) (size 3 is different from 2)",
     "output_type": "error",
     "traceback": [
      "\u001b[0;31m---------------------------------------------------------------------------\u001b[0m",
      "\u001b[0;31mValueError\u001b[0m                                Traceback (most recent call last)",
      "Cell \u001b[0;32mIn[137], line 1\u001b[0m\n\u001b[0;32m----> 1\u001b[0m \u001b[43mobjective_grad\u001b[49m\u001b[43m(\u001b[49m\u001b[43mpoints\u001b[49m\u001b[43m,\u001b[49m\u001b[43m \u001b[49m\u001b[43mmean\u001b[49m\u001b[43m,\u001b[49m\u001b[43m \u001b[49m\u001b[43mcov\u001b[49m\u001b[43m,\u001b[49m\u001b[43m \u001b[49m\u001b[43mman\u001b[49m\u001b[43m)\u001b[49m\n",
      "Cell \u001b[0;32mIn[136], line 10\u001b[0m, in \u001b[0;36mobjective_grad\u001b[0;34m(points, mu, Sigma, manifold, S)\u001b[0m\n\u001b[1;32m      7\u001b[0m z \u001b[38;5;241m=\u001b[39m np\u001b[38;5;241m.\u001b[39msqrt((\u001b[38;5;241m2\u001b[39m\u001b[38;5;241m*\u001b[39mnp\u001b[38;5;241m.\u001b[39mpi)\u001b[38;5;241m*\u001b[39m\u001b[38;5;241m*\u001b[39md\u001b[38;5;241m*\u001b[39mnp\u001b[38;5;241m.\u001b[39mlinalg\u001b[38;5;241m.\u001b[39mdet(Sigma))\n\u001b[1;32m      8\u001b[0m grad \u001b[38;5;241m=\u001b[39m \u001b[38;5;241m-\u001b[39m(np\u001b[38;5;241m.\u001b[39marray([man\u001b[38;5;241m.\u001b[39mlog(mean,p) \u001b[38;5;28;01mfor\u001b[39;00m p \u001b[38;5;129;01min\u001b[39;00m points])\u001b[38;5;241m.\u001b[39mmean(\u001b[38;5;241m0\u001b[39m)\n\u001b[1;32m      9\u001b[0m \u001b[38;5;241m-\u001b[39mz\u001b[38;5;241m*\u001b[39m(ms\u001b[38;5;241m.\u001b[39mreshape(\u001b[38;5;241m1\u001b[39m,\u001b[38;5;241m-\u001b[39m\u001b[38;5;241m1\u001b[39m)\u001b[38;5;129m@vs\u001b[39m)[\u001b[38;5;241m0\u001b[39m]\u001b[38;5;241m/\u001b[39mS)\n\u001b[0;32m---> 10\u001b[0m \u001b[38;5;28;01mreturn\u001b[39;00m \u001b[38;5;241;43m-\u001b[39;49m\u001b[43mnp\u001b[49m\u001b[38;5;241;43m.\u001b[39;49m\u001b[43mlinalg\u001b[49m\u001b[38;5;241;43m.\u001b[39;49m\u001b[43minv\u001b[49m\u001b[43m(\u001b[49m\u001b[43mSigma\u001b[49m\u001b[43m)\u001b[49m\u001b[38;5;129;43m@grad\u001b[39;49m\u001b[38;5;241;43m.\u001b[39;49m\u001b[43mreshape\u001b[49m\u001b[43m(\u001b[49m\u001b[38;5;241;43m-\u001b[39;49m\u001b[38;5;241;43m1\u001b[39;49m\u001b[43m,\u001b[49m\u001b[38;5;241;43m1\u001b[39;49m\u001b[43m)\u001b[49m\n",
      "\u001b[0;31mValueError\u001b[0m: matmul: Input operand 1 has a mismatch in its core dimension 0, with gufunc signature (n?,k),(k,m?)->(n?,m?) (size 3 is different from 2)"
     ]
    }
   ],
   "source": [
    "objective_grad(points, mean, cov, man)"
   ]
  },
  {
   "cell_type": "code",
   "execution_count": null,
   "id": "5009dc30-201c-4cb4-af7c-7f118619f6b6",
   "metadata": {},
   "outputs": [],
   "source": []
  }
 ],
 "metadata": {
  "kernelspec": {
   "display_name": "venv",
   "language": "python",
   "name": "venv"
  },
  "language_info": {
   "codemirror_mode": {
    "name": "ipython",
    "version": 3
   },
   "file_extension": ".py",
   "mimetype": "text/x-python",
   "name": "python",
   "nbconvert_exporter": "python",
   "pygments_lexer": "ipython3",
   "version": "3.10.12"
  }
 },
 "nbformat": 4,
 "nbformat_minor": 5
}

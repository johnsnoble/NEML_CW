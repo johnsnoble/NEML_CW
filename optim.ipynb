{
 "cells": [
  {
   "cell_type": "code",
   "execution_count": 3,
   "id": "b37c5dd0-c5d3-49c8-ad58-bdb4d8d047cc",
   "metadata": {},
   "outputs": [],
   "source": [
    "import pymanopt\n",
    "import numpy as np\n",
    "\n",
    "dim=3"
   ]
  },
  {
   "cell_type": "code",
   "execution_count": 9,
   "id": "6530c600-c07f-4f61-a775-bb2976466ef9",
   "metadata": {},
   "outputs": [],
   "source": [
    "man = pymanopt.manifolds.Sphere(dim)\n",
    "A = np.random.rand(dim-1, dim-1)\n",
    "cov = np.dot(A, A.transpose())\n",
    "mean = man.random_point()"
   ]
  },
  {
   "cell_type": "code",
   "execution_count": 10,
   "id": "f15df29d-a82c-4d10-b5ee-ac669d349c04",
   "metadata": {},
   "outputs": [
    {
     "data": {
      "text/plain": [
       "(array([-0.63195937, -0.73218917,  0.25402043]),\n",
       " array([[0.32529598, 0.65789412],\n",
       "        [0.65789412, 1.82300413]]))"
      ]
     },
     "execution_count": 10,
     "metadata": {},
     "output_type": "execute_result"
    }
   ],
   "source": [
    "mean, cov"
   ]
  },
  {
   "cell_type": "code",
   "execution_count": 15,
   "id": "8b9eeadb-d859-4a8f-a8d8-7c7b7b0e2aa6",
   "metadata": {},
   "outputs": [],
   "source": [
    "# generate tangent space\n",
    "N = 100\n",
    "samples = np.random.multivariate_normal(np.zeros(dim-1), cov, N)"
   ]
  },
  {
   "cell_type": "code",
   "execution_count": 26,
   "id": "d0fc9c76-ba15-4cc8-a794-ee711fe5bf58",
   "metadata": {},
   "outputs": [],
   "source": [
    "# We need a tangent\n",
    "normal = mean/np.linalg.norm(mean)"
   ]
  },
  {
   "cell_type": "code",
   "execution_count": 102,
   "id": "b9cd8d25-9e27-4667-a08c-9b0935a19786",
   "metadata": {},
   "outputs": [],
   "source": [
    "tol = 1e-5\n",
    "\n",
    "def gram_schmidt(vectors):\n",
    "    Q = np.zeros_like(vectors)\n",
    "    for i in range(len(vectors)):\n",
    "        v = vectors[i]\n",
    "        for j in range(i):\n",
    "            proj = np.dot(v, Q[j]) / np.dot(Q[j], Q[j]) * Q[j]\n",
    "            v = v - proj\n",
    "        Q[i] = v / np.linalg.norm(v)\n",
    "    return Q\n",
    "    \n",
    "def get_axis(normal):\n",
    "    # Assumes it is norm 1\n",
    "    Q = np.eye(dim)\n",
    "    arg = np.argmax(normal)\n",
    "    if normal[arg]>(1-tol) and np.sum(normal)>(1-tol):\n",
    "        return np.concatenate([Q[:arg], Q[arg+1:]])\n",
    "    return gram_schmidt(np.vstack([normal,Q[:-1]]))[1:]\n",
    "\n",
    "def get_e(i,n):\n",
    "    return np.array(i*[0]+[1]+(n-i-1)*[0])"
   ]
  },
  {
   "cell_type": "code",
   "execution_count": 113,
   "id": "f66de7d5-b4c7-4bfe-a047-9ac153a6a5a7",
   "metadata": {},
   "outputs": [],
   "source": [
    "ax = get_axis(normal)\n",
    "\n",
    "# Project points onto the axis to get all points in the tangent space\n",
    "tangent_points = samples@ax\n",
    "\n",
    "points = man.exp(mean, tangent_points)"
   ]
  },
  {
   "cell_type": "code",
   "execution_count": null,
   "id": "5510e685-dd03-435d-8343-957d70a1163d",
   "metadata": {},
   "outputs": [],
   "source": []
  }
 ],
 "metadata": {
  "kernelspec": {
   "display_name": "venv",
   "language": "python",
   "name": "venv"
  },
  "language_info": {
   "codemirror_mode": {
    "name": "ipython",
    "version": 3
   },
   "file_extension": ".py",
   "mimetype": "text/x-python",
   "name": "python",
   "nbconvert_exporter": "python",
   "pygments_lexer": "ipython3",
   "version": "3.10.12"
  }
 },
 "nbformat": 4,
 "nbformat_minor": 5
}

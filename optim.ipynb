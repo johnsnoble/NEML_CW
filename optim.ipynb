{
 "cells": [
  {
   "cell_type": "code",
   "execution_count": 3,
   "id": "b37c5dd0-c5d3-49c8-ad58-bdb4d8d047cc",
   "metadata": {},
   "outputs": [],
   "source": [
    "import pymanopt\n",
    "import numpy as np\n",
    "\n",
    "dim=3"
   ]
  },
  {
   "cell_type": "code",
   "execution_count": 9,
   "id": "6530c600-c07f-4f61-a775-bb2976466ef9",
   "metadata": {},
   "outputs": [],
   "source": [
    "man = pymanopt.manifolds.Sphere(dim)\n",
    "A = np.random.rand(dim-1, dim-1)\n",
    "cov = np.dot(A, A.transpose())\n",
    "mean = man.random_point()"
   ]
  },
  {
   "cell_type": "code",
   "execution_count": 10,
   "id": "f15df29d-a82c-4d10-b5ee-ac669d349c04",
   "metadata": {},
   "outputs": [
    {
     "data": {
      "text/plain": [
       "(array([-0.63195937, -0.73218917,  0.25402043]),\n",
       " array([[0.32529598, 0.65789412],\n",
       "        [0.65789412, 1.82300413]]))"
      ]
     },
     "execution_count": 10,
     "metadata": {},
     "output_type": "execute_result"
    }
   ],
   "source": [
    "mean, cov"
   ]
  },
  {
   "cell_type": "code",
   "execution_count": 11,
   "id": "c8d11015-85c0-4202-8b1b-5ef01facd535",
   "metadata": {},
   "outputs": [],
   "source": [
    "# generate tangent space\n",
    "N = 100\n",
    "samples = np.random.multivariate_normal(np.zeros(dim-1), cov, N)\n",
    "\n",
    "# We need a tangent\n"
   ]
  },
  {
   "cell_type": "code",
   "execution_count": null,
   "id": "0bbcda32-90ac-4e98-b3cc-60da92c525e1",
   "metadata": {},
   "outputs": [],
   "source": []
  }
 ],
 "metadata": {
  "kernelspec": {
   "display_name": "venv",
   "language": "python",
   "name": "venv"
  },
  "language_info": {
   "codemirror_mode": {
    "name": "ipython",
    "version": 3
   },
   "file_extension": ".py",
   "mimetype": "text/x-python",
   "name": "python",
   "nbconvert_exporter": "python",
   "pygments_lexer": "ipython3",
   "version": "3.10.12"
  }
 },
 "nbformat": 4,
 "nbformat_minor": 5
}

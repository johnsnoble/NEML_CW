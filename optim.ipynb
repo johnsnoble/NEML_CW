{
 "cells": [
  {
   "cell_type": "code",
   "execution_count": 1,
   "id": "b37c5dd0-c5d3-49c8-ad58-bdb4d8d047cc",
   "metadata": {},
   "outputs": [],
   "source": [
    "import pymanopt\n",
    "import numpy as np\n",
    "\n",
    "dim=3"
   ]
  },
  {
   "cell_type": "code",
   "execution_count": 421,
   "id": "995aa2f9-4291-4ab2-b75a-475181c42b68",
   "metadata": {},
   "outputs": [],
   "source": [
    "def random_cov():\n",
    "    A = np.random.rand(dim-1, dim-1)\n",
    "    return np.dot(A, A.transpose())"
   ]
  },
  {
   "cell_type": "code",
   "execution_count": 470,
   "id": "6530c600-c07f-4f61-a775-bb2976466ef9",
   "metadata": {},
   "outputs": [],
   "source": [
    "man = pymanopt.manifolds.Sphere(dim)\n",
    "A = np.random.rand(dim-1, dim-1)/20\n",
    "cov = np.dot(A, A.transpose())\n",
    "mean = man.random_point()"
   ]
  },
  {
   "cell_type": "code",
   "execution_count": 471,
   "id": "f15df29d-a82c-4d10-b5ee-ac669d349c04",
   "metadata": {},
   "outputs": [
    {
     "data": {
      "text/plain": [
       "(array([-0.32234691, -0.81603838,  0.47976436]),\n",
       " array([[0.00183044, 0.0019768 ],\n",
       "        [0.0019768 , 0.0030393 ]]))"
      ]
     },
     "execution_count": 471,
     "metadata": {},
     "output_type": "execute_result"
    }
   ],
   "source": [
    "mean, cov"
   ]
  },
  {
   "cell_type": "code",
   "execution_count": 472,
   "id": "8b9eeadb-d859-4a8f-a8d8-7c7b7b0e2aa6",
   "metadata": {},
   "outputs": [],
   "source": [
    "# generate tangent space\n",
    "N = 100\n",
    "samples = np.random.multivariate_normal(np.zeros(dim-1), cov, N)"
   ]
  },
  {
   "cell_type": "code",
   "execution_count": 473,
   "id": "d0fc9c76-ba15-4cc8-a794-ee711fe5bf58",
   "metadata": {},
   "outputs": [],
   "source": [
    "# We need a tangent\n",
    "normal = mean/np.linalg.norm(mean)"
   ]
  },
  {
   "cell_type": "code",
   "execution_count": 474,
   "id": "b9cd8d25-9e27-4667-a08c-9b0935a19786",
   "metadata": {},
   "outputs": [],
   "source": [
    "tol = 1e-5\n",
    "\n",
    "def gram_schmidt(vectors):\n",
    "    Q = np.zeros_like(vectors)\n",
    "    for i in range(len(vectors)):\n",
    "        v = vectors[i]\n",
    "        for j in range(i):\n",
    "            proj = np.dot(v, Q[j]) / np.dot(Q[j], Q[j]) * Q[j]\n",
    "            v = v - proj\n",
    "        Q[i] = v / np.linalg.norm(v)\n",
    "    return Q\n",
    "    \n",
    "def get_axis(normal):\n",
    "    # Assumes it is norm 1\n",
    "    Q = np.eye(dim)\n",
    "    arg = np.argmax(normal)\n",
    "    if normal[arg]>(1-tol) and np.sum(normal)>(1-tol):\n",
    "        return np.concatenate([Q[:arg], Q[arg+1:]])\n",
    "    return gram_schmidt(np.vstack([normal,Q[:-1]]))[1:]\n",
    "\n",
    "def get_e(i,n):\n",
    "    return np.array(i*[0]+[1]+(n-i-1)*[0])"
   ]
  },
  {
   "cell_type": "code",
   "execution_count": 475,
   "id": "f66de7d5-b4c7-4bfe-a047-9ac153a6a5a7",
   "metadata": {},
   "outputs": [],
   "source": [
    "ax = get_axis(normal)\n",
    "\n",
    "# Project points onto the axis to get all points in the tangent space\n",
    "tangent_points = samples@ax\n",
    "\n",
    "points = man.exp(mean, tangent_points)"
   ]
  },
  {
   "cell_type": "code",
   "execution_count": 476,
   "id": "5510e685-dd03-435d-8343-957d70a1163d",
   "metadata": {},
   "outputs": [],
   "source": [
    "# For estimateing normalisation constant\n",
    "def estimate_normalising(mu, Sigma, manifold, m=None, S=100):\n",
    "    d = manifold.dim\n",
    "    z = np.sqrt((2*np.pi)**d*np.linalg.det(Sigma))\n",
    "    samples = np.random.multivariate_normal(np.zeros(d), Sigma, S)\n",
    "    vs = samples@ax\n",
    "    return  z*np.mean(compute_vol(mu, vs, manifold, m))\n",
    "\n",
    "sphere_M = lambda v: np.array([np.eye(v.shape[-1])]*len(v))\n",
    "\n",
    "def compute_vol(mu, v, manifold, m=None):\n",
    "    if m == None: m = sphere_M\n",
    "    return np.sqrt(np.abs(np.linalg.det(m(manifold.exp(mu, v-mu)))))"
   ]
  },
  {
   "cell_type": "code",
   "execution_count": 477,
   "id": "9d0de8c4-1c42-461b-baee-6cc157c289fb",
   "metadata": {},
   "outputs": [],
   "source": [
    "def extrinsic_to_log(manifold, mu, x, ax):\n",
    "    point = manifold.log(mu, x)\n",
    "    return np.dot(point, ax.T)"
   ]
  },
  {
   "cell_type": "code",
   "execution_count": 625,
   "id": "86c5e63f-941c-44ce-9cd1-6075b43c12d5",
   "metadata": {},
   "outputs": [],
   "source": [
    "def objective_grad_mu(points, mu, Sigma, ax, manifold, S=100):\n",
    "    d = manifold.dim\n",
    "    samples = np.random.multivariate_normal(np.zeros(d), Sigma, S)\n",
    "    vs = samples@ax\n",
    "    ms = compute_vol(mu, vs, manifold)\n",
    "    z = np.sqrt((2*np.pi)**d*np.linalg.det(Sigma))\n",
    "    grad = (np.array([extrinsic_to_log(manifold,mu,p,ax) for p in points])\n",
    "             .mean(0)-z*(ms.reshape(1,-1)@samples)/\n",
    "             (S*estimate_normalising(mu, Sigma, manifold)))\n",
    "    return grad\n",
    "\n",
    "def objective_grad_A(points, mu, Sigma, ax, manifold, S=100):\n",
    "    d = manifold.dim\n",
    "    vals, vecs = np.linalg.eig(Sigma)\n",
    "    A = (vecs@np.diag(1/np.sqrt(vals))).T\n",
    "    samples = np.random.multivariate_normal(np.zeros(d), Sigma, S)\n",
    "    vs = samples@ax\n",
    "    ms = compute_vol(mu, vs, manifold)\n",
    "    term2 = np.zeros((d, d)).astype(dtype='float64')\n",
    "    for m,s in zip(ms,samples):\n",
    "        term2 += m*((s.reshape(-1,1))@(s.reshape(1,-1)))\n",
    "    term2 *= np.sqrt((2*np.pi)**d*np.linalg.det(Sigma))\n",
    "    term2 /= (S*estimate_normalising(mu, Sigma, manifold))\n",
    "    term1 = np.zeros((d, d)).astype(dtype='float64')\n",
    "    for p,v in zip(points,vs):\n",
    "        log = extrinsic_to_log(manifold,mu,p,ax)\n",
    "        term1 += (log.reshape(-1,1))@(log.reshape(1,-1))\n",
    "    term1 /= len(points)\n",
    "    return A@(term1-term2)\n",
    "\n",
    "def objective(points, mu, Sigma, ax, manifold):\n",
    "    d = manifold.dim\n",
    "    result = 0\n",
    "    inv = np.linalg.inv(Sigma)\n",
    "    for p in points:\n",
    "        log = extrinsic_to_log(manifold,mu,p,ax)\n",
    "        result += np.dot(log, inv@log)\n",
    "    result /= 2*len(points)\n",
    "    return result + np.log(estimate_normalising(mu, Sigma, manifold))\n",
    "\n",
    "def convergence_criteria(points, manifold, e=1e-5):\n",
    "    x =  lambda mu0, Sigma0, mu, Sigma, ax: (objective(points, mu, Sigma, ax, manifold)-\n",
    "                                         objective(points, mu0, Sigma0, ax, manifold))\n",
    "    return (lambda mu0, Sigma0, mu, Sigma, ax: np.abs(x(mu, Sigma, mu0, Sigma0, ax))>e)\n",
    "def mle_manifold(points, manifold, step_size_mu=5e-3, step_size_A=0):\n",
    "    d = manifold.dim\n",
    "    Sigma0 = random_cov()\n",
    "    mu0 = manifold.random_point()\n",
    "    Sigma = cov\n",
    "    mu = manifold.random_point()\n",
    "    criterion = convergence_criteria(points, manifold)\n",
    "    count, max_loops = 0, 500\n",
    "    ax = get_axis(mu)\n",
    "    losses = []\n",
    "    while criterion(mu0, Sigma0, mu, Sigma, ax) and count < max_loops:\n",
    "        grad_mu = objective_grad_mu(points, mu, Sigma, ax, manifold)@ax\n",
    "        mu0, Sigma0 = mu, Sigma\n",
    "        mu = manifold.exp(mu0, step_size_mu*grad_mu)[0]\n",
    "        vals, vecs = np.linalg.eig(Sigma)\n",
    "        A = (vecs@np.diag(1/np.sqrt(vals))).T\n",
    "        ax = get_axis(mu)\n",
    "        grad_A = objective_grad_A(points, mu, Sigma0, ax, manifold)\n",
    "        A -= step_size_A*grad_A\n",
    "        Sigma = np.linalg.inv(A.T@A)\n",
    "        losses.append(objective(points, mu, Sigma, ax, manifold))\n",
    "        count += 1\n",
    "    print(count)\n",
    "    return mu, Sigma, losses\n",
    "    \n",
    "    "
   ]
  },
  {
   "cell_type": "code",
   "execution_count": 626,
   "id": "9b15641b-b435-4907-9058-80a173984887",
   "metadata": {},
   "outputs": [
    {
     "name": "stdout",
     "output_type": "stream",
     "text": [
      "500\n"
     ]
    }
   ],
   "source": [
    "mu, Sigma, losses = mle_manifold(points, man)"
   ]
  },
  {
   "cell_type": "code",
   "execution_count": 627,
   "id": "1b89b838-5ebb-45d7-b75e-86935129b7e7",
   "metadata": {},
   "outputs": [],
   "source": [
    "import matplotlib.pyplot as plt"
   ]
  },
  {
   "cell_type": "code",
   "execution_count": 628,
   "id": "1375fd52-93b7-4602-b69a-d48f627147a7",
   "metadata": {},
   "outputs": [
    {
     "data": {
      "text/plain": [
       "[<matplotlib.lines.Line2D at 0x79f116329a80>]"
      ]
     },
     "execution_count": 628,
     "metadata": {},
     "output_type": "execute_result"
    },
    {
     "data": {
      "image/png": "[encoded data removed]",
      "text/plain": [
       "<Figure size 640x480 with 1 Axes>"
      ]
     },
     "metadata": {},
     "output_type": "display_data"
    }
   ],
   "source": [
    "plt.plot(losses)"
   ]
  },
  {
   "cell_type": "code",
   "execution_count": 629,
   "id": "07a8bc81-788d-4fd6-905d-4d85f08fe20b",
   "metadata": {},
   "outputs": [
    {
     "data": {
      "text/plain": [
       "(array([-0.32499972, -0.8170592 ,  0.47622415]),\n",
       " array([[0.00183044, 0.0019768 ],\n",
       "        [0.0019768 , 0.0030393 ]]))"
      ]
     },
     "execution_count": 629,
     "metadata": {},
     "output_type": "execute_result"
    }
   ],
   "source": [
    "mu, Sigma"
   ]
  },
  {
   "cell_type": "code",
   "execution_count": 624,
   "id": "3cccf488-129e-4e67-b874-77b58b9724ac",
   "metadata": {},
   "outputs": [
    {
     "data": {
      "text/plain": [
       "array([-0.32234691, -0.81603838,  0.47976436])"
      ]
     },
     "execution_count": 624,
     "metadata": {},
     "output_type": "execute_result"
    }
   ],
   "source": [
    "mean"
   ]
  },
  {
   "cell_type": "code",
   "execution_count": 584,
   "id": "93d7f970-bec5-4d7d-9336-412b4f0d9a6b",
   "metadata": {},
   "outputs": [
    {
     "data": {
      "text/plain": [
       "array([[0.00183044, 0.0019768 ],\n",
       "       [0.0019768 , 0.0030393 ]])"
      ]
     },
     "execution_count": 584,
     "metadata": {},
     "output_type": "execute_result"
    }
   ],
   "source": [
    "\n",
    "cov"
   ]
  },
  {
   "cell_type": "code",
   "execution_count": null,
   "id": "25fb1eb9-c882-4963-bd1f-847b389d6332",
   "metadata": {},
   "outputs": [],
   "source": []
  },
  {
   "cell_type": "code",
   "execution_count": null,
   "id": "29df5a03-bbc7-48f0-962f-7f475bfbc27f",
   "metadata": {},
   "outputs": [],
   "source": []
  }
 ],
 "metadata": {
  "kernelspec": {
   "display_name": "venv",
   "language": "python",
   "name": "venv"
  },
  "language_info": {
   "codemirror_mode": {
    "name": "ipython",
    "version": 3
   },
   "file_extension": ".py",
   "mimetype": "text/x-python",
   "name": "python",
   "nbconvert_exporter": "python",
   "pygments_lexer": "ipython3",
   "version": "3.10.12"
  }
 },
 "nbformat": 4,
 "nbformat_minor": 5
}

{
 "cells": [
  {
   "cell_type": "code",
   "execution_count": 1,
   "id": "b37c5dd0-c5d3-49c8-ad58-bdb4d8d047cc",
   "metadata": {},
   "outputs": [],
   "source": [
    "import pymanopt\n",
    "import numpy as np\n",
    "\n",
    "dim=3"
   ]
  },
  {
   "cell_type": "code",
   "execution_count": 2,
   "id": "6530c600-c07f-4f61-a775-bb2976466ef9",
   "metadata": {},
   "outputs": [],
   "source": [
    "man = pymanopt.manifolds.Sphere(dim)\n",
    "A = np.random.rand(dim-1, dim-1)\n",
    "cov = np.dot(A, A.transpose())\n",
    "mean = man.random_point()"
   ]
  },
  {
   "cell_type": "code",
   "execution_count": 3,
   "id": "f15df29d-a82c-4d10-b5ee-ac669d349c04",
   "metadata": {},
   "outputs": [
    {
     "data": {
      "text/plain": [
       "(array([-0.44328158, -0.46141816,  0.76850161]),\n",
       " array([[1.26839351, 0.32717228],\n",
       "        [0.32717228, 0.13089927]]))"
      ]
     },
     "execution_count": 3,
     "metadata": {},
     "output_type": "execute_result"
    }
   ],
   "source": [
    "mean, cov"
   ]
  },
  {
   "cell_type": "code",
   "execution_count": 4,
   "id": "8b9eeadb-d859-4a8f-a8d8-7c7b7b0e2aa6",
   "metadata": {},
   "outputs": [],
   "source": [
    "# generate tangent space\n",
    "N = 100\n",
    "samples = np.random.multivariate_normal(np.zeros(dim-1), cov, N)"
   ]
  },
  {
   "cell_type": "code",
   "execution_count": 5,
   "id": "d0fc9c76-ba15-4cc8-a794-ee711fe5bf58",
   "metadata": {},
   "outputs": [],
   "source": [
    "# We need a tangent\n",
    "normal = mean/np.linalg.norm(mean)"
   ]
  },
  {
   "cell_type": "code",
   "execution_count": 6,
   "id": "b9cd8d25-9e27-4667-a08c-9b0935a19786",
   "metadata": {},
   "outputs": [],
   "source": [
    "tol = 1e-5\n",
    "\n",
    "def gram_schmidt(vectors):\n",
    "    Q = np.zeros_like(vectors)\n",
    "    for i in range(len(vectors)):\n",
    "        v = vectors[i]\n",
    "        for j in range(i):\n",
    "            proj = np.dot(v, Q[j]) / np.dot(Q[j], Q[j]) * Q[j]\n",
    "            v = v - proj\n",
    "        Q[i] = v / np.linalg.norm(v)\n",
    "    return Q\n",
    "    \n",
    "def get_axis(normal):\n",
    "    # Assumes it is norm 1\n",
    "    Q = np.eye(dim)\n",
    "    arg = np.argmax(normal)\n",
    "    if normal[arg]>(1-tol) and np.sum(normal)>(1-tol):\n",
    "        return np.concatenate([Q[:arg], Q[arg+1:]])\n",
    "    return gram_schmidt(np.vstack([normal,Q[:-1]]))[1:]\n",
    "\n",
    "def get_e(i,n):\n",
    "    return np.array(i*[0]+[1]+(n-i-1)*[0])"
   ]
  },
  {
   "cell_type": "code",
   "execution_count": 7,
   "id": "f66de7d5-b4c7-4bfe-a047-9ac153a6a5a7",
   "metadata": {},
   "outputs": [],
   "source": [
    "ax = get_axis(normal)\n",
    "\n",
    "# Project points onto the axis to get all points in the tangent space\n",
    "tangent_points = samples@ax\n",
    "\n",
    "points = man.exp(mean, tangent_points)"
   ]
  },
  {
   "cell_type": "code",
   "execution_count": 11,
   "id": "49e7533a-2fb1-4b33-91f0-41a28931292f",
   "metadata": {},
   "outputs": [
    {
     "data": {
      "text/plain": [
       "np.float64(0.05899007853121325)"
      ]
     },
     "execution_count": 11,
     "metadata": {},
     "output_type": "execute_result"
    }
   ],
   "source": [
    "np.linalg.det(cov)"
   ]
  },
  {
   "cell_type": "code",
   "execution_count": 38,
   "id": "5510e685-dd03-435d-8343-957d70a1163d",
   "metadata": {},
   "outputs": [],
   "source": [
    "# For estimateing normalisation constant\n",
    "\n",
    "def estimate_normalising(mu, Sigma, m, manifold, S=100):\n",
    "    d = manifold.dim\n",
    "    z = np.sqrt((2*np.pi)**d*np.linalg.det(Sigma))\n",
    "    samples = np.random.multivariate_normal(np.zeros(d), Sigma, S)\n",
    "    ax = get_axis(mu)\n",
    "    vs = samples@ax\n",
    "    return  z*np.mean(compute_vol(mu, vs, m, manifold))\n",
    "\n",
    "sphere_M = lambda v: v\n",
    "\n",
    "def compute_vol(mu, v, m, manifold):\n",
    "    return np.sqrt(np.abs(m(manifold.exp(mu, v))))"
   ]
  },
  {
   "cell_type": "code",
   "execution_count": 39,
   "id": "082e7477-d206-45d7-97af-1da059b181ce",
   "metadata": {},
   "outputs": [
    {
     "data": {
      "text/plain": [
       "np.float64(0.897414545782442)"
      ]
     },
     "execution_count": 39,
     "metadata": {},
     "output_type": "execute_result"
    }
   ],
   "source": [
    "estimate_normalising(mean, cov, sphere_M, man)"
   ]
  },
  {
   "cell_type": "code",
   "execution_count": 16,
   "id": "7a876d46-a3dd-4bea-8d08-c99ecaa20e4d",
   "metadata": {},
   "outputs": [
    {
     "data": {
      "text/plain": [
       "3.141592653589793"
      ]
     },
     "execution_count": 16,
     "metadata": {},
     "output_type": "execute_result"
    }
   ],
   "source": [
    "np.pi"
   ]
  },
  {
   "cell_type": "code",
   "execution_count": null,
   "id": "86c5e63f-941c-44ce-9cd1-6075b43c12d5",
   "metadata": {},
   "outputs": [],
   "source": []
  }
 ],
 "metadata": {
  "kernelspec": {
   "display_name": "venv",
   "language": "python",
   "name": "venv"
  },
  "language_info": {
   "codemirror_mode": {
    "name": "ipython",
    "version": 3
   },
   "file_extension": ".py",
   "mimetype": "text/x-python",
   "name": "python",
   "nbconvert_exporter": "python",
   "pygments_lexer": "ipython3",
   "version": "3.10.12"
  }
 },
 "nbformat": 4,
 "nbformat_minor": 5
}

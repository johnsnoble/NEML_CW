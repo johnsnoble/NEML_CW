{
 "cells": [
  {
   "cell_type": "code",
   "execution_count": 1,
   "metadata": {},
   "outputs": [],
   "source": [
    "import pymanopt\n",
    "import numpy as np\n",
    "from scipy.integrate import solve_ivp\n",
    "from scipy.optimize import minimize\n",
    "import matplotlib.pyplot as plt\n",
    "from mpl_toolkits.mplot3d import Axes3D\n",
    "from pymanopt.manifolds import Sphere\n",
    "import plotly.graph_objects as go\n",
    "from abc import ABC, abstractmethod"
   ]
  },
  {
   "cell_type": "code",
   "execution_count": 2,
   "metadata": {},
   "outputs": [],
   "source": [
    "dim = 3"
   ]
  },
  {
   "cell_type": "code",
   "execution_count": 3,
   "metadata": {},
   "outputs": [],
   "source": [
    "class Manifold(ABC):\n",
    "    \"\"\"\n",
    "    Abstract base class for manifolds with exp and log maps.\n",
    "    \"\"\"\n",
    "\n",
    "    @abstractmethod\n",
    "    def exp(self, x, v):\n",
    "        \"\"\"Exponential map: tangent space -> manifold.\"\"\"\n",
    "        pass\n",
    "\n",
    "    @abstractmethod\n",
    "    def log(self, x, y):\n",
    "        \"\"\"Logarithmic map: manifold -> tangent space.\"\"\"\n",
    "        pass"
   ]
  },
  {
   "cell_type": "code",
   "execution_count": 4,
   "metadata": {},
   "outputs": [],
   "source": [
    "# Wrapper around pymanopt Sphere manifold\n",
    "class PymanoptSphereManifold(Manifold):\n",
    "    def __init__(self, dim):\n",
    "        self.manifold = Sphere(dim)\n",
    "\n",
    "    def exp(self, x, v):\n",
    "        return self.manifold.exp(x, v)\n",
    "\n",
    "    def log(self, x, y):\n",
    "        return self.manifold.log(x, y)\n",
    "\n",
    "    def __getattr__(self, attr):\n",
    "        return getattr(self.manifold, attr)"
   ]
  },
  {
   "cell_type": "code",
   "execution_count": 5,
   "metadata": {},
   "outputs": [],
   "source": [
    "# Compute local metric tensor\n",
    "def local_metric_tensor(x, data, rho=1e-5):\n",
    "    \"\"\"\n",
    "    Computes the local diagonal metric tensor at point x.\n",
    "\n",
    "    Parameters:\n",
    "    - x: (D,) point at which the metric is evaluated\n",
    "    - data: (N, D) array of data points\n",
    "    - rho: regularization constant to prevent singularities\n",
    "\n",
    "    Returns:\n",
    "    - metric_tensor: (D,) diagonal elements of the metric tensor at point x\n",
    "    \"\"\"\n",
    "    # Gaussian kernel bandwidth\n",
    "    sigma = 0.5\n",
    "\n",
    "    # The metric tensor is a diagonal matrix with diagonal elements\n",
    "    diff_sq = (data - x)**2\n",
    "    distances_sq = np.sum(diff_sq, axis=1)\n",
    "    weights = np.exp(-distances_sq / (2 * sigma**2))\n",
    "    weighted_cov_diag = np.sum(weights[:, np.newaxis] * diff_sq, axis=0) + rho\n",
    "    metric_tensor = np.diag(1.0 / weighted_cov_diag)\n",
    "\n",
    "    return metric_tensor\n",
    "\n",
    "# Determinant of local metric (assumed diagonal)\n",
    "def det_local_metric(x, data, rho=1e-5):\n",
    "    metric_tensor = local_metric_tensor(x, data, rho)\n",
    "    metric_det = np.prod(metric_tensor)\n",
    "    return metric_det"
   ]
  },
  {
   "cell_type": "code",
   "execution_count": 6,
   "metadata": {},
   "outputs": [],
   "source": [
    "tol = 1e-5\n",
    "\n",
    "def gram_schmidt(vectors):\n",
    "    Q = np.zeros_like(vectors)\n",
    "    for i in range(len(vectors)):\n",
    "        v = vectors[i]\n",
    "        for j in range(i):\n",
    "            proj = np.dot(v, Q[j]) / np.dot(Q[j], Q[j]) * Q[j]\n",
    "            v = v - proj\n",
    "        Q[i] = v / np.linalg.norm(v)\n",
    "    return Q\n",
    "    \n",
    "def get_axis(normal):\n",
    "    # Assumes it is norm 1\n",
    "    Q = np.eye(dim)\n",
    "    arg = np.argmax(normal)\n",
    "    if normal[arg]>(1-tol) and np.sum(normal)>(1-tol):\n",
    "        return np.concatenate([Q[:arg], Q[arg+1:]])\n",
    "    return gram_schmidt(np.vstack([normal,Q[:-1]]))[1:]\n",
    "\n",
    "def get_e(i,n):\n",
    "    return np.array(i*[0]+[1]+(n-i-1)*[0])"
   ]
  },
  {
   "cell_type": "code",
   "execution_count": 7,
   "metadata": {},
   "outputs": [],
   "source": [
    "# Compute derivative of the metric tensor numerically\n",
    "def metric_tensor_jacobian(x, data, eps=1e-5):\n",
    "    D = len(x)\n",
    "    jac = np.zeros((D, D, D))\n",
    "    for i in range(D):\n",
    "        dx = np.zeros(D)\n",
    "        dx[i] = eps\n",
    "        jac[:, :, i] = (local_metric_tensor(x + dx, data) - local_metric_tensor(x - dx, data)) / (2 * eps)\n",
    "    return jac\n",
    "\n",
    "# Geodesic ODE function\n",
    "def geodesic_ode(t, y, data):\n",
    "    D = len(y) // 2\n",
    "    pos, vel = y[:D], y[D:]\n",
    "\n",
    "    M = local_metric_tensor(pos, data)\n",
    "    M_inv = np.linalg.inv(M)\n",
    "    M_jac = metric_tensor_jacobian(pos, data)\n",
    "\n",
    "    # Compute Christoffel term\n",
    "    christoffel = np.zeros(D)\n",
    "    for i in range(D):\n",
    "        christoffel[i] = vel @ M_jac[:, :, i] @ vel\n",
    "\n",
    "    acc = -0.5 * M_inv @ christoffel\n",
    "    return np.concatenate([vel, acc])\n",
    "\n",
    "# Exponential map (Initial value problem)\n",
    "def exp_map(x, v, data, t_final=1.0):\n",
    "    y0 = np.concatenate([x, v])\n",
    "    sol = solve_ivp(geodesic_ode, [0, t_final], y0, args=(data,), method='RK45', atol=1e-8)\n",
    "    return sol.y[:len(x), -1]\n",
    "\n",
    "# Logarithmic map (Boundary value problem solved via optimization)\n",
    "def log_map(x, y_target, data, t_final=1.0):\n",
    "    D = len(x)\n",
    "\n",
    "    def objective(v_guess):\n",
    "        y_final = exp_map(x, v_guess, data, t_final)\n",
    "        return np.linalg.norm(y_final - y_target)**2\n",
    "\n",
    "    res = minimize(objective, np.zeros(D), method='BFGS', options={'gtol':1e-8, 'disp':False})\n",
    "    return res.x"
   ]
  },
  {
   "cell_type": "code",
   "execution_count": 22,
   "metadata": {},
   "outputs": [],
   "source": [
    "class LearningManifold(Manifold):\n",
    "    def __init__(self, data):\n",
    "        self.data = data\n",
    "        self.t_final = 1.0\n",
    "\n",
    "    def exp(self, x, v):\n",
    "        y0 = np.concatenate([x, v])\n",
    "        sol = solve_ivp(geodesic_ode, [0, self.t_final], y0, args=(self.data,), method='RK45', atol=1e-8)\n",
    "        return sol.y[:len(x), -1]\n",
    "\n",
    "    def log(self, x, y):\n",
    "        D = len(x)\n",
    "\n",
    "        def objective(v_guess):\n",
    "            y_final = exp_map(x, v_guess, self.data, self.t_final)\n",
    "            return np.linalg.norm(y_final - y)**2\n",
    "\n",
    "        res = minimize(objective, np.zeros(D), method='BFGS', options={'gtol':1e-8, 'disp':False})\n",
    "        return res.x"
   ]
  },
  {
   "cell_type": "code",
   "execution_count": 44,
   "metadata": {},
   "outputs": [],
   "source": [
    "def plot_tangent_points(x, tangent_vectors):    \n",
    "    # Sphere mesh\n",
    "    theta, phi = np.mgrid[0:2*np.pi:50j, 0:np.pi:25j]\n",
    "    xs = np.cos(theta)*np.sin(phi)\n",
    "    ys = np.sin(theta)*np.sin(phi)\n",
    "    zs = np.cos(phi)\n",
    "\n",
    "    tangent_points = tangent_vectors + x\n",
    "\n",
    "    fig = go.Figure()\n",
    "\n",
    "    # Sphere surface\n",
    "    fig.add_trace(go.Surface(x=xs, y=ys, z=zs, opacity=0.3, colorscale='Viridis', showscale=False))\n",
    "\n",
    "    # Projected points\n",
    "    fig.add_trace(go.Scatter3d(x=tangent_points[:,0], y=tangent_points[:,1], z=tangent_points[:,2],\n",
    "                            mode='markers', marker=dict(size=3, color='red'), name='Tangent Points'))\n",
    "\n",
    "    # Base point\n",
    "    fig.add_trace(go.Scatter3d(x=[x[0]], y=[x[1]], z=[x[2]],\n",
    "                            mode='markers', marker=dict(size=8, color='black'), name='Base Point'))\n",
    "\n",
    "    fig.update_layout(\n",
    "        scene=dict(\n",
    "            aspectmode='data',\n",
    "        ),\n",
    "        width=700, \n",
    "        height=700,\n",
    "        title='Tangent Points and Sphere Mesh'\n",
    "    )\n",
    "\n",
    "    fig.show()"
   ]
  },
  {
   "cell_type": "code",
   "execution_count": 45,
   "metadata": {},
   "outputs": [],
   "source": [
    "def plot_projected_sphere(x, projected_points):\n",
    "    theta, phi = np.mgrid[0:2*np.pi:50j, 0:np.pi:25j]\n",
    "    xs = np.cos(theta)*np.sin(phi)\n",
    "    ys = np.sin(theta)*np.sin(phi)\n",
    "    zs = np.cos(phi)\n",
    "\n",
    "    fig = go.Figure()\n",
    "\n",
    "    # Sphere surface\n",
    "    fig.add_trace(go.Surface(x=xs, y=ys, z=zs, opacity=0.3, colorscale='Viridis', showscale=False))\n",
    "\n",
    "    # Projected points\n",
    "    fig.add_trace(go.Scatter3d(x=projected_points[:,0], y=projected_points[:,1], z=projected_points[:,2],\n",
    "                            mode='markers', marker=dict(size=3, color='red'), name='Projected Points'))\n",
    "\n",
    "    # Base point\n",
    "    fig.add_trace(go.Scatter3d(x=[x[0]], y=[x[1]], z=[x[2]],\n",
    "                            mode='markers', marker=dict(size=8, color='black'), name='Base Point'))\n",
    "\n",
    "    fig.update_layout(\n",
    "        scene=dict(\n",
    "            aspectmode=\"cube\"\n",
    "        ), \n",
    "        width=700, \n",
    "        height=700,\n",
    "        title='Interactive Projection on Sphere'\n",
    "    )\n",
    "    fig.show()\n"
   ]
  },
  {
   "cell_type": "code",
   "execution_count": 100,
   "metadata": {},
   "outputs": [],
   "source": [
    "def plot_mean(target, mus):\n",
    "    theta, phi = np.mgrid[0:2*np.pi:50j, 0:np.pi:25j]\n",
    "    xs = np.cos(theta)*np.sin(phi)\n",
    "    ys = np.sin(theta)*np.sin(phi)\n",
    "    zs = np.cos(phi)\n",
    "\n",
    "    fig = go.Figure()\n",
    "\n",
    "    # Sphere surface\n",
    "    fig.add_trace(go.Surface(x=xs, y=ys, z=zs, opacity=0.3, colorscale='Viridis', showscale=False))\n",
    "\n",
    "    # Target point\n",
    "    fig.add_trace(go.Scatter3d(x=[target[0]], y=[target[1]], z=[target[2]],\n",
    "                            mode='markers', marker=dict(size=8, color='black'), name='Target Mean'))\n",
    "    \n",
    "    # Trail of previous means\n",
    "    # for i in range(len(mus)-1):\n",
    "    fig.add_trace(go.Scatter3d(x=mus[:,0], y=mus[:,1], z=mus[:,2],\n",
    "                            mode='markers', marker=dict(size=2, color='blue'), showlegend=False))\n",
    "\n",
    "    # Current mean\n",
    "    fig.add_trace(go.Scatter3d(x=[mus[-1,0]], y=[mus[-1,1]], z=[mus[-1,2]],\n",
    "                            mode='markers', marker=dict(size=8, color='blue'), name='Current Mean'))\n",
    "    fig.update_layout(\n",
    "        scene=dict(\n",
    "            aspectmode=\"cube\"\n",
    "        ), \n",
    "        width=700, \n",
    "        height=700,\n",
    "        title=f'Target vs Achieved Mean'\n",
    "    )\n",
    "    fig.show()"
   ]
  },
  {
   "cell_type": "code",
   "execution_count": 103,
   "metadata": {},
   "outputs": [],
   "source": [
    "def plot_mean_and_points(target, mus, projected_points):\n",
    "    theta, phi = np.mgrid[0:2*np.pi:50j, 0:np.pi:25j]\n",
    "    xs = np.cos(theta)*np.sin(phi)\n",
    "    ys = np.sin(theta)*np.sin(phi)\n",
    "    zs = np.cos(phi)\n",
    "\n",
    "    fig = go.Figure()\n",
    "\n",
    "    # Sphere surface\n",
    "    fig.add_trace(go.Surface(x=xs, y=ys, z=zs, opacity=0.3, colorscale='Viridis', showscale=False))\n",
    "\n",
    "    # Target point\n",
    "    fig.add_trace(go.Scatter3d(x=[target[0]], y=[target[1]], z=[target[2]],\n",
    "                            mode='markers', marker=dict(size=8, color='black'), name='Target Mean'))\n",
    "    \n",
    "    # Trail of previous means \n",
    "    fig.add_trace(go.Scatter3d(x=mus[:,0], y=mus[:,1], z=mus[:,2],\n",
    "                            mode='markers', marker=dict(size=2, color='blue'), showlegend=False))\n",
    "\n",
    "    # Current mean\n",
    "    fig.add_trace(go.Scatter3d(x=[mus[-1,0]], y=[mus[-1,1]], z=[mus[-1,2]],\n",
    "                            mode='markers', marker=dict(size=8, color='blue'), name='Current Mean'))\n",
    "    \n",
    "    # Projected points\n",
    "    fig.add_trace(go.Scatter3d(x=projected_points[:,0], y=projected_points[:,1], z=projected_points[:,2],\n",
    "                            mode='markers', marker=dict(size=3, color='red'), name='Projected Points'))\n",
    "    \n",
    "    fig.update_layout(\n",
    "        scene=dict(\n",
    "            aspectmode=\"cube\"\n",
    "        ), \n",
    "        width=700, \n",
    "        height=700,\n",
    "        title=f'Target vs Achieved Mean'\n",
    "    )\n",
    "    fig.show()"
   ]
  },
  {
   "cell_type": "code",
   "execution_count": 46,
   "metadata": {},
   "outputs": [],
   "source": [
    "def estimate_normalization_constant(data, mu, Sigma, manifold, num_samples=1000):\n",
    "    D = len(mu) - 1\n",
    "\n",
    "    # Compute normalization of Euclidean normal distribution\n",
    "    Z = np.sqrt((2 * np.pi) ** D * np.linalg.det(Sigma))\n",
    "\n",
    "    # Generate tangent space samples\n",
    "    axis = get_axis(mu)\n",
    "    vectors = np.random.multivariate_normal(np.zeros(D), Sigma, num_samples)\n",
    "    tangent_vectors = vectors@axis\n",
    "\n",
    "    # Perform Monte Carlo integration\n",
    "    metric_sum = np.sum(compute_vol(mu, tangent_vectors, manifold, data))\n",
    "\n",
    "    C_hat = Z * metric_sum / num_samples\n",
    "\n",
    "    return C_hat\n",
    "\n",
    "def compute_vol(mu, vs, manifold, data):\n",
    "    metric_tensors = np.array([local_metric_tensor(manifold.exp(mu, v), data) for v in vs])\n",
    "    return np.sqrt(np.abs(np.linalg.det(metric_tensors)))"
   ]
  },
  {
   "cell_type": "code",
   "execution_count": 90,
   "metadata": {},
   "outputs": [],
   "source": [
    "def random_cov():\n",
    "    A = np.random.rand(dim-1, dim-1)\n",
    "    return np.dot(A, A.transpose())\n",
    "\n",
    "def extrinsic_to_log(manifold, mu, x, ax):\n",
    "    point = manifold.log(mu, x)\n",
    "    return np.dot(point, ax.T)\n",
    "\n",
    "def objective_grad_mu(points, mu, Sigma, ax, manifold, S=100):\n",
    "    d = manifold.dim\n",
    "    samples = np.random.multivariate_normal(np.zeros(d), Sigma, S)\n",
    "    vs = samples@ax\n",
    "    ms = compute_vol(mu, vs, manifold, points)\n",
    "    z = np.sqrt((2*np.pi)**d*np.linalg.det(Sigma))\n",
    "    grad = (np.array([extrinsic_to_log(manifold,mu,p,ax) for p in points])\n",
    "             .mean(0)-z*(ms.reshape(1,-1)@samples)/\n",
    "             (S * estimate_normalization_constant(points, mu, Sigma, manifold)))\n",
    "    return grad\n",
    "\n",
    "def objective_grad_A(points, mu, Sigma, axis, manifold, S=100):\n",
    "    d = manifold.dim\n",
    "    vals, vecs = np.linalg.eig(Sigma)\n",
    "    A = (vecs@np.diag(1/np.sqrt(vals))).T\n",
    "    samples = np.random.multivariate_normal(np.zeros(d), Sigma, S)\n",
    "    vs = samples@axis\n",
    "    ms = compute_vol(mu, vs, manifold, points)\n",
    "    term2 = np.zeros((d, d)).astype(dtype='float64')\n",
    "    for m,s in zip(ms,samples):\n",
    "        term2 += m*((s.reshape(-1,1))@(s.reshape(1,-1)))\n",
    "    term2 *= np.sqrt((2*np.pi)**d*np.linalg.det(Sigma))\n",
    "    term2 /= (S * estimate_normalization_constant(points, mu, Sigma, manifold))\n",
    "    term1 = np.zeros((d, d)).astype(dtype='float64')\n",
    "    for p,v in zip(points, vs):\n",
    "        log = extrinsic_to_log(manifold,mu,p,axis)\n",
    "        term1 += (log.reshape(-1,1))@(log.reshape(1,-1))\n",
    "    term1 /= len(points)\n",
    "    return A@(term1-term2)\n",
    "\n",
    "def objective(points, mu, Sigma, manifold, axis):\n",
    "    d = manifold.dim\n",
    "    result = 0\n",
    "    inv = np.linalg.inv(Sigma)\n",
    "    for p in points:\n",
    "        log = extrinsic_to_log(manifold, mu, p, axis)\n",
    "        result += np.dot(log, inv@log)\n",
    "    result /= 2*len(points)\n",
    "    return result + np.log(estimate_normalization_constant(points, mu, Sigma, manifold))\n",
    "\n",
    "def convergence_criteria(points, manifold, e=1e-4):\n",
    "    x = lambda mu0, Sigma0, mu, Sigma, axis: (objective(points, mu, Sigma, manifold, axis)-\n",
    "                                         objective(points, mu0, Sigma0, manifold, axis))\n",
    "    return (lambda mu0, Sigma0, mu, Sigma, axis: np.abs(x(mu, Sigma, mu0, Sigma0, axis))>e)\n",
    "\n",
    "def mle_manifold(points, manifold, step_size_mu=1e-2, step_size_A=1e-2):\n",
    "    d = manifold.dim\n",
    "    Sigma0 = random_cov()\n",
    "    mu0 = manifold.random_point()\n",
    "    Sigma = random_cov()\n",
    "    # Sigma = 0.1**2 * np.eye(d)\n",
    "    mu = manifold.random_point()\n",
    "    axis = get_axis(mu)\n",
    "    criterion = convergence_criteria(points, manifold)\n",
    "    count, max_loops = 0, 100\n",
    "    mus = []\n",
    "    mus.append(mu)\n",
    "    while criterion(mu0, Sigma0, mu, Sigma, axis) and count < max_loops:\n",
    "        # norm_const = estimate_normalization_constant(mu, Sigma, manifold)\n",
    "        grad_mu = objective_grad_mu(points, mu, Sigma, axis, manifold)@axis\n",
    "        mu0, Sigma0 = mu, Sigma\n",
    "        mu = manifold.exp(mu0, step_size_mu*grad_mu)[0]\n",
    "        axis = get_axis(mu)\n",
    "        # norm_const = estimate_normalization_constant(mu, Sigma0, manifold)\n",
    "        vals, vecs = np.linalg.eig(Sigma)\n",
    "        A = (vecs@np.diag(1/np.sqrt(vals))).T\n",
    "        grad_A = objective_grad_A(points, mu, Sigma0, axis, manifold)\n",
    "        A -= step_size_A*grad_A\n",
    "        Sigma = np.linalg.inv(A.T@A)\n",
    "        \n",
    "        mus.append(mu)\n",
    "        count += 1\n",
    "\n",
    "    return mus, Sigma"
   ]
  },
  {
   "cell_type": "code",
   "execution_count": null,
   "metadata": {},
   "outputs": [],
   "source": [
    "sigma = 0.7\n",
    "sphere = PymanoptSphereManifold(dim)\n",
    "x = sphere.random_point()\n",
    "ax = get_axis(x)\n",
    "data = np.random.multivariate_normal(np.zeros(dim - 1), sigma**2 * np.eye(dim - 1), size=1000)\n",
    "tangent_vectors = data@ax\n",
    "tangent_vectors[:10]"
   ]
  },
  {
   "cell_type": "code",
   "execution_count": null,
   "metadata": {},
   "outputs": [],
   "source": [
    "projected_points = np.array([sphere.exp(x, t) for t in tangent_vectors])\n",
    "print(f'projected_points: {projected_points[:10]}')\n",
    "recon_vectors = np.array([sphere.log(x, y) for y in projected_points])\n",
    "print(f'reconstructed vectors: {recon_vectors[:10]}')"
   ]
  },
  {
   "cell_type": "code",
   "execution_count": null,
   "metadata": {},
   "outputs": [],
   "source": [
    "tangent_vector = tangent_vectors[np.random.randint(0, len(tangent_vectors))]\n",
    "print(f'tangent vector: {tangent_vector}')\n",
    "\n",
    "y = exp_map(x, tangent_vector, projected_points)\n",
    "y_auto = sphere.exp(x, tangent_vector)\n",
    "print(f'y (our implementation): {y}')\n",
    "print(f'y (pymanopt implementation): {y_auto}')\n",
    "\n",
    "recon_vector = log_map(x, y, projected_points)\n",
    "print(f'reconstructed vector: {recon_vector}')"
   ]
  },
  {
   "cell_type": "code",
   "execution_count": 105,
   "metadata": {},
   "outputs": [
    {
     "data": {
      "application/vnd.plotly.v1+json": {
       "config": {
        "plotlyServerURL": "https://plot.ly"
       },
       "data": [
        {
         "colorscale": [
          [
           0,
           "#440154"
          ],
          [
           0.1111111111111111,
           "#482878"
          ],
          [
           0.2222222222222222,
           "#3e4989"
          ],
          [
           0.3333333333333333,
           "#31688e"
          ],
          [
           0.4444444444444444,
           "#26828e"
          ],
          [
           0.5555555555555556,
           "#1f9e89"
          ],
          [
           0.6666666666666666,
           "#35b779"
          ],
          [
           0.7777777777777778,
           "#6ece58"
          ],
          [
           0.8888888888888888,
           "#b5de2b"
          ],
          [
           1,
           "#fde725"
          ]
         ],
         "opacity": 0.3,
         "showscale": false,
         "type": "surface",
         "x": {
          "bdata": "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",
          "dtype": "f8",
          "shape": "50, 25"
         },
         "y": {
          "bdata": "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",
          "dtype": "f8",
          "shape": "50, 25"
         },
         "z": {
          "bdata": "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",
          "dtype": "f8",
          "shape": "50, 25"
         }
        },
        {
         "marker": {
          "color": "red",
          "size": 3
         },
         "mode": "markers",
         "name": "Tangent Points",
         "type": "scatter3d",
         "x": {
          "bdata": "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",
          "dtype": "f8"
         },
         "y": {
          "bdata": "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",
          "dtype": "f8"
         },
         "z": {
          "bdata": "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",
          "dtype": "f8"
         }
        },
        {
         "marker": {
          "color": "black",
          "size": 8
         },
         "mode": "markers",
         "name": "Base Point",
         "type": "scatter3d",
         "x": [
          -0.10978552368136928
         ],
         "y": [
          0.4795498778884235
         ],
         "z": [
          -0.8706199247703935
         ]
        }
       ],
       "layout": {
        "height": 700,
        "scene": {
         "aspectmode": "data"
        },
        "template": {
         "data": {
          "bar": [
           {
            "error_x": {
             "color": "#2a3f5f"
            },
            "error_y": {
             "color": "#2a3f5f"
            },
            "marker": {
             "line": {
              "color": "#E5ECF6",
              "width": 0.5
             },
             "pattern": {
              "fillmode": "overlay",
              "size": 10,
              "solidity": 0.2
             }
            },
            "type": "bar"
           }
          ],
          "barpolar": [
           {
            "marker": {
             "line": {
              "color": "#E5ECF6",
              "width": 0.5
             },
             "pattern": {
              "fillmode": "overlay",
              "size": 10,
              "solidity": 0.2
             }
            },
            "type": "barpolar"
           }
          ],
          "carpet": [
           {
            "aaxis": {
             "endlinecolor": "#2a3f5f",
             "gridcolor": "white",
             "linecolor": "white",
             "minorgridcolor": "white",
             "startlinecolor": "#2a3f5f"
            },
            "baxis": {
             "endlinecolor": "#2a3f5f",
             "gridcolor": "white",
             "linecolor": "white",
             "minorgridcolor": "white",
             "startlinecolor": "#2a3f5f"
            },
            "type": "carpet"
           }
          ],
          "choropleth": [
           {
            "colorbar": {
             "outlinewidth": 0,
             "ticks": ""
            },
            "type": "choropleth"
           }
          ],
          "contour": [
           {
            "colorbar": {
             "outlinewidth": 0,
             "ticks": ""
            },
            "colorscale": [
             [
              0,
              "#0d0887"
             ],
             [
              0.1111111111111111,
              "#46039f"
             ],
             [
              0.2222222222222222,
              "#7201a8"
             ],
             [
              0.3333333333333333,
              "#9c179e"
             ],
             [
              0.4444444444444444,
              "#bd3786"
             ],
             [
              0.5555555555555556,
              "#d8576b"
             ],
             [
              0.6666666666666666,
              "#ed7953"
             ],
             [
              0.7777777777777778,
              "#fb9f3a"
             ],
             [
              0.8888888888888888,
              "#fdca26"
             ],
             [
              1,
              "#f0f921"
             ]
            ],
            "type": "contour"
           }
          ],
          "contourcarpet": [
           {
            "colorbar": {
             "outlinewidth": 0,
             "ticks": ""
            },
            "type": "contourcarpet"
           }
          ],
          "heatmap": [
           {
            "colorbar": {
             "outlinewidth": 0,
             "ticks": ""
            },
            "colorscale": [
             [
              0,
              "#0d0887"
             ],
             [
              0.1111111111111111,
              "#46039f"
             ],
             [
              0.2222222222222222,
              "#7201a8"
             ],
             [
              0.3333333333333333,
              "#9c179e"
             ],
             [
              0.4444444444444444,
              "#bd3786"
             ],
             [
              0.5555555555555556,
              "#d8576b"
             ],
             [
              0.6666666666666666,
              "#ed7953"
             ],
             [
              0.7777777777777778,
              "#fb9f3a"
             ],
             [
              0.8888888888888888,
              "#fdca26"
             ],
             [
              1,
              "#f0f921"
             ]
            ],
            "type": "heatmap"
           }
          ],
          "histogram": [
           {
            "marker": {
             "pattern": {
              "fillmode": "overlay",
              "size": 10,
              "solidity": 0.2
             }
            },
            "type": "histogram"
           }
          ],
          "histogram2d": [
           {
            "colorbar": {
             "outlinewidth": 0,
             "ticks": ""
            },
            "colorscale": [
             [
              0,
              "#0d0887"
             ],
             [
              0.1111111111111111,
              "#46039f"
             ],
             [
              0.2222222222222222,
              "#7201a8"
             ],
             [
              0.3333333333333333,
              "#9c179e"
             ],
             [
              0.4444444444444444,
              "#bd3786"
             ],
             [
              0.5555555555555556,
              "#d8576b"
             ],
             [
              0.6666666666666666,
              "#ed7953"
             ],
             [
              0.7777777777777778,
              "#fb9f3a"
             ],
             [
              0.8888888888888888,
              "#fdca26"
             ],
             [
              1,
              "#f0f921"
             ]
            ],
            "type": "histogram2d"
           }
          ],
          "histogram2dcontour": [
           {
            "colorbar": {
             "outlinewidth": 0,
             "ticks": ""
            },
            "colorscale": [
             [
              0,
              "#0d0887"
             ],
             [
              0.1111111111111111,
              "#46039f"
             ],
             [
              0.2222222222222222,
              "#7201a8"
             ],
             [
              0.3333333333333333,
              "#9c179e"
             ],
             [
              0.4444444444444444,
              "#bd3786"
             ],
             [
              0.5555555555555556,
              "#d8576b"
             ],
             [
              0.6666666666666666,
              "#ed7953"
             ],
             [
              0.7777777777777778,
              "#fb9f3a"
             ],
             [
              0.8888888888888888,
              "#fdca26"
             ],
             [
              1,
              "#f0f921"
             ]
            ],
            "type": "histogram2dcontour"
           }
          ],
          "mesh3d": [
           {
            "colorbar": {
             "outlinewidth": 0,
             "ticks": ""
            },
            "type": "mesh3d"
           }
          ],
          "parcoords": [
           {
            "line": {
             "colorbar": {
              "outlinewidth": 0,
              "ticks": ""
             }
            },
            "type": "parcoords"
           }
          ],
          "pie": [
           {
            "automargin": true,
            "type": "pie"
           }
          ],
          "scatter": [
           {
            "fillpattern": {
             "fillmode": "overlay",
             "size": 10,
             "solidity": 0.2
            },
            "type": "scatter"
           }
          ],
          "scatter3d": [
           {
            "line": {
             "colorbar": {
              "outlinewidth": 0,
              "ticks": ""
             }
            },
            "marker": {
             "colorbar": {
              "outlinewidth": 0,
              "ticks": ""
             }
            },
            "type": "scatter3d"
           }
          ],
          "scattercarpet": [
           {
            "marker": {
             "colorbar": {
              "outlinewidth": 0,
              "ticks": ""
             }
            },
            "type": "scattercarpet"
           }
          ],
          "scattergeo": [
           {
            "marker": {
             "colorbar": {
              "outlinewidth": 0,
              "ticks": ""
             }
            },
            "type": "scattergeo"
           }
          ],
          "scattergl": [
           {
            "marker": {
             "colorbar": {
              "outlinewidth": 0,
              "ticks": ""
             }
            },
            "type": "scattergl"
           }
          ],
          "scattermap": [
           {
            "marker": {
             "colorbar": {
              "outlinewidth": 0,
              "ticks": ""
             }
            },
            "type": "scattermap"
           }
          ],
          "scattermapbox": [
           {
            "marker": {
             "colorbar": {
              "outlinewidth": 0,
              "ticks": ""
             }
            },
            "type": "scattermapbox"
           }
          ],
          "scatterpolar": [
           {
            "marker": {
             "colorbar": {
              "outlinewidth": 0,
              "ticks": ""
             }
            },
            "type": "scatterpolar"
           }
          ],
          "scatterpolargl": [
           {
            "marker": {
             "colorbar": {
              "outlinewidth": 0,
              "ticks": ""
             }
            },
            "type": "scatterpolargl"
           }
          ],
          "scatterternary": [
           {
            "marker": {
             "colorbar": {
              "outlinewidth": 0,
              "ticks": ""
             }
            },
            "type": "scatterternary"
           }
          ],
          "surface": [
           {
            "colorbar": {
             "outlinewidth": 0,
             "ticks": ""
            },
            "colorscale": [
             [
              0,
              "#0d0887"
             ],
             [
              0.1111111111111111,
              "#46039f"
             ],
             [
              0.2222222222222222,
              "#7201a8"
             ],
             [
              0.3333333333333333,
              "#9c179e"
             ],
             [
              0.4444444444444444,
              "#bd3786"
             ],
             [
              0.5555555555555556,
              "#d8576b"
             ],
             [
              0.6666666666666666,
              "#ed7953"
             ],
             [
              0.7777777777777778,
              "#fb9f3a"
             ],
             [
              0.8888888888888888,
              "#fdca26"
             ],
             [
              1,
              "#f0f921"
             ]
            ],
            "type": "surface"
           }
          ],
          "table": [
           {
            "cells": {
             "fill": {
              "color": "#EBF0F8"
             },
             "line": {
              "color": "white"
             }
            },
            "header": {
             "fill": {
              "color": "#C8D4E3"
             },
             "line": {
              "color": "white"
             }
            },
            "type": "table"
           }
          ]
         },
         "layout": {
          "annotationdefaults": {
           "arrowcolor": "#2a3f5f",
           "arrowhead": 0,
           "arrowwidth": 1
          },
          "autotypenumbers": "strict",
          "coloraxis": {
           "colorbar": {
            "outlinewidth": 0,
            "ticks": ""
           }
          },
          "colorscale": {
           "diverging": [
            [
             0,
             "#8e0152"
            ],
            [
             0.1,
             "#c51b7d"
            ],
            [
             0.2,
             "#de77ae"
            ],
            [
             0.3,
             "#f1b6da"
            ],
            [
             0.4,
             "#fde0ef"
            ],
            [
             0.5,
             "#f7f7f7"
            ],
            [
             0.6,
             "#e6f5d0"
            ],
            [
             0.7,
             "#b8e186"
            ],
            [
             0.8,
             "#7fbc41"
            ],
            [
             0.9,
             "#4d9221"
            ],
            [
             1,
             "#276419"
            ]
           ],
           "sequential": [
            [
             0,
             "#0d0887"
            ],
            [
             0.1111111111111111,
             "#46039f"
            ],
            [
             0.2222222222222222,
             "#7201a8"
            ],
            [
             0.3333333333333333,
             "#9c179e"
            ],
            [
             0.4444444444444444,
             "#bd3786"
            ],
            [
             0.5555555555555556,
             "#d8576b"
            ],
            [
             0.6666666666666666,
             "#ed7953"
            ],
            [
             0.7777777777777778,
             "#fb9f3a"
            ],
            [
             0.8888888888888888,
             "#fdca26"
            ],
            [
             1,
             "#f0f921"
            ]
           ],
           "sequentialminus": [
            [
             0,
             "#0d0887"
            ],
            [
             0.1111111111111111,
             "#46039f"
            ],
            [
             0.2222222222222222,
             "#7201a8"
            ],
            [
             0.3333333333333333,
             "#9c179e"
            ],
            [
             0.4444444444444444,
             "#bd3786"
            ],
            [
             0.5555555555555556,
             "#d8576b"
            ],
            [
             0.6666666666666666,
             "#ed7953"
            ],
            [
             0.7777777777777778,
             "#fb9f3a"
            ],
            [
             0.8888888888888888,
             "#fdca26"
            ],
            [
             1,
             "#f0f921"
            ]
           ]
          },
          "colorway": [
           "#636efa",
           "#EF553B",
           "#00cc96",
           "#ab63fa",
           "#FFA15A",
           "#19d3f3",
           "#FF6692",
           "#B6E880",
           "#FF97FF",
           "#FECB52"
          ],
          "font": {
           "color": "#2a3f5f"
          },
          "geo": {
           "bgcolor": "white",
           "lakecolor": "white",
           "landcolor": "#E5ECF6",
           "showlakes": true,
           "showland": true,
           "subunitcolor": "white"
          },
          "hoverlabel": {
           "align": "left"
          },
          "hovermode": "closest",
          "mapbox": {
           "style": "light"
          },
          "paper_bgcolor": "white",
          "plot_bgcolor": "#E5ECF6",
          "polar": {
           "angularaxis": {
            "gridcolor": "white",
            "linecolor": "white",
            "ticks": ""
           },
           "bgcolor": "#E5ECF6",
           "radialaxis": {
            "gridcolor": "white",
            "linecolor": "white",
            "ticks": ""
           }
          },
          "scene": {
           "xaxis": {
            "backgroundcolor": "#E5ECF6",
            "gridcolor": "white",
            "gridwidth": 2,
            "linecolor": "white",
            "showbackground": true,
            "ticks": "",
            "zerolinecolor": "white"
           },
           "yaxis": {
            "backgroundcolor": "#E5ECF6",
            "gridcolor": "white",
            "gridwidth": 2,
            "linecolor": "white",
            "showbackground": true,
            "ticks": "",
            "zerolinecolor": "white"
           },
           "zaxis": {
            "backgroundcolor": "#E5ECF6",
            "gridcolor": "white",
            "gridwidth": 2,
            "linecolor": "white",
            "showbackground": true,
            "ticks": "",
            "zerolinecolor": "white"
           }
          },
          "shapedefaults": {
           "line": {
            "color": "#2a3f5f"
           }
          },
          "ternary": {
           "aaxis": {
            "gridcolor": "white",
            "linecolor": "white",
            "ticks": ""
           },
           "baxis": {
            "gridcolor": "white",
            "linecolor": "white",
            "ticks": ""
           },
           "bgcolor": "#E5ECF6",
           "caxis": {
            "gridcolor": "white",
            "linecolor": "white",
            "ticks": ""
           }
          },
          "title": {
           "x": 0.05
          },
          "xaxis": {
           "automargin": true,
           "gridcolor": "white",
           "linecolor": "white",
           "ticks": "",
           "title": {
            "standoff": 15
           },
           "zerolinecolor": "white",
           "zerolinewidth": 2
          },
          "yaxis": {
           "automargin": true,
           "gridcolor": "white",
           "linecolor": "white",
           "ticks": "",
           "title": {
            "standoff": 15
           },
           "zerolinecolor": "white",
           "zerolinewidth": 2
          }
         }
        },
        "title": {
         "text": "Tangent Points and Sphere Mesh"
        },
        "width": 700
       }
      }
     },
     "metadata": {},
     "output_type": "display_data"
    },
    {
     "data": {
      "application/vnd.plotly.v1+json": {
       "config": {
        "plotlyServerURL": "https://plot.ly"
       },
       "data": [
        {
         "colorscale": [
          [
           0,
           "#440154"
          ],
          [
           0.1111111111111111,
           "#482878"
          ],
          [
           0.2222222222222222,
           "#3e4989"
          ],
          [
           0.3333333333333333,
           "#31688e"
          ],
          [
           0.4444444444444444,
           "#26828e"
          ],
          [
           0.5555555555555556,
           "#1f9e89"
          ],
          [
           0.6666666666666666,
           "#35b779"
          ],
          [
           0.7777777777777778,
           "#6ece58"
          ],
          [
           0.8888888888888888,
           "#b5de2b"
          ],
          [
           1,
           "#fde725"
          ]
         ],
         "opacity": 0.3,
         "showscale": false,
         "type": "surface",
         "x": {
          "bdata": "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",
          "dtype": "f8",
          "shape": "50, 25"
         },
         "y": {
          "bdata": "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",
          "dtype": "f8",
          "shape": "50, 25"
         },
         "z": {
          "bdata": "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",
          "dtype": "f8",
          "shape": "50, 25"
         }
        },
        {
         "marker": {
          "color": "red",
          "size": 3
         },
         "mode": "markers",
         "name": "Projected Points",
         "type": "scatter3d",
         "x": {
          "bdata": "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",
          "dtype": "f8"
         },
         "y": {
          "bdata": "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",
          "dtype": "f8"
         },
         "z": {
          "bdata": "nixoCdmV7L+kwMNbNwztv0TRl/um2ey/Z6bDwGxC6b8K6zOCjPXtv+B8Kie/0eq/rPscGouY7L/kdeiW8HTrvxLoZnbXa+u/FJsFPqSG678b8LfGsoLqv0eH609PL+y/qL1/Xc5r6r+HTy/DzP7tv1sTIsliteq/O0cVVY9H7b+aNv36zwDuvyfmHq7mHOu/f33Kl1XU67+mqy+bVK3tvwsGp4EEJOu/8O1J6Afx67+ekFnK22jpvzrcaLQoWem/hqAzSjyL6r9EfrfS1jvqv7ZdEVb1zeu/p+zZZDBt7L/a2pLK+Dbsv0BkDGsHYOy/kRtHaJUS6b8pHsMknBzsv5tdXOw+nuq/NnvSF4rZ678grFuikb/rv3Ppi0s2Muu/DwfA4okR7b8dQj5xlGrrv65vjf5IG+y/TSIxrimL67/0OYmnIFfrv2IqKrwYFO6/dg6SzOoz7r/dxjojUsDrv3YOIgG02uu/SiBsN2J36b/fgQANvcvrv2QpkPw6mui/73/17x+W7b/clLSgx9vrvyb6BVIriey/VM019aBo7b8S23qoiS7svyJ91AYE5uy/Zy/aSOp067+O81sP1A/tv5PmW73KTu2//WlY9OfI6b85q5Osi7Hrv+vxK5Um0+y/ywm8L3Al6r94zieSe8bqv0PKU5Wazum/z/C9YCzt6r/YKotruHPov5h0C0+n7em/moPAWw9Q7L/jPrgEreDpv6LOn7jPVuy/ScDVr5aR67/HVm8lCwjovwD3I+Q2Fuy/GiWwx/A57L+PT2R/Na7qv8nhvUJrZe2/mo/BndyZ67+roD0HwAfpv/j+y/DbUu2/wUavDbft6b/oUxPVzh3vv9z7Ezihh+2/7Rb/A+qq6r9v5ylQUTvrv6waqBiSkuy/iC1zxf9p6r9FoS+Q0/Hrv6iUowJoTei//xAR+FnV67/1r6NAcC/rvxPqjdzwEem/Ekakh0ai67+VR96ErD/svyu8OByGKey/NjLZurK77b/PA/9wdGHsv9gWsrAw++2/iGQ035Hz6r+8nvhCHaPov2lqdFjLtey/f1GcE76F7b/3/Cz92ZPqv2XvEEwVMOq/gzX0vnCA7L+sBOlcbwntv4z5AV8kHem/o1ExRlwB67+JTsK7Gvrrv1ZjL3i58em/aUMp/1MT6L+r7A/Fe5Ltv1fusfRlgOy/rKMIqqht6r8mi782OxTtv3GMFidO4e2/DqwTPoRA7L8xaoqoXsTovwt7zc8Jreq/OIhvpjIh7L/hdGkKG9nsv/7Fdwebiuu/Pv+2t7GZ679MIU1AW+jpv0X5Yh8pPOu/AIra6pF27b8EO4dPGGHqv6CxKuuP++u/nc+0pUmc6b/dFuj6jVbtv77kqMv3quy/T4ytzEhM6r+jZ7dV77jqvyXSuTITTO6/YIFeTvTL6r+cOM6w85ftv/WelMNOXuq//HhPabTF678wQqj8c6jqv0y79Iu4cOm/ZJQUoZjs578CSWiLtHvsv7dwNQIyRu6/uwWbfx437L89PKe/O5fov2zmkuHb3O2/BJHh/Mj76r87qg+Vqzvsv45lJ8bA0+u/Vp0MrcSn7b8KuyuX5A7rv3pCyA2uCe2/lkDJn95i67902a7b0nvrv654h8q7AOy/CetZKDDm7L8NjREBrnLsv6EXNUErvO2/kG4Drrgd6b+PKFDFmPHqv1An7Tt30Om/47F3MtB56r/UebpeY8vsvx19N3zGRuy/As0mAAhQ6b/IcQLEIsTsvywJpiCo+uq/bvJxL3MD7r81sCfdJoTsv5viTl3ja+6/pF+WpB5b6L+dkvu2JBjrv5Xzom4TA+y/5fydbUpp7b9SEcOMGJ3svy0kscoST+2/wxJv56PB7L+aOCIuVoDsv8x11LRVaO2/Gajg/Kbh67926GeMdNLrv3TtWKvvqOe/IUqbcwtd7L9axS++t+3qv8HJZNGeq+q/Jq/JvKK66b/Vcy1yM5/qv7kc+7pBy+i/A6GAFSsC7L+ZjDSOVtPrv1u397Xyg+u/Dxp8gAJm7L9lk101b5bsv1lgfrNr9O2/Zgk7cP5g6r+8FsjB1WHsv5q146cUweu/4roT5Zvt7L+G8zzV+Tbsv+RrOdX6Xeu/L2ivx/Zt7b+7Yx4XJyjrv1J0pOGVhee/L3pAbTZj6L+s48U80JLqv63aWTaWdeu/7UZq8BWH7L/+moo4joztvyBYyi4lSOu/iNqspAkY7b+EFgbquj3rvy6IdE0eKei/D1Uu8t3M57+ZdRa9aL7rv67drSzcxOa/V/7xZgwF6r8zHgO6VTjtv21yYFvNruy/Zbn4DxXd6b/yGeP918Hrv4gIjyqDBeu/EuHBOHJA7L8MRY0dV0Htv3yJngcEN+u/JX+WBLCd67+O3cCfb7Dsv2wLBnFAdOm/jAJWn/XY7r+LQCGxexfrv3WERHwNkOy/0GGKEp7b6793E9TCZavtv55XDjlJFOy//9cKpbwa7r9ajYKdLB3sv4S+Jkci5+u/fl+iwdvb57+O9c8kTXfuv1K5Ez8ziuu/znGjdB1s67+WSsTdhobov30Iin8Nbeu/jZNigWYz7L94JdTV3lfsv6SthyFeKu+/4qiwpYgm7L9WCvLhtGrtv4PoUdAWV+u/RSRVMw5b7L/6jXzRBUrtv9zXTLbKju2/pg7nFK7R7b9cye4sTkHpv5z2+nameOy/moRXqy+37b94rDDDN2DrvxuqyiTQ8Ou/WBaBDv2P67+93mz1v6bqv8iCkiaCuu2/3CN7ctBA7r+6mYCz7kbtvy2XBSRrsey/XHL05MlT7L/8Mf+WaIrpv3byg8Zs++i/IoGHhv2C6r+9vg63DSnqv8CeAn6xGe2/0nYmJpXA6r/LDQSs4PPrv2Azrm8UgOq/PDL6F2eS679HdMjurDLrv+nEmiwhEem/ZD473P9Z6b/2hEm0PWrsv9zJdBI9wuy/5eJj+CsB679M5cXcNKXrv2eRdLt7wuq/3/8xDqus6b8dV6PU5Ensv+5RUU9za+y/VujgIsGx6r/E4n82PDPuv2pxgb/cceu/+9lnen2+67+XpWS/LTrqv+BlaoJpouy/TiNwmCXv6b9ryGosREjqv42LVVna9+m/L1dY1lYA7L+Nf98ALUzrvzhIFJRZmuu/FS6JjNl/67+Bx+ZyYJ/qvwwYoIkHO+m/Ij190akm7L9L7IR/JNPqv6IlOwYiKeq/uK23969O67/yFbsXAb3svyEEU1PXVeu/NOTPvVZG7b+sc4iKrZvsv0B5XupIS+2/opEjqnde6r+iHnEsFIzrv5tybg7Lueu//TYb+60p6r+ls308xF7sv8+usaH8z+y/g6ivdqBI678+h8vj8Qjrvy7Zv+vdR+y/tksBlSlw7L/GGQ0VPILov62tYy976Oy/t4hmVuAU7r+M4dfSPybtvyIR8lOtLuu/sza4JNMN67+duQtpZAjrv/IQbKxkzuq/7iaSWNKK7L/7Ffg+SlvrvxRa90FYRum/9rtQsXuc67/9+0IRSSrsv2B0ahi1J+6/YSns0asH7L8NAe+jQITsv6rheZRisOq/lURG6rPH7L/Wfr+yDkTsv6wSfhEAQ+2/8svLZpEi7b9wrMoc6hHqvyaSOh3rI+2/o4rzTZ/R678smIil4LLqvzBBpo3Zc+u/lJ9iu9e667+O3p0+KUjtv/YJDhF52eu/ymr2ArAr679TechyIoTsv5tjBV0K2uq/3VEQJXKA7r+hJ3z08pDsvw+eQ4HRmOu/u45RNgif578O7S/yESLrvyTwq9BQyOy/DRB/+EZW67+yxHF6D+vrv92SU8BeAe2/i3Z9K3/d678tyGM8x/jtv5OzJtS0E+q/FmFGAgmz7L8mky9XIdvqv9K0pFzo5+m/uTfNK2Pm6r+LYZf1hh/qvxKKD3Ac6O2/KrJCGTnx67/u1q47SwHtv/FQauqG9+u/VU5o/2XL6r9+5sbN4h7tv1GDdwvOQeq/an6ocf627L/vROfaR0jqv0lbPDiHUey/R526gugD7L8FIEvR2Jrtv5jwLZyZ8em/a8p0X9496r/XNwNxt+nsv70hOpOWZu2/C0RQW8LD6b9ayS2Yev/tv+Sc4KCxGuy/0SS8OONH7b/X2ZEnJiDsv0Q21OAmku2/bRsbDzZx6r9rZOvfguDrv6YL++chdey/fitW9Q8/67+jfj/oHTruv6dkQRLFXe2/Srt8RBoF6r8hZLWDe0Dtv2YHXNbcLem/aoajrU1i7b9haFmqp4jnv7GkpU8XZem/vaGJQc/m7L+QqD6E7GDqvyas9LB/2Oy/XkZ+SZFi7b+AFBClvr3sv+rwYCCv/Ou/PjTwIbh77b9eHeRUgYnov4eFeJbsneq/kTHO+lER7L8Xm7YtvYzsvzGE8VVqjOq/CndcdkUD67/ggIptA2ntv+Rx/TlbBeq/s9q75C2n678Ku/jh4vzqv2zlXBY1Eey/79O4/iAb7L+WSdhArRTqv5mH7gDhDOq/aeWfqe7Q57/X8h3TceTrvzS5QUNYmu2/hBOdPWym67/i065GmIrpv0SM+43LTeq/Tw9FggvX7b+cSX33meHsvwzHjb1mpOq/zDmrajja7L+nhlLMzZXtvy6xE/Xv9Oq/+klctZuy6r+txdqu+wntv8IkfnkTFey/18Pn7sUu7L9irg4f6F3pv/zVktz7Kuu/zzgKXKc17L+bmgAbgV7rv7uTQ+PL+Om/WV3FyemX678LasAA+ODqv5EHk8zUzO2/+tEB76a37L/GU0rvvwXsvxpdFyR7r+m/GquJ/5BP7b8eX1J/0AHtv5JrEFy8IOq/R+kYvX1a7L/hluGdbJHqvx9xQtUhM+u/r6OzEUQq6b8M7ywgVgbrv1lkBl9mkem/V6sZ+qlA7L+NxRGmG67svyMlSsN7We6/b0m04rtn6788cglUx4jrv+1EaQ2lM+u/6QwFH1sj7L8wS/NV9gbrv1Y/qgCyTuy/MpIDiE5p67+JXozeDgHsv3SHymbMsuq/14ppu5it679nbGUZbT/tv8sV8TsceOq/iTYqcBOi679GjQlOxejsv5ypteXqM+q/3z1nY7Sk7r/dK8lb48rsvwzleNFfs+q/3yJ25e6D678Dh5vE/mHuv62oXJXoNe6/cS7gbjhx678N6nVexxPuv+e+YS/Hsuu/ItBJZD+57L/afKwYHB3rv68RFHbRy+u/AnZmPr+M7L8QNrMZzy7tvx79A5JjE+y/rCWWpXVH67/7FsIsdb3qvyGfJWyd9eu/wZLMQdT47L9NIijtENXqv8eUM6sH/uy/ZOBjNi0B6b81V7GFZdjsv4+7RGEx9+q/Z8zKHV7o57+iU1uFqDbpvwQQ6a+7UO2/1pEl8uHc6r948ikJFubmvwjrpAkep+u/nUGwYdcr67+NJUFVB6jnv45Jb48d+Ou/3c3xpKNr67/Y2rQ7Kv3qv2QyTlDI9+y/DmeBJeYy7b8P3nsOHvXtv/gDwDx/HOy/Aavl9wL67L/REWE6woPqvwfNofPMF+y/uvhrveyJ7L+Eb20TdbLnv44VZRKzCOu/+ij2pycE7b/yxNm2TfTov3vGenLQs+u/YG315KF+7b9G0Z4NbnDsv2HSAXnI/Om/z4cFPFwl7L9kayt4ALfqvy7W8356oey/6fMXMQr067+5VoP0C7btv/CDDQCGFe6/4AE4X59D67+GQ35jMw7mvx9HFhACHO2/KwqCDH1U7r/qBzGCmJDqv5989A1lqey/0DZlYI256r8rcPcyUofrv7ETEXvXV+y/q3uxZ2DE6r9iK+V4fbDuv4BvJKtz5ei/+fUXQmRI6b9HN73CcM3sv9vceyw8jOm/SiodFCqc7b+yyA/nthXqv9cqF9o9sey/YnOGYfoi7L9HE93MnEruv7VLtMCZQOq/P2sOeRGI6r8PlfCVNVvsvzFsCJTxuuy/QIIZ7jup7b+ZFbz6BuTsv7Ho9vAyxOy/xWILfR+A6b/mGMZAQarpv7rU4qUc7+q/ptRsFD6y6r+wOVIH4Mvsvw8nlyre9uy/MOO4X5gG6r+RXnjzePjqv1mG99sQFOy/twN5EvOt679ITrhfjyfqv0SJfRpvvey/YrrVrAp17L/O1lydzhzuvwUZ2BaYzOq/rX4C/9ZJ679n74aGPxvrv1siTLWAGOy/jtbBevXt7L8OmZ4uGFHtv8cwQc5q2O6/gpKcFIJy6781tjPAbKPtv5FkEew/Yuy/scYkssOH7L9I5gOnAtHqvygnODkyhOu/nMexBv4d7L8tI/FQcEfsv4IBQvY48uq/+HW4+7TX7L/dxN9zZ2TtvwBdeoPbze2/DEiJj0AB6r+cBEK6fuvsvwqJzwFLfeq/Ydn356vm6b8/Vt9Gm4Xqv1i9f9Ysvuu/RbPC5eBg6r/75Uh6t1Dpvyc9fyf1eem/DXFvfnBI67/6Y0AxNcDpv5vQFN385eq/4PD7wfo37L+o0Mrykd3svxoWX6e7Yey/KfYrASMu7b+/J0Sx7/Hnv9nHzMauBu2/uNBCgxoQ7L8lJhAS4W3tv2PNjmx7XO6/bTLePyIh679bOOxyk4jrv97SQig79ei/0kg4RYqQ7L8WGn63cpbtv8lG+Ndp5uq/nCkELTp4679Ued2OmDvsv9lSHX0AA+y/EN1jqrL367+VjM7x1YXsvyD/+H5qTuq/HcF2nABR67/xL37yHcjpv7kCAURjoeu/wnNrTqdd7L8xsmfgAejsv7jxQFdP1+y/Ti1beMZL6b8Udsa/ltDqv6mMP2xa6u2/1DBqAJ4E7L81H19W9wruv5f2pcWAUOi/J1E9JyE57L8fwFwKT6Tsvx6PqXNmu+u/Tgcl9XgG6r969ZLgVdjpvxtXUoMYyuu/A/tedJwr7b+9CrfGDO7tv+aXCHAv9ei/B82yrQvQ6r9k1Kmfebrrv3ysLXzmiem/Y0kWAhJq578WoLirTk7tvxTEgJVBGO6/r2UP7FJS678rEpvsE0bsv5UUqmWFKe2/AfXmvXK06r+atAbhm5rqv3zm63LSRei/k6YfUwnu6r/SKh5C3irsv21ciN9qyOq/329Dbyqg67+QRWdWtVLsv3ADGbvZ8Om/fp+mZrz96r9K1wazPUvrv11oIiiusuu/mL+nMxaQ6L+k86xQPQLtv2ZQD2v2iuy/RD3tcvQR6b8/wg5r9Kfsvx9VkOVNT+y/gGuzK+SX7L8X3hvXih3sv6v55Azu6u2/dnxcOrpc7b84l40tCrPrv3Kkm3rvcOu/bHI/Whg57b+sb+DP34TrvzhtRu23puq/uBCa+hAO6r97NaFa48jrv6FbO4uJrOy/lns96VQv678MpLQzjTLuvzPygs8Rx+y/cqQkc44e678hpNLNndDsv5l8m8+B8ey/8jYUjiNz7r/unj9fGwPsv+TaW2dGse2/U88Oxfaz6b9t0G8ajrXpvwv/XusEkeq/+OAKk2Yi7L+jBbWuHjPrv153K/hW+Ou/1sbtwHHz6r8278Rlb2Htv5BzezK7Nem/ZSlHWJ5R67+VVc5KOZntv9OGL9AtDuq/Q19NqEhi678wVMz4ABftvws3wSqRk+i/4V78ER5D7L9r9PhtYQ7ov9xopAMYO+2/kRuhuO8d7L/Zj1HXRufsv8KEamJMYOu/WCJI5JlX678pbpIYqUDrvw9xq5Lze+y/zHCd1xws7L/5PItdJjzrvyddxUJEbOm/WCRoctWj67/izsDona3svz/OWOGRhOu/PCgYoSrQ6r+JWz5Wt07svzz7t8A2sey/CsmokW8z6L+OktnXsmvrvxadwuG0Oem/Ph3+SNJ96b+JdfRpCUzrv545B3+vVeu/SuPPOzjL6r+MwTWwTLPsvyJ2Bt7nXOy/uKyYzxAT678h+qv2Pe/sv/ODWKdTtOq/cofyAesw7b/85H55g0Dov+qf5l4wsu2/X3fV1HRX6785PZG8vMPrv07KWlVQoeu/dfeUaVB27L8+CMzbInjqv0YjoYOaH+y/xwzWpa9M6r/Hfvyurkbrv9RELg8YeOy/RDU/e7yE678JfmanpH3rv1jOvsUFPe6/D89uZ/BM678vCBAMNcrsv66NlJlqU+2/hmVrl6oC7L+D037Ki1Hqv7sEQKviLOy/Nm2FZ8Tu5r+Wt+n0QfPtvzVeFzcWvuy/NcKYd4u06r+nrffEdCvsv4/4BYOtVOy/2SLVQC1f678Lc5LcYbvrv5Wfd/EIQu2/OTedeTEP7L9OSSJ1tM7rv7CtPOVjl+i/xvNqioIY7L8PVN/hR9Ptv53eNUB4rOq/YUnsKRbU6r++ABAwhI7ovwSAnrUCaeq/45HOqNCg6b++4HGQsg3sv+uf6hwAYei/Td39XWBC7L8ALWWgd2Psv85QK+0aTem/U8oL3i9z67/GQ7GJ2Uzsv/mzjHmg9O2/5/vE2em87b+ovtLwpx3rv2M5OR9OLOu/u+zl868w6r/FKlaGnMDrv/1jy4Hzp+m/Hi0nSbRV7L+kbfeGuXLsvySFJUCNkuq/AEurAWX47b93i3mki+Tov3CsNreBLe2/eZtCkz4b7b8OSMCu557qv0tlrd1On+2/EHbKVjvE6b/oFd9KwqXrv5DI34rCP+W/ukdkRTpb7L/sUqJWh+rrv3xogJW2yeu/rHzLA4NF7L9klnburkfsvxWybNq8bem/7DjWruCs6r8aaNxSA1/rvy+2HbMuvu2/qiJAYIMa7L+yvYekRxLpv9U8sXB5/Om/ucB+Bh7b6r+IjZnCH63uv+QvtbQAtey//LVwDrbW67/huTzH8abpv5nXwrFWTuy/7rZWtmbx6r8fBwGgLrDrvzyo3hULOeu/XCZPVM1d67+BCAACqgzsvyomMsNGleu/zCrH+OTa6r+bGKovQGnsv+nVJuo+wey/SStbJYtD7r/Pcsrw+pDrv3L+Og3jaua/R+Go+T5g7L/fktP/42nsv/WVvJ2koey/e0qpeu39678jniRQW6nrv4Lva7vwmey/91+Rmm4v7L9sX+itQNzrv4pkwZ8Lw+m/e/vn9vM47b++/T9RodHrvwbmn7+Dwu2/9f6DvTPI7b9u4hPrgnzqvwy74KCt2eq/a1Vr/SQj679X1jUKr4HsvyCZBjiTN+u/N8+kiCoj67/6KgS1nnXrv5SmMGtr2+q/QGO0Wx5a6r98ucNcdQfuv1Yb/sJwm+q/fAY46Obo67+0EzVMvn7svw2RZIdSpem/tRnYdECY7L8bQDQIIgjtvwrYBbshP+2/awmj8wgA678j/L3qDaPqv2OKTdnY5+2/oEKBezPn678925isrjjpvzGIqTRjGOu/1bSMVwsa6L9uZTOKDPvsv2RzuMsteOy/k1FkXl+0679bWKQ+NATsvznogo4UG+u/YafFCKMj6b+FHKN9uUfrv1Ai8UK6Vu2/l3xHcKJb7L+oo1k/eTvpv5fM8lODzuq/DhX1Jehp7b/go/QMGa/rv4d3cFykWu2/j6maWBL37L+r2EfOMXjsv8LwVjILI+6//HmwnNUl7L++MgaD/KXqv5ZCh755Fe2/n4fznmTB7L91ixrl+izsv46jcWNoQeu/SVl6W5so7L95xSqSrWntvyKnIU6yfei/jVvSJeNv7r+xqN/uV17pv/hOmis5zOu/ai8gRC8q7b/UvNM2+MHrv6RtnbYBXuy/Gder/x8s7r92itV9b5Lqv1e24BiD/eu/Bw3nLrJY6r8O/hzHIL3sv88HTla5lu2/LVgbcRKM67+jazjWFWrsv7O2ObPjMuy/3kCbsKpJ6L/NxTCXxxntv/FDo9nVY+q/SIMGWQFt6b+r13+AKFHrvyoi04PFPO+/huU3GirY7L+qj789diXrv4hOJha+Qem/xw5k1YaP7r9FjL9IgLnrv8vovLpvSum/A49CgpfB6b82dcjHZ1DrvwzmBuF3U+y/APUDTqzF6b+K1rH4WYvtv6hUCWcMr+u/1EIrX4oU7L9clU3BvJ3rv9rgbucyMOu/OJXdvtpF7b/Vhgk929bsv6mg6pd+Cuq/IAuswPVS678EXShnsbnqv57+dhi4Xuy/S4b/3X+h7b/4f4DsOADtvxTeH+UPu+q/k4LOVKTw67+KbuFNOy3pv9em/u/0kOq/hHC0bPGT6r81rNJtFP/qv1Odovrx9ey/LFGK3DHh7L9ZwKVRgGTsv/X65A5LHuq/bIaiN6ns679w2C5R6KLovxIWQu8eEe6/So5N/K/06b+md5dyVaTrv75i/C64cee/ZWwHmsDO6b+c0J6UppLpvxnX2g2yiOy/PsKzijEi7b9hwYj4QY/pv4/tvtTK1uu/EqcvTE3P7b+BxlDeYqLtv8eo4oPEsuu/F+1BWXqk7L9LDD1XMK3sv/brzMlZp+u/qYLYDx2g6L9AVioslLDsv3ySg5dS+Ou/qiwRlNob7r/xt6bGgH7sv1Abf/lcE+q/9r2KPBVF6r/C3aO8LELrvyDzxokGq+2/I0OnD3ef6b+zE2lVuLHtv118GpTHguu/v0TG/utT7L+hC3CRovjsv/opkrAjTeu/6qstSdWP7L+yOOpY2APvv78FTuaGBOe/EYRTsXFB7L/D0EcUO3TsvzgIv2+pbOu/wau2VDCg6r9qSmHD6a7rv1wE576Gp+q/9OcQfJdd6r++xwZ8grjsv9kpnr36reu/M1gpPFhS7b9GJfgUVWLtv7GmJm82BOq/1wngU3Lc678=",
          "dtype": "f8"
         }
        },
        {
         "marker": {
          "color": "black",
          "size": 8
         },
         "mode": "markers",
         "name": "Base Point",
         "type": "scatter3d",
         "x": [
          -0.10978552368136928
         ],
         "y": [
          0.4795498778884235
         ],
         "z": [
          -0.8706199247703935
         ]
        }
       ],
       "layout": {
        "height": 700,
        "scene": {
         "aspectmode": "cube"
        },
        "template": {
         "data": {
          "bar": [
           {
            "error_x": {
             "color": "#2a3f5f"
            },
            "error_y": {
             "color": "#2a3f5f"
            },
            "marker": {
             "line": {
              "color": "#E5ECF6",
              "width": 0.5
             },
             "pattern": {
              "fillmode": "overlay",
              "size": 10,
              "solidity": 0.2
             }
            },
            "type": "bar"
           }
          ],
          "barpolar": [
           {
            "marker": {
             "line": {
              "color": "#E5ECF6",
              "width": 0.5
             },
             "pattern": {
              "fillmode": "overlay",
              "size": 10,
              "solidity": 0.2
             }
            },
            "type": "barpolar"
           }
          ],
          "carpet": [
           {
            "aaxis": {
             "endlinecolor": "#2a3f5f",
             "gridcolor": "white",
             "linecolor": "white",
             "minorgridcolor": "white",
             "startlinecolor": "#2a3f5f"
            },
            "baxis": {
             "endlinecolor": "#2a3f5f",
             "gridcolor": "white",
             "linecolor": "white",
             "minorgridcolor": "white",
             "startlinecolor": "#2a3f5f"
            },
            "type": "carpet"
           }
          ],
          "choropleth": [
           {
            "colorbar": {
             "outlinewidth": 0,
             "ticks": ""
            },
            "type": "choropleth"
           }
          ],
          "contour": [
           {
            "colorbar": {
             "outlinewidth": 0,
             "ticks": ""
            },
            "colorscale": [
             [
              0,
              "#0d0887"
             ],
             [
              0.1111111111111111,
              "#46039f"
             ],
             [
              0.2222222222222222,
              "#7201a8"
             ],
             [
              0.3333333333333333,
              "#9c179e"
             ],
             [
              0.4444444444444444,
              "#bd3786"
             ],
             [
              0.5555555555555556,
              "#d8576b"
             ],
             [
              0.6666666666666666,
              "#ed7953"
             ],
             [
              0.7777777777777778,
              "#fb9f3a"
             ],
             [
              0.8888888888888888,
              "#fdca26"
             ],
             [
              1,
              "#f0f921"
             ]
            ],
            "type": "contour"
           }
          ],
          "contourcarpet": [
           {
            "colorbar": {
             "outlinewidth": 0,
             "ticks": ""
            },
            "type": "contourcarpet"
           }
          ],
          "heatmap": [
           {
            "colorbar": {
             "outlinewidth": 0,
             "ticks": ""
            },
            "colorscale": [
             [
              0,
              "#0d0887"
             ],
             [
              0.1111111111111111,
              "#46039f"
             ],
             [
              0.2222222222222222,
              "#7201a8"
             ],
             [
              0.3333333333333333,
              "#9c179e"
             ],
             [
              0.4444444444444444,
              "#bd3786"
             ],
             [
              0.5555555555555556,
              "#d8576b"
             ],
             [
              0.6666666666666666,
              "#ed7953"
             ],
             [
              0.7777777777777778,
              "#fb9f3a"
             ],
             [
              0.8888888888888888,
              "#fdca26"
             ],
             [
              1,
              "#f0f921"
             ]
            ],
            "type": "heatmap"
           }
          ],
          "histogram": [
           {
            "marker": {
             "pattern": {
              "fillmode": "overlay",
              "size": 10,
              "solidity": 0.2
             }
            },
            "type": "histogram"
           }
          ],
          "histogram2d": [
           {
            "colorbar": {
             "outlinewidth": 0,
             "ticks": ""
            },
            "colorscale": [
             [
              0,
              "#0d0887"
             ],
             [
              0.1111111111111111,
              "#46039f"
             ],
             [
              0.2222222222222222,
              "#7201a8"
             ],
             [
              0.3333333333333333,
              "#9c179e"
             ],
             [
              0.4444444444444444,
              "#bd3786"
             ],
             [
              0.5555555555555556,
              "#d8576b"
             ],
             [
              0.6666666666666666,
              "#ed7953"
             ],
             [
              0.7777777777777778,
              "#fb9f3a"
             ],
             [
              0.8888888888888888,
              "#fdca26"
             ],
             [
              1,
              "#f0f921"
             ]
            ],
            "type": "histogram2d"
           }
          ],
          "histogram2dcontour": [
           {
            "colorbar": {
             "outlinewidth": 0,
             "ticks": ""
            },
            "colorscale": [
             [
              0,
              "#0d0887"
             ],
             [
              0.1111111111111111,
              "#46039f"
             ],
             [
              0.2222222222222222,
              "#7201a8"
             ],
             [
              0.3333333333333333,
              "#9c179e"
             ],
             [
              0.4444444444444444,
              "#bd3786"
             ],
             [
              0.5555555555555556,
              "#d8576b"
             ],
             [
              0.6666666666666666,
              "#ed7953"
             ],
             [
              0.7777777777777778,
              "#fb9f3a"
             ],
             [
              0.8888888888888888,
              "#fdca26"
             ],
             [
              1,
              "#f0f921"
             ]
            ],
            "type": "histogram2dcontour"
           }
          ],
          "mesh3d": [
           {
            "colorbar": {
             "outlinewidth": 0,
             "ticks": ""
            },
            "type": "mesh3d"
           }
          ],
          "parcoords": [
           {
            "line": {
             "colorbar": {
              "outlinewidth": 0,
              "ticks": ""
             }
            },
            "type": "parcoords"
           }
          ],
          "pie": [
           {
            "automargin": true,
            "type": "pie"
           }
          ],
          "scatter": [
           {
            "fillpattern": {
             "fillmode": "overlay",
             "size": 10,
             "solidity": 0.2
            },
            "type": "scatter"
           }
          ],
          "scatter3d": [
           {
            "line": {
             "colorbar": {
              "outlinewidth": 0,
              "ticks": ""
             }
            },
            "marker": {
             "colorbar": {
              "outlinewidth": 0,
              "ticks": ""
             }
            },
            "type": "scatter3d"
           }
          ],
          "scattercarpet": [
           {
            "marker": {
             "colorbar": {
              "outlinewidth": 0,
              "ticks": ""
             }
            },
            "type": "scattercarpet"
           }
          ],
          "scattergeo": [
           {
            "marker": {
             "colorbar": {
              "outlinewidth": 0,
              "ticks": ""
             }
            },
            "type": "scattergeo"
           }
          ],
          "scattergl": [
           {
            "marker": {
             "colorbar": {
              "outlinewidth": 0,
              "ticks": ""
             }
            },
            "type": "scattergl"
           }
          ],
          "scattermap": [
           {
            "marker": {
             "colorbar": {
              "outlinewidth": 0,
              "ticks": ""
             }
            },
            "type": "scattermap"
           }
          ],
          "scattermapbox": [
           {
            "marker": {
             "colorbar": {
              "outlinewidth": 0,
              "ticks": ""
             }
            },
            "type": "scattermapbox"
           }
          ],
          "scatterpolar": [
           {
            "marker": {
             "colorbar": {
              "outlinewidth": 0,
              "ticks": ""
             }
            },
            "type": "scatterpolar"
           }
          ],
          "scatterpolargl": [
           {
            "marker": {
             "colorbar": {
              "outlinewidth": 0,
              "ticks": ""
             }
            },
            "type": "scatterpolargl"
           }
          ],
          "scatterternary": [
           {
            "marker": {
             "colorbar": {
              "outlinewidth": 0,
              "ticks": ""
             }
            },
            "type": "scatterternary"
           }
          ],
          "surface": [
           {
            "colorbar": {
             "outlinewidth": 0,
             "ticks": ""
            },
            "colorscale": [
             [
              0,
              "#0d0887"
             ],
             [
              0.1111111111111111,
              "#46039f"
             ],
             [
              0.2222222222222222,
              "#7201a8"
             ],
             [
              0.3333333333333333,
              "#9c179e"
             ],
             [
              0.4444444444444444,
              "#bd3786"
             ],
             [
              0.5555555555555556,
              "#d8576b"
             ],
             [
              0.6666666666666666,
              "#ed7953"
             ],
             [
              0.7777777777777778,
              "#fb9f3a"
             ],
             [
              0.8888888888888888,
              "#fdca26"
             ],
             [
              1,
              "#f0f921"
             ]
            ],
            "type": "surface"
           }
          ],
          "table": [
           {
            "cells": {
             "fill": {
              "color": "#EBF0F8"
             },
             "line": {
              "color": "white"
             }
            },
            "header": {
             "fill": {
              "color": "#C8D4E3"
             },
             "line": {
              "color": "white"
             }
            },
            "type": "table"
           }
          ]
         },
         "layout": {
          "annotationdefaults": {
           "arrowcolor": "#2a3f5f",
           "arrowhead": 0,
           "arrowwidth": 1
          },
          "autotypenumbers": "strict",
          "coloraxis": {
           "colorbar": {
            "outlinewidth": 0,
            "ticks": ""
           }
          },
          "colorscale": {
           "diverging": [
            [
             0,
             "#8e0152"
            ],
            [
             0.1,
             "#c51b7d"
            ],
            [
             0.2,
             "#de77ae"
            ],
            [
             0.3,
             "#f1b6da"
            ],
            [
             0.4,
             "#fde0ef"
            ],
            [
             0.5,
             "#f7f7f7"
            ],
            [
             0.6,
             "#e6f5d0"
            ],
            [
             0.7,
             "#b8e186"
            ],
            [
             0.8,
             "#7fbc41"
            ],
            [
             0.9,
             "#4d9221"
            ],
            [
             1,
             "#276419"
            ]
           ],
           "sequential": [
            [
             0,
             "#0d0887"
            ],
            [
             0.1111111111111111,
             "#46039f"
            ],
            [
             0.2222222222222222,
             "#7201a8"
            ],
            [
             0.3333333333333333,
             "#9c179e"
            ],
            [
             0.4444444444444444,
             "#bd3786"
            ],
            [
             0.5555555555555556,
             "#d8576b"
            ],
            [
             0.6666666666666666,
             "#ed7953"
            ],
            [
             0.7777777777777778,
             "#fb9f3a"
            ],
            [
             0.8888888888888888,
             "#fdca26"
            ],
            [
             1,
             "#f0f921"
            ]
           ],
           "sequentialminus": [
            [
             0,
             "#0d0887"
            ],
            [
             0.1111111111111111,
             "#46039f"
            ],
            [
             0.2222222222222222,
             "#7201a8"
            ],
            [
             0.3333333333333333,
             "#9c179e"
            ],
            [
             0.4444444444444444,
             "#bd3786"
            ],
            [
             0.5555555555555556,
             "#d8576b"
            ],
            [
             0.6666666666666666,
             "#ed7953"
            ],
            [
             0.7777777777777778,
             "#fb9f3a"
            ],
            [
             0.8888888888888888,
             "#fdca26"
            ],
            [
             1,
             "#f0f921"
            ]
           ]
          },
          "colorway": [
           "#636efa",
           "#EF553B",
           "#00cc96",
           "#ab63fa",
           "#FFA15A",
           "#19d3f3",
           "#FF6692",
           "#B6E880",
           "#FF97FF",
           "#FECB52"
          ],
          "font": {
           "color": "#2a3f5f"
          },
          "geo": {
           "bgcolor": "white",
           "lakecolor": "white",
           "landcolor": "#E5ECF6",
           "showlakes": true,
           "showland": true,
           "subunitcolor": "white"
          },
          "hoverlabel": {
           "align": "left"
          },
          "hovermode": "closest",
          "mapbox": {
           "style": "light"
          },
          "paper_bgcolor": "white",
          "plot_bgcolor": "#E5ECF6",
          "polar": {
           "angularaxis": {
            "gridcolor": "white",
            "linecolor": "white",
            "ticks": ""
           },
           "bgcolor": "#E5ECF6",
           "radialaxis": {
            "gridcolor": "white",
            "linecolor": "white",
            "ticks": ""
           }
          },
          "scene": {
           "xaxis": {
            "backgroundcolor": "#E5ECF6",
            "gridcolor": "white",
            "gridwidth": 2,
            "linecolor": "white",
            "showbackground": true,
            "ticks": "",
            "zerolinecolor": "white"
           },
           "yaxis": {
            "backgroundcolor": "#E5ECF6",
            "gridcolor": "white",
            "gridwidth": 2,
            "linecolor": "white",
            "showbackground": true,
            "ticks": "",
            "zerolinecolor": "white"
           },
           "zaxis": {
            "backgroundcolor": "#E5ECF6",
            "gridcolor": "white",
            "gridwidth": 2,
            "linecolor": "white",
            "showbackground": true,
            "ticks": "",
            "zerolinecolor": "white"
           }
          },
          "shapedefaults": {
           "line": {
            "color": "#2a3f5f"
           }
          },
          "ternary": {
           "aaxis": {
            "gridcolor": "white",
            "linecolor": "white",
            "ticks": ""
           },
           "baxis": {
            "gridcolor": "white",
            "linecolor": "white",
            "ticks": ""
           },
           "bgcolor": "#E5ECF6",
           "caxis": {
            "gridcolor": "white",
            "linecolor": "white",
            "ticks": ""
           }
          },
          "title": {
           "x": 0.05
          },
          "xaxis": {
           "automargin": true,
           "gridcolor": "white",
           "linecolor": "white",
           "ticks": "",
           "title": {
            "standoff": 15
           },
           "zerolinecolor": "white",
           "zerolinewidth": 2
          },
          "yaxis": {
           "automargin": true,
           "gridcolor": "white",
           "linecolor": "white",
           "ticks": "",
           "title": {
            "standoff": 15
           },
           "zerolinecolor": "white",
           "zerolinewidth": 2
          }
         }
        },
        "title": {
         "text": "Interactive Projection on Sphere"
        },
        "width": 700
       }
      }
     },
     "metadata": {},
     "output_type": "display_data"
    },
    {
     "name": "stdout",
     "output_type": "stream",
     "text": [
      "x (mean): [-0.10978552  0.47954988 -0.87061992]\n",
      "Sigma: [[0.01 0.  ]\n",
      " [0.   0.01]]\n",
      "optimal mean: [ 0.19851414  0.34864146 -0.91599196]\n",
      "optimal covariance: [[0.118557   0.05749277]\n",
      " [0.05749277 0.09498682]]\n"
     ]
    },
    {
     "data": {
      "application/vnd.plotly.v1+json": {
       "config": {
        "plotlyServerURL": "https://plot.ly"
       },
       "data": [
        {
         "colorscale": [
          [
           0,
           "#440154"
          ],
          [
           0.1111111111111111,
           "#482878"
          ],
          [
           0.2222222222222222,
           "#3e4989"
          ],
          [
           0.3333333333333333,
           "#31688e"
          ],
          [
           0.4444444444444444,
           "#26828e"
          ],
          [
           0.5555555555555556,
           "#1f9e89"
          ],
          [
           0.6666666666666666,
           "#35b779"
          ],
          [
           0.7777777777777778,
           "#6ece58"
          ],
          [
           0.8888888888888888,
           "#b5de2b"
          ],
          [
           1,
           "#fde725"
          ]
         ],
         "opacity": 0.3,
         "showscale": false,
         "type": "surface",
         "x": {
          "bdata": "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",
          "dtype": "f8",
          "shape": "50, 25"
         },
         "y": {
          "bdata": "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",
          "dtype": "f8",
          "shape": "50, 25"
         },
         "z": {
          "bdata": "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",
          "dtype": "f8",
          "shape": "50, 25"
         }
        },
        {
         "marker": {
          "color": "black",
          "size": 8
         },
         "mode": "markers",
         "name": "Target Mean",
         "type": "scatter3d",
         "x": [
          -0.10978552368136928
         ],
         "y": [
          0.4795498778884235
         ],
         "z": [
          -0.8706199247703935
         ]
        },
        {
         "marker": {
          "color": "blue",
          "size": 2
         },
         "mode": "markers",
         "showlegend": false,
         "type": "scatter3d",
         "x": {
          "bdata": "ScmLfkdE6j8IPqYgAs3pP52aPeY9UOk/k+je0Ob56D9pbhUTo4boP2oWSmq+ROg/V5YSkKDp5z9O4yfC2IXnP+VeIOYjTOc/aOBmq7Ll5j9qiiBOgo7mP96GJJvQSuY/bAFXeND65T8aNwl3h7TlP3vKvXvLbOU/VeKWyEIx5T+5DtjTffzkP4aLSAIwqeM/N7/VvpJm4z/qFOGW3yLjP6KD2XCG8OI/xvl2zOK04j9C/PPJ2nniPx67CuGdyOE/VArOfpok4T/G6IuL3ebgPw2MxnwNr+A/gSaTnXt94D/QRL27yErgP2hkKnmId94/YMqVwncj3j9P2EgnC8XdP9Oo2sNze90/ZPTnVuQk3T+pwqJo2rvcP4arn1V7bNw/72CnXmcb3D/dLcmWMLfbP1P3/QIha9s/AlUY6ekR2z8k8MtmSMnaP8JIPebfeto/CEjgfrk62j9NOynJIY/ZP0T8DG9KINk/su0CS6bc2D9HmMp72Z7YPwDvN0UQY9g/ki+auNAW2D/FaFOGmMrXP1S89vSKgNc/EHVSNL4W1z/xBMx2TdjWP3T9V63kltY/ZDiPaMts1j/48RXT7x/WP+JtcMmu5tU/r1X70ISq1T+DYGELZHDVP6e+wO4OJdU/L5rVGAPk1D+ajWsniLDUPwN5+bYCbtQ/eWl3FLs31D8pb9ztn+vTP5L7QA9zqdM/HvFMdEJr0z/nTJT5+ybTP2eKDDWIo9I/NJwQNfdw0j89CbcW9T7SP0iaaKxk+9E/hjcnsoHM0T8lFWM2FZjRP1Ht1gamY9E/MtWCp+8w0T9fO9V4MgXRP7cbD5HXztA/d1FXGMar0D/3enE+R23QP5G0slCMPNA/Qn0buvgJ0D8Aw0yFdbXPP9FWHDLyVc8/NYFJI/7kzj8bIRp8aoTOP8JMpSnREs4/hpJG/O2/zT9iEOAJ42LNP7gO+6+UC80/ApO71Vq8zD+iSdkoQmPMP8AccQCOD8w/C2j6YIW4yz97HWqiBlDLP7bsTMruCMs/PlpDDgyhyj9ZZm4uNlvKP+kieUH1Eso/8cUPBT+1yT+swExQ6WjJPw==",
          "dtype": "f8"
         },
         "y": {
          "bdata": "fzlzoZ/yyD//lvc+0JfIP/QQchlNDsg/V7oa8mcwyD+fEeKegc3HP3x+TT4EK8g/we1ZoHBDyD9R6FZgvCrIP5fqZJoKqsg/rSYiyTGxyD+OqVG5EPbIPyXi7rL0O8k/j17YJgVuyT+jE9zJ5tnJPx1I3EqxEMo/nXSVC8Vsyj8DS5IO6vDKPyHJz6i13Mc/HGoAxQ85yD+l8TslH4fIP3SItN5tD8k/4B1ElstxyT+CvA/QncDJP6qQWTb0w8g/VjjViakyyD+KnQ1txI/IP3K1pRoS9sg/yUIRGU9qyT/YeHdBvefJP8Rgd+fmp8c/p0AS6agtyD8j8HaHzqjIP841CAXjNsk/odxF+Sm9yT9oiMpv4ATKPzUqU7vsgMo/U9mjH37myj90FQRgJFDLP4ApMCZdrcs/G/AIpPcLzD/ErNrCUovMP/FP6tW918w/ZBPPSd5czT/oNOv7IEzNP1Lse2Xolc0/pJibx0wRzj9xEySARoTOP61Ba+169M4/hZ7O6XNVzz+CP8GckbnPPyAu0G07BtA/ebfRoOMX0D82Gw5gfETQPzF7riuCd9A/VFY2gs230D/jI3loOeHQPyotfjyeCtE/XPJtCcc30T9a+azGuWDRPzknStFEh9E/80Mfcqy20T+pe8ENyd/RP4rcqo7k+tE/LYD9AB4n0j+KqQsWekTSP/6jz2CPbdI/p27c3uOG0j9L0R+Gz6bSPyRkGABnodI/b6t97z/B0j/0nkRH9trSP2fdDcr4CNM/br68lCZG0z+6GVBCoWrTP01Im3lShdM/RNJoLgWg0z/NZ1jJz7/TPxoIsAC70tM//9HPry0H1D+C6q7rPR7UP5vHxx3tK9Q/iqVrZRZM1D8Y7BMKXGTUP+NZZtYHfdQ/SIc8A46s1D9ANMOzHsbUP8OpPVAu5NQ/+/SMPfMC1T9aiwReWRzVPxhWTm+MPNU/kmS2M0pR1T/Aj3htp2vVPzaVaGCHhdU/i68fceib1T/EWp8H7bTVP1KKHnV0z9U/VAtTvMzp1T+KXk48ewLWPxTHiMEQE9Y/TJ9O6lQw1j/NMlFIJFDWPw==",
          "dtype": "f8"
         },
         "z": {
          "bdata": "SplNdCMu4b9JFXMzKufhv2hs7gMtoeK/CG0rIqAR47/BBeeOjqzjvzk/U4qZ9uO/YVeTMpVh5L/rK1+GOtbkv8IQ9uNzDeW/6nLB9C585b+PRV68wdLlvy6O6nfsEua/KjdGrwtf5r/DvZYFn5vmv63uSGbC2+a/omTEeHIM57/xWKwSCzPnv3CEh1FqiOi/vEocCZ236L+X3pPAZefov06iOp9VBem/5C1dSuEr6b+r7ebkWlLpv7bATlp43+m/s7Ta2LVV6r8yyoNRJHjqv2jBEIGBleq/bmgYTIKt6r8/kOXtE8XqvyGv+qtVg+u/HjBVZDKT679XTQ2y/6Xrv5FbFZqxseu/e9zqw9zA678470PYBtjrv9cRhqwR5eu/cBoxRITz678Lq3RNGwbsv1gSjW4VE+y/Xy8huNci7L8KVyq6NSzsvzQWPgXdOey/NE18g0FA7L8hudyijGjsv++BL412fOy/Lqgl6TiD7L/N+hHz/Yjsv0gX/3RFjuy/hzI6rdWX7L8/b/Yn4qDsvz3Q6vhlquy/5YVHTWW97L9f/2c2l8Psv68Px7o+yey/uTNTiDXI7L+ScXe5B9Hsv6NcHTHf1ey/PakXu4ba7L/8h9YTPt/sv+ff6EhN5+y/Oiwpeebr7L9JHFnt0+7sv2aSfT9x9uy/LVbXTxH57L/rXLzzoAHtv0ZMYRtrBu2/w9oI7dkM7b+e3SDeEhPtv9eUTOVDKe2/Fug8wDIs7b/Y8b046i/tv+fcElTuMu2//3lfOxQw7b++ti/7+jHtvwYpGCliNe2/wA8cQWo47b/Cs8wcdjntv9KYR1gfPu2/4JV2ozQ67b/A/qotFz/tv0sO1SSJQ+2/ehnz5fJE7b9tchVXKkftv0vlaUhJSe2/REkT6G9I7b8BZ9c4PkrtvwBg6L09TO2/U1oafQdM7b8WkrJYVU3tv2zU/gT1TO2/UlKa7hJO7b+dQTnwsU7tv07CYH/+Tu2/QPD6yQ1Q7b/LB8s2kFHtv9SwhG3CUO2/pWWkZMpR7b/Q++fRHFHtv1lOUIwIUu2/efBmwa5R7b8xjI9dzk/tvw==",
          "dtype": "f8"
         }
        },
        {
         "marker": {
          "color": "blue",
          "size": 8
         },
         "mode": "markers",
         "name": "Current Mean",
         "type": "scatter3d",
         "x": [
          0.19851414128198053
         ],
         "y": [
          0.34864146291947123
         ],
         "z": [
          -0.9159919574125351
         ]
        }
       ],
       "layout": {
        "height": 700,
        "scene": {
         "aspectmode": "cube"
        },
        "template": {
         "data": {
          "bar": [
           {
            "error_x": {
             "color": "#2a3f5f"
            },
            "error_y": {
             "color": "#2a3f5f"
            },
            "marker": {
             "line": {
              "color": "#E5ECF6",
              "width": 0.5
             },
             "pattern": {
              "fillmode": "overlay",
              "size": 10,
              "solidity": 0.2
             }
            },
            "type": "bar"
           }
          ],
          "barpolar": [
           {
            "marker": {
             "line": {
              "color": "#E5ECF6",
              "width": 0.5
             },
             "pattern": {
              "fillmode": "overlay",
              "size": 10,
              "solidity": 0.2
             }
            },
            "type": "barpolar"
           }
          ],
          "carpet": [
           {
            "aaxis": {
             "endlinecolor": "#2a3f5f",
             "gridcolor": "white",
             "linecolor": "white",
             "minorgridcolor": "white",
             "startlinecolor": "#2a3f5f"
            },
            "baxis": {
             "endlinecolor": "#2a3f5f",
             "gridcolor": "white",
             "linecolor": "white",
             "minorgridcolor": "white",
             "startlinecolor": "#2a3f5f"
            },
            "type": "carpet"
           }
          ],
          "choropleth": [
           {
            "colorbar": {
             "outlinewidth": 0,
             "ticks": ""
            },
            "type": "choropleth"
           }
          ],
          "contour": [
           {
            "colorbar": {
             "outlinewidth": 0,
             "ticks": ""
            },
            "colorscale": [
             [
              0,
              "#0d0887"
             ],
             [
              0.1111111111111111,
              "#46039f"
             ],
             [
              0.2222222222222222,
              "#7201a8"
             ],
             [
              0.3333333333333333,
              "#9c179e"
             ],
             [
              0.4444444444444444,
              "#bd3786"
             ],
             [
              0.5555555555555556,
              "#d8576b"
             ],
             [
              0.6666666666666666,
              "#ed7953"
             ],
             [
              0.7777777777777778,
              "#fb9f3a"
             ],
             [
              0.8888888888888888,
              "#fdca26"
             ],
             [
              1,
              "#f0f921"
             ]
            ],
            "type": "contour"
           }
          ],
          "contourcarpet": [
           {
            "colorbar": {
             "outlinewidth": 0,
             "ticks": ""
            },
            "type": "contourcarpet"
           }
          ],
          "heatmap": [
           {
            "colorbar": {
             "outlinewidth": 0,
             "ticks": ""
            },
            "colorscale": [
             [
              0,
              "#0d0887"
             ],
             [
              0.1111111111111111,
              "#46039f"
             ],
             [
              0.2222222222222222,
              "#7201a8"
             ],
             [
              0.3333333333333333,
              "#9c179e"
             ],
             [
              0.4444444444444444,
              "#bd3786"
             ],
             [
              0.5555555555555556,
              "#d8576b"
             ],
             [
              0.6666666666666666,
              "#ed7953"
             ],
             [
              0.7777777777777778,
              "#fb9f3a"
             ],
             [
              0.8888888888888888,
              "#fdca26"
             ],
             [
              1,
              "#f0f921"
             ]
            ],
            "type": "heatmap"
           }
          ],
          "histogram": [
           {
            "marker": {
             "pattern": {
              "fillmode": "overlay",
              "size": 10,
              "solidity": 0.2
             }
            },
            "type": "histogram"
           }
          ],
          "histogram2d": [
           {
            "colorbar": {
             "outlinewidth": 0,
             "ticks": ""
            },
            "colorscale": [
             [
              0,
              "#0d0887"
             ],
             [
              0.1111111111111111,
              "#46039f"
             ],
             [
              0.2222222222222222,
              "#7201a8"
             ],
             [
              0.3333333333333333,
              "#9c179e"
             ],
             [
              0.4444444444444444,
              "#bd3786"
             ],
             [
              0.5555555555555556,
              "#d8576b"
             ],
             [
              0.6666666666666666,
              "#ed7953"
             ],
             [
              0.7777777777777778,
              "#fb9f3a"
             ],
             [
              0.8888888888888888,
              "#fdca26"
             ],
             [
              1,
              "#f0f921"
             ]
            ],
            "type": "histogram2d"
           }
          ],
          "histogram2dcontour": [
           {
            "colorbar": {
             "outlinewidth": 0,
             "ticks": ""
            },
            "colorscale": [
             [
              0,
              "#0d0887"
             ],
             [
              0.1111111111111111,
              "#46039f"
             ],
             [
              0.2222222222222222,
              "#7201a8"
             ],
             [
              0.3333333333333333,
              "#9c179e"
             ],
             [
              0.4444444444444444,
              "#bd3786"
             ],
             [
              0.5555555555555556,
              "#d8576b"
             ],
             [
              0.6666666666666666,
              "#ed7953"
             ],
             [
              0.7777777777777778,
              "#fb9f3a"
             ],
             [
              0.8888888888888888,
              "#fdca26"
             ],
             [
              1,
              "#f0f921"
             ]
            ],
            "type": "histogram2dcontour"
           }
          ],
          "mesh3d": [
           {
            "colorbar": {
             "outlinewidth": 0,
             "ticks": ""
            },
            "type": "mesh3d"
           }
          ],
          "parcoords": [
           {
            "line": {
             "colorbar": {
              "outlinewidth": 0,
              "ticks": ""
             }
            },
            "type": "parcoords"
           }
          ],
          "pie": [
           {
            "automargin": true,
            "type": "pie"
           }
          ],
          "scatter": [
           {
            "fillpattern": {
             "fillmode": "overlay",
             "size": 10,
             "solidity": 0.2
            },
            "type": "scatter"
           }
          ],
          "scatter3d": [
           {
            "line": {
             "colorbar": {
              "outlinewidth": 0,
              "ticks": ""
             }
            },
            "marker": {
             "colorbar": {
              "outlinewidth": 0,
              "ticks": ""
             }
            },
            "type": "scatter3d"
           }
          ],
          "scattercarpet": [
           {
            "marker": {
             "colorbar": {
              "outlinewidth": 0,
              "ticks": ""
             }
            },
            "type": "scattercarpet"
           }
          ],
          "scattergeo": [
           {
            "marker": {
             "colorbar": {
              "outlinewidth": 0,
              "ticks": ""
             }
            },
            "type": "scattergeo"
           }
          ],
          "scattergl": [
           {
            "marker": {
             "colorbar": {
              "outlinewidth": 0,
              "ticks": ""
             }
            },
            "type": "scattergl"
           }
          ],
          "scattermap": [
           {
            "marker": {
             "colorbar": {
              "outlinewidth": 0,
              "ticks": ""
             }
            },
            "type": "scattermap"
           }
          ],
          "scattermapbox": [
           {
            "marker": {
             "colorbar": {
              "outlinewidth": 0,
              "ticks": ""
             }
            },
            "type": "scattermapbox"
           }
          ],
          "scatterpolar": [
           {
            "marker": {
             "colorbar": {
              "outlinewidth": 0,
              "ticks": ""
             }
            },
            "type": "scatterpolar"
           }
          ],
          "scatterpolargl": [
           {
            "marker": {
             "colorbar": {
              "outlinewidth": 0,
              "ticks": ""
             }
            },
            "type": "scatterpolargl"
           }
          ],
          "scatterternary": [
           {
            "marker": {
             "colorbar": {
              "outlinewidth": 0,
              "ticks": ""
             }
            },
            "type": "scatterternary"
           }
          ],
          "surface": [
           {
            "colorbar": {
             "outlinewidth": 0,
             "ticks": ""
            },
            "colorscale": [
             [
              0,
              "#0d0887"
             ],
             [
              0.1111111111111111,
              "#46039f"
             ],
             [
              0.2222222222222222,
              "#7201a8"
             ],
             [
              0.3333333333333333,
              "#9c179e"
             ],
             [
              0.4444444444444444,
              "#bd3786"
             ],
             [
              0.5555555555555556,
              "#d8576b"
             ],
             [
              0.6666666666666666,
              "#ed7953"
             ],
             [
              0.7777777777777778,
              "#fb9f3a"
             ],
             [
              0.8888888888888888,
              "#fdca26"
             ],
             [
              1,
              "#f0f921"
             ]
            ],
            "type": "surface"
           }
          ],
          "table": [
           {
            "cells": {
             "fill": {
              "color": "#EBF0F8"
             },
             "line": {
              "color": "white"
             }
            },
            "header": {
             "fill": {
              "color": "#C8D4E3"
             },
             "line": {
              "color": "white"
             }
            },
            "type": "table"
           }
          ]
         },
         "layout": {
          "annotationdefaults": {
           "arrowcolor": "#2a3f5f",
           "arrowhead": 0,
           "arrowwidth": 1
          },
          "autotypenumbers": "strict",
          "coloraxis": {
           "colorbar": {
            "outlinewidth": 0,
            "ticks": ""
           }
          },
          "colorscale": {
           "diverging": [
            [
             0,
             "#8e0152"
            ],
            [
             0.1,
             "#c51b7d"
            ],
            [
             0.2,
             "#de77ae"
            ],
            [
             0.3,
             "#f1b6da"
            ],
            [
             0.4,
             "#fde0ef"
            ],
            [
             0.5,
             "#f7f7f7"
            ],
            [
             0.6,
             "#e6f5d0"
            ],
            [
             0.7,
             "#b8e186"
            ],
            [
             0.8,
             "#7fbc41"
            ],
            [
             0.9,
             "#4d9221"
            ],
            [
             1,
             "#276419"
            ]
           ],
           "sequential": [
            [
             0,
             "#0d0887"
            ],
            [
             0.1111111111111111,
             "#46039f"
            ],
            [
             0.2222222222222222,
             "#7201a8"
            ],
            [
             0.3333333333333333,
             "#9c179e"
            ],
            [
             0.4444444444444444,
             "#bd3786"
            ],
            [
             0.5555555555555556,
             "#d8576b"
            ],
            [
             0.6666666666666666,
             "#ed7953"
            ],
            [
             0.7777777777777778,
             "#fb9f3a"
            ],
            [
             0.8888888888888888,
             "#fdca26"
            ],
            [
             1,
             "#f0f921"
            ]
           ],
           "sequentialminus": [
            [
             0,
             "#0d0887"
            ],
            [
             0.1111111111111111,
             "#46039f"
            ],
            [
             0.2222222222222222,
             "#7201a8"
            ],
            [
             0.3333333333333333,
             "#9c179e"
            ],
            [
             0.4444444444444444,
             "#bd3786"
            ],
            [
             0.5555555555555556,
             "#d8576b"
            ],
            [
             0.6666666666666666,
             "#ed7953"
            ],
            [
             0.7777777777777778,
             "#fb9f3a"
            ],
            [
             0.8888888888888888,
             "#fdca26"
            ],
            [
             1,
             "#f0f921"
            ]
           ]
          },
          "colorway": [
           "#636efa",
           "#EF553B",
           "#00cc96",
           "#ab63fa",
           "#FFA15A",
           "#19d3f3",
           "#FF6692",
           "#B6E880",
           "#FF97FF",
           "#FECB52"
          ],
          "font": {
           "color": "#2a3f5f"
          },
          "geo": {
           "bgcolor": "white",
           "lakecolor": "white",
           "landcolor": "#E5ECF6",
           "showlakes": true,
           "showland": true,
           "subunitcolor": "white"
          },
          "hoverlabel": {
           "align": "left"
          },
          "hovermode": "closest",
          "mapbox": {
           "style": "light"
          },
          "paper_bgcolor": "white",
          "plot_bgcolor": "#E5ECF6",
          "polar": {
           "angularaxis": {
            "gridcolor": "white",
            "linecolor": "white",
            "ticks": ""
           },
           "bgcolor": "#E5ECF6",
           "radialaxis": {
            "gridcolor": "white",
            "linecolor": "white",
            "ticks": ""
           }
          },
          "scene": {
           "xaxis": {
            "backgroundcolor": "#E5ECF6",
            "gridcolor": "white",
            "gridwidth": 2,
            "linecolor": "white",
            "showbackground": true,
            "ticks": "",
            "zerolinecolor": "white"
           },
           "yaxis": {
            "backgroundcolor": "#E5ECF6",
            "gridcolor": "white",
            "gridwidth": 2,
            "linecolor": "white",
            "showbackground": true,
            "ticks": "",
            "zerolinecolor": "white"
           },
           "zaxis": {
            "backgroundcolor": "#E5ECF6",
            "gridcolor": "white",
            "gridwidth": 2,
            "linecolor": "white",
            "showbackground": true,
            "ticks": "",
            "zerolinecolor": "white"
           }
          },
          "shapedefaults": {
           "line": {
            "color": "#2a3f5f"
           }
          },
          "ternary": {
           "aaxis": {
            "gridcolor": "white",
            "linecolor": "white",
            "ticks": ""
           },
           "baxis": {
            "gridcolor": "white",
            "linecolor": "white",
            "ticks": ""
           },
           "bgcolor": "#E5ECF6",
           "caxis": {
            "gridcolor": "white",
            "linecolor": "white",
            "ticks": ""
           }
          },
          "title": {
           "x": 0.05
          },
          "xaxis": {
           "automargin": true,
           "gridcolor": "white",
           "linecolor": "white",
           "ticks": "",
           "title": {
            "standoff": 15
           },
           "zerolinecolor": "white",
           "zerolinewidth": 2
          },
          "yaxis": {
           "automargin": true,
           "gridcolor": "white",
           "linecolor": "white",
           "ticks": "",
           "title": {
            "standoff": 15
           },
           "zerolinecolor": "white",
           "zerolinewidth": 2
          }
         }
        },
        "title": {
         "text": "Target vs Achieved Mean"
        },
        "width": 700
       }
      }
     },
     "metadata": {},
     "output_type": "display_data"
    },
    {
     "data": {
      "application/vnd.plotly.v1+json": {
       "config": {
        "plotlyServerURL": "https://plot.ly"
       },
       "data": [
        {
         "colorscale": [
          [
           0,
           "#440154"
          ],
          [
           0.1111111111111111,
           "#482878"
          ],
          [
           0.2222222222222222,
           "#3e4989"
          ],
          [
           0.3333333333333333,
           "#31688e"
          ],
          [
           0.4444444444444444,
           "#26828e"
          ],
          [
           0.5555555555555556,
           "#1f9e89"
          ],
          [
           0.6666666666666666,
           "#35b779"
          ],
          [
           0.7777777777777778,
           "#6ece58"
          ],
          [
           0.8888888888888888,
           "#b5de2b"
          ],
          [
           1,
           "#fde725"
          ]
         ],
         "opacity": 0.3,
         "showscale": false,
         "type": "surface",
         "x": {
          "bdata": "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",
          "dtype": "f8",
          "shape": "50, 25"
         },
         "y": {
          "bdata": "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",
          "dtype": "f8",
          "shape": "50, 25"
         },
         "z": {
          "bdata": "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",
          "dtype": "f8",
          "shape": "50, 25"
         }
        },
        {
         "marker": {
          "color": "black",
          "size": 8
         },
         "mode": "markers",
         "name": "Target Mean",
         "type": "scatter3d",
         "x": [
          -0.10978552368136928
         ],
         "y": [
          0.4795498778884235
         ],
         "z": [
          -0.8706199247703935
         ]
        },
        {
         "marker": {
          "color": "blue",
          "size": 2
         },
         "mode": "markers",
         "showlegend": false,
         "type": "scatter3d",
         "x": {
          "bdata": "ScmLfkdE6j8IPqYgAs3pP52aPeY9UOk/k+je0Ob56D9pbhUTo4boP2oWSmq+ROg/V5YSkKDp5z9O4yfC2IXnP+VeIOYjTOc/aOBmq7Ll5j9qiiBOgo7mP96GJJvQSuY/bAFXeND65T8aNwl3h7TlP3vKvXvLbOU/VeKWyEIx5T+5DtjTffzkP4aLSAIwqeM/N7/VvpJm4z/qFOGW3yLjP6KD2XCG8OI/xvl2zOK04j9C/PPJ2nniPx67CuGdyOE/VArOfpok4T/G6IuL3ebgPw2MxnwNr+A/gSaTnXt94D/QRL27yErgP2hkKnmId94/YMqVwncj3j9P2EgnC8XdP9Oo2sNze90/ZPTnVuQk3T+pwqJo2rvcP4arn1V7bNw/72CnXmcb3D/dLcmWMLfbP1P3/QIha9s/AlUY6ekR2z8k8MtmSMnaP8JIPebfeto/CEjgfrk62j9NOynJIY/ZP0T8DG9KINk/su0CS6bc2D9HmMp72Z7YPwDvN0UQY9g/ki+auNAW2D/FaFOGmMrXP1S89vSKgNc/EHVSNL4W1z/xBMx2TdjWP3T9V63kltY/ZDiPaMts1j/48RXT7x/WP+JtcMmu5tU/r1X70ISq1T+DYGELZHDVP6e+wO4OJdU/L5rVGAPk1D+ajWsniLDUPwN5+bYCbtQ/eWl3FLs31D8pb9ztn+vTP5L7QA9zqdM/HvFMdEJr0z/nTJT5+ybTP2eKDDWIo9I/NJwQNfdw0j89CbcW9T7SP0iaaKxk+9E/hjcnsoHM0T8lFWM2FZjRP1Ht1gamY9E/MtWCp+8w0T9fO9V4MgXRP7cbD5HXztA/d1FXGMar0D/3enE+R23QP5G0slCMPNA/Qn0buvgJ0D8Aw0yFdbXPP9FWHDLyVc8/NYFJI/7kzj8bIRp8aoTOP8JMpSnREs4/hpJG/O2/zT9iEOAJ42LNP7gO+6+UC80/ApO71Vq8zD+iSdkoQmPMP8AccQCOD8w/C2j6YIW4yz97HWqiBlDLP7bsTMruCMs/PlpDDgyhyj9ZZm4uNlvKP+kieUH1Eso/8cUPBT+1yT+swExQ6WjJPw==",
          "dtype": "f8"
         },
         "y": {
          "bdata": "fzlzoZ/yyD//lvc+0JfIP/QQchlNDsg/V7oa8mcwyD+fEeKegc3HP3x+TT4EK8g/we1ZoHBDyD9R6FZgvCrIP5fqZJoKqsg/rSYiyTGxyD+OqVG5EPbIPyXi7rL0O8k/j17YJgVuyT+jE9zJ5tnJPx1I3EqxEMo/nXSVC8Vsyj8DS5IO6vDKPyHJz6i13Mc/HGoAxQ85yD+l8TslH4fIP3SItN5tD8k/4B1ElstxyT+CvA/QncDJP6qQWTb0w8g/VjjViakyyD+KnQ1txI/IP3K1pRoS9sg/yUIRGU9qyT/YeHdBvefJP8Rgd+fmp8c/p0AS6agtyD8j8HaHzqjIP841CAXjNsk/odxF+Sm9yT9oiMpv4ATKPzUqU7vsgMo/U9mjH37myj90FQRgJFDLP4ApMCZdrcs/G/AIpPcLzD/ErNrCUovMP/FP6tW918w/ZBPPSd5czT/oNOv7IEzNP1Lse2Xolc0/pJibx0wRzj9xEySARoTOP61Ba+169M4/hZ7O6XNVzz+CP8GckbnPPyAu0G07BtA/ebfRoOMX0D82Gw5gfETQPzF7riuCd9A/VFY2gs230D/jI3loOeHQPyotfjyeCtE/XPJtCcc30T9a+azGuWDRPzknStFEh9E/80Mfcqy20T+pe8ENyd/RP4rcqo7k+tE/LYD9AB4n0j+KqQsWekTSP/6jz2CPbdI/p27c3uOG0j9L0R+Gz6bSPyRkGABnodI/b6t97z/B0j/0nkRH9trSP2fdDcr4CNM/br68lCZG0z+6GVBCoWrTP01Im3lShdM/RNJoLgWg0z/NZ1jJz7/TPxoIsAC70tM//9HPry0H1D+C6q7rPR7UP5vHxx3tK9Q/iqVrZRZM1D8Y7BMKXGTUP+NZZtYHfdQ/SIc8A46s1D9ANMOzHsbUP8OpPVAu5NQ/+/SMPfMC1T9aiwReWRzVPxhWTm+MPNU/kmS2M0pR1T/Aj3htp2vVPzaVaGCHhdU/i68fceib1T/EWp8H7bTVP1KKHnV0z9U/VAtTvMzp1T+KXk48ewLWPxTHiMEQE9Y/TJ9O6lQw1j/NMlFIJFDWPw==",
          "dtype": "f8"
         },
         "z": {
          "bdata": "SplNdCMu4b9JFXMzKufhv2hs7gMtoeK/CG0rIqAR47/BBeeOjqzjvzk/U4qZ9uO/YVeTMpVh5L/rK1+GOtbkv8IQ9uNzDeW/6nLB9C585b+PRV68wdLlvy6O6nfsEua/KjdGrwtf5r/DvZYFn5vmv63uSGbC2+a/omTEeHIM57/xWKwSCzPnv3CEh1FqiOi/vEocCZ236L+X3pPAZefov06iOp9VBem/5C1dSuEr6b+r7ebkWlLpv7bATlp43+m/s7Ta2LVV6r8yyoNRJHjqv2jBEIGBleq/bmgYTIKt6r8/kOXtE8XqvyGv+qtVg+u/HjBVZDKT679XTQ2y/6Xrv5FbFZqxseu/e9zqw9zA678470PYBtjrv9cRhqwR5eu/cBoxRITz678Lq3RNGwbsv1gSjW4VE+y/Xy8huNci7L8KVyq6NSzsvzQWPgXdOey/NE18g0FA7L8hudyijGjsv++BL412fOy/Lqgl6TiD7L/N+hHz/Yjsv0gX/3RFjuy/hzI6rdWX7L8/b/Yn4qDsvz3Q6vhlquy/5YVHTWW97L9f/2c2l8Psv68Px7o+yey/uTNTiDXI7L+ScXe5B9Hsv6NcHTHf1ey/PakXu4ba7L/8h9YTPt/sv+ff6EhN5+y/Oiwpeebr7L9JHFnt0+7sv2aSfT9x9uy/LVbXTxH57L/rXLzzoAHtv0ZMYRtrBu2/w9oI7dkM7b+e3SDeEhPtv9eUTOVDKe2/Fug8wDIs7b/Y8b046i/tv+fcElTuMu2//3lfOxQw7b++ti/7+jHtvwYpGCliNe2/wA8cQWo47b/Cs8wcdjntv9KYR1gfPu2/4JV2ozQ67b/A/qotFz/tv0sO1SSJQ+2/ehnz5fJE7b9tchVXKkftv0vlaUhJSe2/REkT6G9I7b8BZ9c4PkrtvwBg6L09TO2/U1oafQdM7b8WkrJYVU3tv2zU/gT1TO2/UlKa7hJO7b+dQTnwsU7tv07CYH/+Tu2/QPD6yQ1Q7b/LB8s2kFHtv9SwhG3CUO2/pWWkZMpR7b/Q++fRHFHtv1lOUIwIUu2/efBmwa5R7b8xjI9dzk/tvw==",
          "dtype": "f8"
         }
        },
        {
         "marker": {
          "color": "blue",
          "size": 8
         },
         "mode": "markers",
         "name": "Current Mean",
         "type": "scatter3d",
         "x": [
          0.19851414128198053
         ],
         "y": [
          0.34864146291947123
         ],
         "z": [
          -0.9159919574125351
         ]
        },
        {
         "marker": {
          "color": "red",
          "size": 3
         },
         "mode": "markers",
         "name": "Projected Points",
         "type": "scatter3d",
         "x": {
          "bdata": "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",
          "dtype": "f8"
         },
         "y": {
          "bdata": "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",
          "dtype": "f8"
         },
         "z": {
          "bdata": "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",
          "dtype": "f8"
         }
        }
       ],
       "layout": {
        "height": 700,
        "scene": {
         "aspectmode": "cube"
        },
        "template": {
         "data": {
          "bar": [
           {
            "error_x": {
             "color": "#2a3f5f"
            },
            "error_y": {
             "color": "#2a3f5f"
            },
            "marker": {
             "line": {
              "color": "#E5ECF6",
              "width": 0.5
             },
             "pattern": {
              "fillmode": "overlay",
              "size": 10,
              "solidity": 0.2
             }
            },
            "type": "bar"
           }
          ],
          "barpolar": [
           {
            "marker": {
             "line": {
              "color": "#E5ECF6",
              "width": 0.5
             },
             "pattern": {
              "fillmode": "overlay",
              "size": 10,
              "solidity": 0.2
             }
            },
            "type": "barpolar"
           }
          ],
          "carpet": [
           {
            "aaxis": {
             "endlinecolor": "#2a3f5f",
             "gridcolor": "white",
             "linecolor": "white",
             "minorgridcolor": "white",
             "startlinecolor": "#2a3f5f"
            },
            "baxis": {
             "endlinecolor": "#2a3f5f",
             "gridcolor": "white",
             "linecolor": "white",
             "minorgridcolor": "white",
             "startlinecolor": "#2a3f5f"
            },
            "type": "carpet"
           }
          ],
          "choropleth": [
           {
            "colorbar": {
             "outlinewidth": 0,
             "ticks": ""
            },
            "type": "choropleth"
           }
          ],
          "contour": [
           {
            "colorbar": {
             "outlinewidth": 0,
             "ticks": ""
            },
            "colorscale": [
             [
              0,
              "#0d0887"
             ],
             [
              0.1111111111111111,
              "#46039f"
             ],
             [
              0.2222222222222222,
              "#7201a8"
             ],
             [
              0.3333333333333333,
              "#9c179e"
             ],
             [
              0.4444444444444444,
              "#bd3786"
             ],
             [
              0.5555555555555556,
              "#d8576b"
             ],
             [
              0.6666666666666666,
              "#ed7953"
             ],
             [
              0.7777777777777778,
              "#fb9f3a"
             ],
             [
              0.8888888888888888,
              "#fdca26"
             ],
             [
              1,
              "#f0f921"
             ]
            ],
            "type": "contour"
           }
          ],
          "contourcarpet": [
           {
            "colorbar": {
             "outlinewidth": 0,
             "ticks": ""
            },
            "type": "contourcarpet"
           }
          ],
          "heatmap": [
           {
            "colorbar": {
             "outlinewidth": 0,
             "ticks": ""
            },
            "colorscale": [
             [
              0,
              "#0d0887"
             ],
             [
              0.1111111111111111,
              "#46039f"
             ],
             [
              0.2222222222222222,
              "#7201a8"
             ],
             [
              0.3333333333333333,
              "#9c179e"
             ],
             [
              0.4444444444444444,
              "#bd3786"
             ],
             [
              0.5555555555555556,
              "#d8576b"
             ],
             [
              0.6666666666666666,
              "#ed7953"
             ],
             [
              0.7777777777777778,
              "#fb9f3a"
             ],
             [
              0.8888888888888888,
              "#fdca26"
             ],
             [
              1,
              "#f0f921"
             ]
            ],
            "type": "heatmap"
           }
          ],
          "histogram": [
           {
            "marker": {
             "pattern": {
              "fillmode": "overlay",
              "size": 10,
              "solidity": 0.2
             }
            },
            "type": "histogram"
           }
          ],
          "histogram2d": [
           {
            "colorbar": {
             "outlinewidth": 0,
             "ticks": ""
            },
            "colorscale": [
             [
              0,
              "#0d0887"
             ],
             [
              0.1111111111111111,
              "#46039f"
             ],
             [
              0.2222222222222222,
              "#7201a8"
             ],
             [
              0.3333333333333333,
              "#9c179e"
             ],
             [
              0.4444444444444444,
              "#bd3786"
             ],
             [
              0.5555555555555556,
              "#d8576b"
             ],
             [
              0.6666666666666666,
              "#ed7953"
             ],
             [
              0.7777777777777778,
              "#fb9f3a"
             ],
             [
              0.8888888888888888,
              "#fdca26"
             ],
             [
              1,
              "#f0f921"
             ]
            ],
            "type": "histogram2d"
           }
          ],
          "histogram2dcontour": [
           {
            "colorbar": {
             "outlinewidth": 0,
             "ticks": ""
            },
            "colorscale": [
             [
              0,
              "#0d0887"
             ],
             [
              0.1111111111111111,
              "#46039f"
             ],
             [
              0.2222222222222222,
              "#7201a8"
             ],
             [
              0.3333333333333333,
              "#9c179e"
             ],
             [
              0.4444444444444444,
              "#bd3786"
             ],
             [
              0.5555555555555556,
              "#d8576b"
             ],
             [
              0.6666666666666666,
              "#ed7953"
             ],
             [
              0.7777777777777778,
              "#fb9f3a"
             ],
             [
              0.8888888888888888,
              "#fdca26"
             ],
             [
              1,
              "#f0f921"
             ]
            ],
            "type": "histogram2dcontour"
           }
          ],
          "mesh3d": [
           {
            "colorbar": {
             "outlinewidth": 0,
             "ticks": ""
            },
            "type": "mesh3d"
           }
          ],
          "parcoords": [
           {
            "line": {
             "colorbar": {
              "outlinewidth": 0,
              "ticks": ""
             }
            },
            "type": "parcoords"
           }
          ],
          "pie": [
           {
            "automargin": true,
            "type": "pie"
           }
          ],
          "scatter": [
           {
            "fillpattern": {
             "fillmode": "overlay",
             "size": 10,
             "solidity": 0.2
            },
            "type": "scatter"
           }
          ],
          "scatter3d": [
           {
            "line": {
             "colorbar": {
              "outlinewidth": 0,
              "ticks": ""
             }
            },
            "marker": {
             "colorbar": {
              "outlinewidth": 0,
              "ticks": ""
             }
            },
            "type": "scatter3d"
           }
          ],
          "scattercarpet": [
           {
            "marker": {
             "colorbar": {
              "outlinewidth": 0,
              "ticks": ""
             }
            },
            "type": "scattercarpet"
           }
          ],
          "scattergeo": [
           {
            "marker": {
             "colorbar": {
              "outlinewidth": 0,
              "ticks": ""
             }
            },
            "type": "scattergeo"
           }
          ],
          "scattergl": [
           {
            "marker": {
             "colorbar": {
              "outlinewidth": 0,
              "ticks": ""
             }
            },
            "type": "scattergl"
           }
          ],
          "scattermap": [
           {
            "marker": {
             "colorbar": {
              "outlinewidth": 0,
              "ticks": ""
             }
            },
            "type": "scattermap"
           }
          ],
          "scattermapbox": [
           {
            "marker": {
             "colorbar": {
              "outlinewidth": 0,
              "ticks": ""
             }
            },
            "type": "scattermapbox"
           }
          ],
          "scatterpolar": [
           {
            "marker": {
             "colorbar": {
              "outlinewidth": 0,
              "ticks": ""
             }
            },
            "type": "scatterpolar"
           }
          ],
          "scatterpolargl": [
           {
            "marker": {
             "colorbar": {
              "outlinewidth": 0,
              "ticks": ""
             }
            },
            "type": "scatterpolargl"
           }
          ],
          "scatterternary": [
           {
            "marker": {
             "colorbar": {
              "outlinewidth": 0,
              "ticks": ""
             }
            },
            "type": "scatterternary"
           }
          ],
          "surface": [
           {
            "colorbar": {
             "outlinewidth": 0,
             "ticks": ""
            },
            "colorscale": [
             [
              0,
              "#0d0887"
             ],
             [
              0.1111111111111111,
              "#46039f"
             ],
             [
              0.2222222222222222,
              "#7201a8"
             ],
             [
              0.3333333333333333,
              "#9c179e"
             ],
             [
              0.4444444444444444,
              "#bd3786"
             ],
             [
              0.5555555555555556,
              "#d8576b"
             ],
             [
              0.6666666666666666,
              "#ed7953"
             ],
             [
              0.7777777777777778,
              "#fb9f3a"
             ],
             [
              0.8888888888888888,
              "#fdca26"
             ],
             [
              1,
              "#f0f921"
             ]
            ],
            "type": "surface"
           }
          ],
          "table": [
           {
            "cells": {
             "fill": {
              "color": "#EBF0F8"
             },
             "line": {
              "color": "white"
             }
            },
            "header": {
             "fill": {
              "color": "#C8D4E3"
             },
             "line": {
              "color": "white"
             }
            },
            "type": "table"
           }
          ]
         },
         "layout": {
          "annotationdefaults": {
           "arrowcolor": "#2a3f5f",
           "arrowhead": 0,
           "arrowwidth": 1
          },
          "autotypenumbers": "strict",
          "coloraxis": {
           "colorbar": {
            "outlinewidth": 0,
            "ticks": ""
           }
          },
          "colorscale": {
           "diverging": [
            [
             0,
             "#8e0152"
            ],
            [
             0.1,
             "#c51b7d"
            ],
            [
             0.2,
             "#de77ae"
            ],
            [
             0.3,
             "#f1b6da"
            ],
            [
             0.4,
             "#fde0ef"
            ],
            [
             0.5,
             "#f7f7f7"
            ],
            [
             0.6,
             "#e6f5d0"
            ],
            [
             0.7,
             "#b8e186"
            ],
            [
             0.8,
             "#7fbc41"
            ],
            [
             0.9,
             "#4d9221"
            ],
            [
             1,
             "#276419"
            ]
           ],
           "sequential": [
            [
             0,
             "#0d0887"
            ],
            [
             0.1111111111111111,
             "#46039f"
            ],
            [
             0.2222222222222222,
             "#7201a8"
            ],
            [
             0.3333333333333333,
             "#9c179e"
            ],
            [
             0.4444444444444444,
             "#bd3786"
            ],
            [
             0.5555555555555556,
             "#d8576b"
            ],
            [
             0.6666666666666666,
             "#ed7953"
            ],
            [
             0.7777777777777778,
             "#fb9f3a"
            ],
            [
             0.8888888888888888,
             "#fdca26"
            ],
            [
             1,
             "#f0f921"
            ]
           ],
           "sequentialminus": [
            [
             0,
             "#0d0887"
            ],
            [
             0.1111111111111111,
             "#46039f"
            ],
            [
             0.2222222222222222,
             "#7201a8"
            ],
            [
             0.3333333333333333,
             "#9c179e"
            ],
            [
             0.4444444444444444,
             "#bd3786"
            ],
            [
             0.5555555555555556,
             "#d8576b"
            ],
            [
             0.6666666666666666,
             "#ed7953"
            ],
            [
             0.7777777777777778,
             "#fb9f3a"
            ],
            [
             0.8888888888888888,
             "#fdca26"
            ],
            [
             1,
             "#f0f921"
            ]
           ]
          },
          "colorway": [
           "#636efa",
           "#EF553B",
           "#00cc96",
           "#ab63fa",
           "#FFA15A",
           "#19d3f3",
           "#FF6692",
           "#B6E880",
           "#FF97FF",
           "#FECB52"
          ],
          "font": {
           "color": "#2a3f5f"
          },
          "geo": {
           "bgcolor": "white",
           "lakecolor": "white",
           "landcolor": "#E5ECF6",
           "showlakes": true,
           "showland": true,
           "subunitcolor": "white"
          },
          "hoverlabel": {
           "align": "left"
          },
          "hovermode": "closest",
          "mapbox": {
           "style": "light"
          },
          "paper_bgcolor": "white",
          "plot_bgcolor": "#E5ECF6",
          "polar": {
           "angularaxis": {
            "gridcolor": "white",
            "linecolor": "white",
            "ticks": ""
           },
           "bgcolor": "#E5ECF6",
           "radialaxis": {
            "gridcolor": "white",
            "linecolor": "white",
            "ticks": ""
           }
          },
          "scene": {
           "xaxis": {
            "backgroundcolor": "#E5ECF6",
            "gridcolor": "white",
            "gridwidth": 2,
            "linecolor": "white",
            "showbackground": true,
            "ticks": "",
            "zerolinecolor": "white"
           },
           "yaxis": {
            "backgroundcolor": "#E5ECF6",
            "gridcolor": "white",
            "gridwidth": 2,
            "linecolor": "white",
            "showbackground": true,
            "ticks": "",
            "zerolinecolor": "white"
           },
           "zaxis": {
            "backgroundcolor": "#E5ECF6",
            "gridcolor": "white",
            "gridwidth": 2,
            "linecolor": "white",
            "showbackground": true,
            "ticks": "",
            "zerolinecolor": "white"
           }
          },
          "shapedefaults": {
           "line": {
            "color": "#2a3f5f"
           }
          },
          "ternary": {
           "aaxis": {
            "gridcolor": "white",
            "linecolor": "white",
            "ticks": ""
           },
           "baxis": {
            "gridcolor": "white",
            "linecolor": "white",
            "ticks": ""
           },
           "bgcolor": "#E5ECF6",
           "caxis": {
            "gridcolor": "white",
            "linecolor": "white",
            "ticks": ""
           }
          },
          "title": {
           "x": 0.05
          },
          "xaxis": {
           "automargin": true,
           "gridcolor": "white",
           "linecolor": "white",
           "ticks": "",
           "title": {
            "standoff": 15
           },
           "zerolinecolor": "white",
           "zerolinewidth": 2
          },
          "yaxis": {
           "automargin": true,
           "gridcolor": "white",
           "linecolor": "white",
           "ticks": "",
           "title": {
            "standoff": 15
           },
           "zerolinecolor": "white",
           "zerolinewidth": 2
          }
         }
        },
        "title": {
         "text": "Target vs Achieved Mean"
        },
        "width": 700
       }
      }
     },
     "metadata": {},
     "output_type": "display_data"
    }
   ],
   "source": [
    "sigma = 0.1\n",
    "sphere = PymanoptSphereManifold(dim)\n",
    "mean = sphere.random_point()\n",
    "axis = get_axis(x)\n",
    "data = np.random.multivariate_normal(np.zeros(dim - 1), sigma**2 * np.eye(dim - 1), size=1000)\n",
    "tangent_vectors = data@axis\n",
    "projected_points = np.array([sphere.exp(x, t) for t in tangent_vectors])\n",
    "\n",
    "plot_tangent_points(x, tangent_vectors)\n",
    "plot_projected_sphere(x, projected_points)\n",
    "\n",
    "print(f'x (mean): {x}')\n",
    "print(f'Sigma: {sigma**2 * np.eye(dim - 1)}')\n",
    "\n",
    "mus, opt_cov = mle_manifold(projected_points, sphere, 0.01, 0.01)\n",
    "opt_mu = mus[-1]\n",
    "print(f'optimal mean: {opt_mu}')\n",
    "print(f'optimal covariance: {opt_cov}')\n",
    "\n",
    "plot_mean(x, np.array(mus))\n",
    "plot_mean_and_points(x, np.array(mus), projected_points)"
   ]
  },
  {
   "cell_type": "code",
   "execution_count": null,
   "metadata": {},
   "outputs": [],
   "source": []
  },
  {
   "cell_type": "code",
   "execution_count": null,
   "metadata": {},
   "outputs": [],
   "source": []
  },
  {
   "cell_type": "code",
   "execution_count": null,
   "metadata": {},
   "outputs": [],
   "source": []
  }
 ],
 "metadata": {
  "kernelspec": {
   "display_name": "neml-venv",
   "language": "python",
   "name": "python3"
  },
  "language_info": {
   "codemirror_mode": {
    "name": "ipython",
    "version": 3
   },
   "file_extension": ".py",
   "mimetype": "text/x-python",
   "name": "python",
   "nbconvert_exporter": "python",
   "pygments_lexer": "ipython3",
   "version": "3.10.16"
  }
 },
 "nbformat": 4,
 "nbformat_minor": 2
}

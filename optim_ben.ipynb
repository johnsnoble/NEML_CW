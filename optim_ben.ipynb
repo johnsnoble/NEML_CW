{
 "cells": [
  {
   "cell_type": "code",
   "execution_count": 1,
   "metadata": {},
   "outputs": [],
   "source": [
    "import pymanopt\n",
    "import numpy as np\n",
    "from scipy.integrate import solve_ivp\n",
    "from scipy.optimize import minimize\n",
    "import matplotlib.pyplot as plt\n",
    "from mpl_toolkits.mplot3d import Axes3D\n",
    "from pymanopt.manifolds import Sphere\n",
    "import plotly.graph_objects as go\n",
    "from abc import ABC, abstractmethod"
   ]
  },
  {
   "cell_type": "code",
   "execution_count": 2,
   "metadata": {},
   "outputs": [],
   "source": [
    "dim = 3"
   ]
  },
  {
   "cell_type": "code",
   "execution_count": 3,
   "metadata": {},
   "outputs": [],
   "source": [
    "class Manifold(ABC):\n",
    "    \"\"\"\n",
    "    Abstract base class for manifolds with exp and log maps.\n",
    "    \"\"\"\n",
    "\n",
    "    @abstractmethod\n",
    "    def exp(self, x, v):\n",
    "        \"\"\"Exponential map: tangent space -> manifold.\"\"\"\n",
    "        pass\n",
    "\n",
    "    @abstractmethod\n",
    "    def log(self, x, y):\n",
    "        \"\"\"Logarithmic map: manifold -> tangent space.\"\"\"\n",
    "        pass"
   ]
  },
  {
   "cell_type": "code",
   "execution_count": 4,
   "metadata": {},
   "outputs": [],
   "source": [
    "# Wrapper around pymanopt Sphere manifold\n",
    "class PymanoptSphereManifold(Manifold):\n",
    "    def __init__(self, dim):\n",
    "        self.manifold = Sphere(dim)\n",
    "\n",
    "    def exp(self, x, v):\n",
    "        return self.manifold.exp(x, v)\n",
    "\n",
    "    def log(self, x, y):\n",
    "        return self.manifold.log(x, y)\n",
    "\n",
    "    def __getattr__(self, attr):\n",
    "        return getattr(self.manifold, attr)"
   ]
  },
  {
   "cell_type": "code",
   "execution_count": 5,
   "metadata": {},
   "outputs": [],
   "source": [
    "# Compute local metric tensor\n",
    "def local_metric_tensor(x, data, rho=1e-5):\n",
    "    \"\"\"\n",
    "    Computes the local diagonal metric tensor at point x.\n",
    "\n",
    "    Parameters:\n",
    "    - x: (D,) point at which the metric is evaluated\n",
    "    - data: (N, D) array of data points\n",
    "    - rho: regularization constant to prevent singularities\n",
    "\n",
    "    Returns:\n",
    "    - metric_tensor: (D,) diagonal elements of the metric tensor at point x\n",
    "    \"\"\"\n",
    "    # Gaussian kernel bandwidth\n",
    "    sigma = 0.5\n",
    "\n",
    "    # The metric tensor is a diagonal matrix with diagonal elements\n",
    "    diff_sq = (data - x)**2\n",
    "    distances_sq = np.sum(diff_sq, axis=1)\n",
    "    weights = np.exp(-distances_sq / (2 * sigma**2))\n",
    "    weighted_cov_diag = np.sum(weights[:, np.newaxis] * diff_sq, axis=0) + rho\n",
    "    metric_tensor = np.diag(1.0 / weighted_cov_diag)\n",
    "\n",
    "    return metric_tensor\n",
    "\n",
    "# Determinant of local metric (assumed diagonal)\n",
    "def det_local_metric(x, data, rho=1e-5):\n",
    "    metric_tensor = local_metric_tensor(x, data, rho)\n",
    "    metric_det = np.prod(metric_tensor)\n",
    "    return metric_det"
   ]
  },
  {
   "cell_type": "code",
   "execution_count": 6,
   "metadata": {},
   "outputs": [],
   "source": [
    "tol = 1e-5\n",
    "\n",
    "def gram_schmidt(vectors):\n",
    "    Q = np.zeros_like(vectors)\n",
    "    for i in range(len(vectors)):\n",
    "        v = vectors[i]\n",
    "        for j in range(i):\n",
    "            proj = np.dot(v, Q[j]) / np.dot(Q[j], Q[j]) * Q[j]\n",
    "            v = v - proj\n",
    "        Q[i] = v / np.linalg.norm(v)\n",
    "    return Q\n",
    "    \n",
    "def get_axis(normal):\n",
    "    # Assumes it is norm 1\n",
    "    Q = np.eye(dim)\n",
    "    arg = np.argmax(normal)\n",
    "    if normal[arg]>(1-tol) and np.sum(normal)>(1-tol):\n",
    "        return np.concatenate([Q[:arg], Q[arg+1:]])\n",
    "    return gram_schmidt(np.vstack([normal,Q[:-1]]))[1:]\n",
    "\n",
    "def get_e(i,n):\n",
    "    return np.array(i*[0]+[1]+(n-i-1)*[0])"
   ]
  },
  {
   "cell_type": "code",
   "execution_count": 7,
   "metadata": {},
   "outputs": [],
   "source": [
    "# Compute derivative of the metric tensor numerically\n",
    "def metric_tensor_jacobian(x, data, eps=1e-5):\n",
    "    D = len(x)\n",
    "    jac = np.zeros((D, D, D))\n",
    "    for i in range(D):\n",
    "        dx = np.zeros(D)\n",
    "        dx[i] = eps\n",
    "        jac[:, :, i] = (local_metric_tensor(x + dx, data) - local_metric_tensor(x - dx, data)) / (2 * eps)\n",
    "    return jac\n",
    "\n",
    "# Geodesic ODE function\n",
    "def geodesic_ode(t, y, data):\n",
    "    D = len(y) // 2\n",
    "    pos, vel = y[:D], y[D:]\n",
    "\n",
    "    M = local_metric_tensor(pos, data)\n",
    "    M_inv = np.linalg.inv(M)\n",
    "    M_jac = metric_tensor_jacobian(pos, data)\n",
    "\n",
    "    # Compute Christoffel term\n",
    "    christoffel = np.zeros(D)\n",
    "    for i in range(D):\n",
    "        christoffel[i] = vel @ M_jac[:, :, i] @ vel\n",
    "\n",
    "    acc = -0.5 * M_inv @ christoffel\n",
    "    return np.concatenate([vel, acc])\n",
    "\n",
    "# Exponential map (Initial value problem)\n",
    "def exp_map(x, v, data, t_final=1.0):\n",
    "    y0 = np.concatenate([x, v])\n",
    "    sol = solve_ivp(geodesic_ode, [0, t_final], y0, args=(data,), method='RK45', atol=1e-8)\n",
    "    return sol.y[:len(x), -1]\n",
    "\n",
    "# Logarithmic map (Boundary value problem solved via optimization)\n",
    "def log_map(x, y_target, data, t_final=1.0):\n",
    "    D = len(x)\n",
    "\n",
    "    def objective(v_guess):\n",
    "        y_final = exp_map(x, v_guess, data, t_final)\n",
    "        return np.linalg.norm(y_final - y_target)**2\n",
    "\n",
    "    res = minimize(objective, np.zeros(D), method='BFGS', options={'gtol':1e-8, 'disp':False})\n",
    "    return res.x"
   ]
  },
  {
   "cell_type": "code",
   "execution_count": 22,
   "metadata": {},
   "outputs": [],
   "source": [
    "class LearningManifold(Manifold):\n",
    "    def __init__(self, data):\n",
    "        self.data = data\n",
    "        self.t_final = 1.0\n",
    "\n",
    "    def exp(self, x, v):\n",
    "        y0 = np.concatenate([x, v])\n",
    "        sol = solve_ivp(geodesic_ode, [0, self.t_final], y0, args=(self.data,), method='RK45', atol=1e-8)\n",
    "        return sol.y[:len(x), -1]\n",
    "\n",
    "    def log(self, x, y):\n",
    "        D = len(x)\n",
    "\n",
    "        def objective(v_guess):\n",
    "            y_final = exp_map(x, v_guess, self.data, self.t_final)\n",
    "            return np.linalg.norm(y_final - y)**2\n",
    "\n",
    "        res = minimize(objective, np.zeros(D), method='BFGS', options={'gtol':1e-8, 'disp':False})\n",
    "        return res.x"
   ]
  },
  {
   "cell_type": "code",
   "execution_count": 44,
   "metadata": {},
   "outputs": [],
   "source": [
    "def plot_tangent_points(x, tangent_vectors):    \n",
    "    # Sphere mesh\n",
    "    theta, phi = np.mgrid[0:2*np.pi:50j, 0:np.pi:25j]\n",
    "    xs = np.cos(theta)*np.sin(phi)\n",
    "    ys = np.sin(theta)*np.sin(phi)\n",
    "    zs = np.cos(phi)\n",
    "\n",
    "    tangent_points = tangent_vectors + x\n",
    "\n",
    "    fig = go.Figure()\n",
    "\n",
    "    # Sphere surface\n",
    "    fig.add_trace(go.Surface(x=xs, y=ys, z=zs, opacity=0.3, colorscale='Viridis', showscale=False))\n",
    "\n",
    "    # Projected points\n",
    "    fig.add_trace(go.Scatter3d(x=tangent_points[:,0], y=tangent_points[:,1], z=tangent_points[:,2],\n",
    "                            mode='markers', marker=dict(size=3, color='red'), name='Tangent Points'))\n",
    "\n",
    "    # Base point\n",
    "    fig.add_trace(go.Scatter3d(x=[x[0]], y=[x[1]], z=[x[2]],\n",
    "                            mode='markers', marker=dict(size=8, color='black'), name='Base Point'))\n",
    "\n",
    "    fig.update_layout(\n",
    "        scene=dict(\n",
    "            aspectmode='data',\n",
    "        ),\n",
    "        width=700, \n",
    "        height=700,\n",
    "        title='Tangent Points and Sphere Mesh'\n",
    "    )\n",
    "\n",
    "    fig.show()"
   ]
  },
  {
   "cell_type": "code",
   "execution_count": 45,
   "metadata": {},
   "outputs": [],
   "source": [
    "def plot_projected_sphere(x, projected_points):\n",
    "    theta, phi = np.mgrid[0:2*np.pi:50j, 0:np.pi:25j]\n",
    "    xs = np.cos(theta)*np.sin(phi)\n",
    "    ys = np.sin(theta)*np.sin(phi)\n",
    "    zs = np.cos(phi)\n",
    "\n",
    "    fig = go.Figure()\n",
    "\n",
    "    # Sphere surface\n",
    "    fig.add_trace(go.Surface(x=xs, y=ys, z=zs, opacity=0.3, colorscale='Viridis', showscale=False))\n",
    "\n",
    "    # Projected points\n",
    "    fig.add_trace(go.Scatter3d(x=projected_points[:,0], y=projected_points[:,1], z=projected_points[:,2],\n",
    "                            mode='markers', marker=dict(size=3, color='red'), name='Projected Points'))\n",
    "\n",
    "    # Base point\n",
    "    fig.add_trace(go.Scatter3d(x=[x[0]], y=[x[1]], z=[x[2]],\n",
    "                            mode='markers', marker=dict(size=8, color='black'), name='Base Point'))\n",
    "\n",
    "    fig.update_layout(\n",
    "        scene=dict(\n",
    "            aspectmode=\"cube\"\n",
    "        ), \n",
    "        width=700, \n",
    "        height=700,\n",
    "        title='Interactive Projection on Sphere'\n",
    "    )\n",
    "    fig.show()\n"
   ]
  },
  {
   "cell_type": "code",
   "execution_count": 57,
   "metadata": {},
   "outputs": [],
   "source": [
    "def plot_mean(target, xs):\n",
    "    theta, phi = np.mgrid[0:2*np.pi:50j, 0:np.pi:25j]\n",
    "    xs = np.cos(theta)*np.sin(phi)\n",
    "    ys = np.sin(theta)*np.sin(phi)\n",
    "    zs = np.cos(phi)\n",
    "\n",
    "    fig = go.Figure()\n",
    "\n",
    "    # Sphere surface\n",
    "    fig.add_trace(go.Surface(x=xs, y=ys, z=zs, opacity=0.3, colorscale='Viridis', showscale=False))\n",
    "\n",
    "    # Target point\n",
    "    fig.add_trace(go.Scatter3d(x=[target[0]], y=[target[1]], z=[target[2]],\n",
    "                            mode='markers', marker=dict(size=8, color='red'), name='Target Mean'))\n",
    "    \n",
    "    # Trail of previous means \n",
    "    for i, x in enumerate(xs[:-1]):\n",
    "        opacity = i / len(xs + 1)\n",
    "        fig.add_trace(go.Scatter3d(x=[x[0]], y=[x[1]], z=[x[2]],\n",
    "                            mode='markers', marker=dict(size=2, color='black', opacity=opacity), showlegend=False))\n",
    "\n",
    "    # Current mean\n",
    "    fig.add_trace(go.Scatter3d(x=[x[0]], y=[x[1]], z=[x[2]],\n",
    "                            mode='markers', marker=dict(size=8, color='black', opacity=opacity), name='Current Mean'))\n",
    "    fig.update_layout(\n",
    "        scene=dict(\n",
    "            aspectmode=\"cube\"\n",
    "        ), \n",
    "        width=700, \n",
    "        height=700,\n",
    "        title=f'Target vs Achieved Mean'\n",
    "    )\n",
    "    fig.show()\n"
   ]
  },
  {
   "cell_type": "code",
   "execution_count": 46,
   "metadata": {},
   "outputs": [],
   "source": [
    "def estimate_normalization_constant(data, mu, Sigma, manifold, num_samples=1000):\n",
    "    D = len(mu) - 1\n",
    "\n",
    "    # Compute normalization of Euclidean normal distribution\n",
    "    Z = np.sqrt((2 * np.pi) ** D * np.linalg.det(Sigma))\n",
    "\n",
    "    # Generate tangent space samples\n",
    "    axis = get_axis(mu)\n",
    "    vectors = np.random.multivariate_normal(np.zeros(D), Sigma, num_samples)\n",
    "    tangent_vectors = vectors@axis\n",
    "\n",
    "    # Perform Monte Carlo integration\n",
    "    metric_sum = np.sum(compute_vol(mu, tangent_vectors, manifold, data))\n",
    "\n",
    "    C_hat = Z * metric_sum / num_samples\n",
    "\n",
    "    return C_hat\n",
    "\n",
    "def compute_vol(mu, vs, manifold, data):\n",
    "    metric_tensors = np.array([local_metric_tensor(manifold.exp(mu, v), data) for v in vs])\n",
    "    return np.sqrt(np.abs(np.linalg.det(metric_tensors)))"
   ]
  },
  {
   "cell_type": "code",
   "execution_count": 49,
   "metadata": {},
   "outputs": [],
   "source": [
    "def random_cov():\n",
    "    A = np.random.rand(dim-1, dim-1)\n",
    "    return np.dot(A, A.transpose())\n",
    "\n",
    "def extrinsic_to_log(manifold, mu, x, ax):\n",
    "    point = manifold.log(mu, x)\n",
    "    return np.dot(point, ax.T)\n",
    "\n",
    "def objective_grad_mu(points, mu, Sigma, ax, manifold, S=100):\n",
    "    d = manifold.dim\n",
    "    samples = np.random.multivariate_normal(np.zeros(d), Sigma, S)\n",
    "    vs = samples@ax\n",
    "    ms = compute_vol(mu, vs, manifold, points)\n",
    "    z = np.sqrt((2*np.pi)**d*np.linalg.det(Sigma))\n",
    "    grad = (np.array([extrinsic_to_log(manifold,mu,p,ax) for p in points])\n",
    "             .mean(0)-z*(ms.reshape(1,-1)@samples)/\n",
    "             (S * estimate_normalization_constant(points, mu, Sigma, manifold)))\n",
    "    return grad\n",
    "\n",
    "def objective_grad_A(points, mu, Sigma, axis, manifold, S=100):\n",
    "    d = manifold.dim\n",
    "    vals, vecs = np.linalg.eig(Sigma)\n",
    "    A = (vecs@np.diag(1/np.sqrt(vals))).T\n",
    "    samples = np.random.multivariate_normal(np.zeros(d), Sigma, S)\n",
    "    vs = samples@axis\n",
    "    ms = compute_vol(mu, vs, manifold, points)\n",
    "    term2 = np.zeros((d, d)).astype(dtype='float64')\n",
    "    for m,s in zip(ms,samples):\n",
    "        term2 += m*((s.reshape(-1,1))@(s.reshape(1,-1)))\n",
    "    term2 *= np.sqrt((2*np.pi)**d*np.linalg.det(Sigma))\n",
    "    term2 /= (S * estimate_normalization_constant(points, mu, Sigma, manifold))\n",
    "    term1 = np.zeros((d, d)).astype(dtype='float64')\n",
    "    for p,v in zip(points, vs):\n",
    "        log = extrinsic_to_log(manifold,mu,p,axis)\n",
    "        term1 += (log.reshape(-1,1))@(log.reshape(1,-1))\n",
    "    term1 /= len(points)\n",
    "    return A@(term1-term2)\n",
    "\n",
    "def objective(points, mu, Sigma, manifold, axis):\n",
    "    d = manifold.dim\n",
    "    result = 0\n",
    "    inv = np.linalg.inv(Sigma)\n",
    "    for p in points:\n",
    "        log = extrinsic_to_log(manifold, mu, p, axis)\n",
    "        result += np.dot(log, inv@log)\n",
    "    result /= 2*len(points)\n",
    "    return result + np.log(estimate_normalization_constant(points, mu, Sigma, manifold))\n",
    "\n",
    "def convergence_criteria(points, manifold, e=1e-4):\n",
    "    x = lambda mu0, Sigma0, mu, Sigma, axis: (objective(points, mu, Sigma, manifold, axis)-\n",
    "                                         objective(points, mu0, Sigma0, manifold, axis))\n",
    "    return (lambda mu0, Sigma0, mu, Sigma, axis: np.abs(x(mu, Sigma, mu0, Sigma0, axis))>e)\n",
    "\n",
    "def mle_manifold(points, manifold, step_size_mu=1e-2, step_size_A=1e-2):\n",
    "    d = manifold.dim\n",
    "    Sigma0 = random_cov()\n",
    "    mu0 = manifold.random_point()\n",
    "    Sigma = random_cov()\n",
    "    # Sigma = 0.1**2 * np.eye(d)\n",
    "    mu = manifold.random_point()\n",
    "    axis = get_axis(mu)\n",
    "    criterion = convergence_criteria(points, manifold)\n",
    "    count, max_loops = 0, 100\n",
    "    mus = []\n",
    "    mus.append(mu)\n",
    "    while criterion(mu0, Sigma0, mu, Sigma, axis) and count < max_loops:\n",
    "        # norm_const = estimate_normalization_constant(mu, Sigma, manifold)\n",
    "        grad_mu = objective_grad_mu(points, mu, Sigma, axis, manifold)@axis\n",
    "        mu0, Sigma0 = mu, Sigma\n",
    "        mu = manifold.exp(mu0, step_size_mu*grad_mu)[0]\n",
    "        axis = get_axis(mu)\n",
    "        # norm_const = estimate_normalization_constant(mu, Sigma0, manifold)\n",
    "        vals, vecs = np.linalg.eig(Sigma)\n",
    "        A = (vecs@np.diag(1/np.sqrt(vals))).T\n",
    "        grad_A = objective_grad_A(points, mu, Sigma0, axis, manifold)\n",
    "        A -= step_size_A*grad_A\n",
    "        Sigma = np.linalg.inv(A.T@A)\n",
    "        \n",
    "        mus.append(mu)\n",
    "        count += 1\n",
    "\n",
    "    return mus, Sigma"
   ]
  },
  {
   "cell_type": "code",
   "execution_count": 11,
   "metadata": {},
   "outputs": [
    {
     "data": {
      "text/plain": [
       "array([[ 0.19603225, -0.89002908, -0.51496046],\n",
       "       [ 0.2948223 ,  0.0883736 ,  0.01150023],\n",
       "       [-0.11995227,  0.23705154,  0.1456974 ],\n",
       "       [-0.43741723, -0.70185013, -0.33143058],\n",
       "       [-0.95701767, -0.81495472, -0.32820837],\n",
       "       [-0.54954556, -0.59915402, -0.26072467],\n",
       "       [ 0.78628798, -0.10842027, -0.15887067],\n",
       "       [ 1.23566861,  0.1687388 , -0.06287457],\n",
       "       [ 0.19593861, -0.1951525 , -0.13220072],\n",
       "       [-0.18132178,  0.05382602,  0.05251289]])"
      ]
     },
     "execution_count": 11,
     "metadata": {},
     "output_type": "execute_result"
    }
   ],
   "source": [
    "sigma = 0.7\n",
    "sphere = PymanoptSphereManifold(dim)\n",
    "x = sphere.random_point()\n",
    "ax = get_axis(x)\n",
    "data = np.random.multivariate_normal(np.zeros(dim - 1), sigma**2 * np.eye(dim - 1), size=1000)\n",
    "tangent_vectors = data@ax\n",
    "tangent_vectors[:10]"
   ]
  },
  {
   "cell_type": "code",
   "execution_count": 13,
   "metadata": {},
   "outputs": [
    {
     "name": "stdout",
     "output_type": "stream",
     "text": [
      "projected_points: [[ 0.10721073 -0.49621689 -0.86155363]\n",
      " [ 0.18556381  0.5439665  -0.81833155]\n",
      " [-0.22290949  0.691145   -0.68748087]\n",
      " [-0.45082277 -0.31113059 -0.83663409]\n",
      " [-0.73910021 -0.47562163 -0.47698527]\n",
      " [-0.55731404 -0.21384221 -0.80229207]\n",
      " [ 0.62745037  0.2338706  -0.7427049 ]\n",
      " [ 0.90391452  0.27997602 -0.32334498]\n",
      " [ 0.08821639  0.26508707 -0.96018056]\n",
      " [-0.28783671  0.5238214  -0.80172387]]\n",
      "reconstructed vectors: [[ 0.19603225 -0.89002908 -0.51496046]\n",
      " [ 0.2948223   0.0883736   0.01150023]\n",
      " [-0.11995227  0.23705154  0.1456974 ]\n",
      " [-0.43741723 -0.70185013 -0.33143058]\n",
      " [-0.95701767 -0.81495472 -0.32820837]\n",
      " [-0.54954556 -0.59915402 -0.26072467]\n",
      " [ 0.78628798 -0.10842027 -0.15887067]\n",
      " [ 1.23566861  0.1687388  -0.06287457]\n",
      " [ 0.19593861 -0.1951525  -0.13220072]\n",
      " [-0.18132178  0.05382602  0.05251289]]\n"
     ]
    }
   ],
   "source": [
    "projected_points = np.array([sphere.exp(x, t) for t in tangent_vectors])\n",
    "print(f'projected_points: {projected_points[:10]}')\n",
    "recon_vectors = np.array([sphere.log(x, y) for y in projected_points])\n",
    "print(f'reconstructed vectors: {recon_vectors[:10]}')"
   ]
  },
  {
   "cell_type": "code",
   "execution_count": 15,
   "metadata": {},
   "outputs": [
    {
     "name": "stdout",
     "output_type": "stream",
     "text": [
      "tangent vector: [0.29276603 1.16093737 0.60254296]\n",
      "y (our implementation): [ 0.13210325  1.55833971 -0.32857802]\n",
      "y (pymanopt implementation): [0.18757455 0.9527805  0.23879929]\n",
      "reconstructed vector: [0.23303758 1.04977982 0.54979234]\n"
     ]
    }
   ],
   "source": [
    "tangent_vector = tangent_vectors[np.random.randint(0, len(tangent_vectors))]\n",
    "print(f'tangent vector: {tangent_vector}')\n",
    "\n",
    "y = exp_map(x, tangent_vector, projected_points)\n",
    "y_auto = sphere.exp(x, tangent_vector)\n",
    "print(f'y (our implementation): {y}')\n",
    "print(f'y (pymanopt implementation): {y_auto}')\n",
    "\n",
    "recon_vector = log_map(x, y, projected_points)\n",
    "print(f'reconstructed vector: {recon_vector}')"
   ]
  },
  {
   "cell_type": "code",
   "execution_count": 30,
   "metadata": {},
   "outputs": [
    {
     "data": {
      "application/vnd.plotly.v1+json": {
       "config": {
        "plotlyServerURL": "https://plot.ly"
       },
       "data": [
        {
         "colorscale": [
          [
           0,
           "#440154"
          ],
          [
           0.1111111111111111,
           "#482878"
          ],
          [
           0.2222222222222222,
           "#3e4989"
          ],
          [
           0.3333333333333333,
           "#31688e"
          ],
          [
           0.4444444444444444,
           "#26828e"
          ],
          [
           0.5555555555555556,
           "#1f9e89"
          ],
          [
           0.6666666666666666,
           "#35b779"
          ],
          [
           0.7777777777777778,
           "#6ece58"
          ],
          [
           0.8888888888888888,
           "#b5de2b"
          ],
          [
           1,
           "#fde725"
          ]
         ],
         "opacity": 0.3,
         "showscale": false,
         "type": "surface",
         "x": {
          "bdata": "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",
          "dtype": "f8",
          "shape": "50, 25"
         },
         "y": {
          "bdata": "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",
          "dtype": "f8",
          "shape": "50, 25"
         },
         "z": {
          "bdata": "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",
          "dtype": "f8",
          "shape": "50, 25"
         }
        },
        {
         "marker": {
          "color": "red",
          "size": 3
         },
         "mode": "markers",
         "name": "Tangent Points",
         "type": "scatter3d",
         "x": {
          "bdata": "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",
          "dtype": "f8"
         },
         "y": {
          "bdata": "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",
          "dtype": "f8"
         },
         "z": {
          "bdata": "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",
          "dtype": "f8"
         }
        },
        {
         "marker": {
          "color": "black",
          "size": 8
         },
         "mode": "markers",
         "name": "Base Point",
         "type": "scatter3d",
         "x": [
          -0.10978552368136928
         ],
         "y": [
          0.4795498778884235
         ],
         "z": [
          -0.8706199247703935
         ]
        }
       ],
       "layout": {
        "height": 700,
        "scene": {
         "aspectmode": "data"
        },
        "template": {
         "data": {
          "bar": [
           {
            "error_x": {
             "color": "#2a3f5f"
            },
            "error_y": {
             "color": "#2a3f5f"
            },
            "marker": {
             "line": {
              "color": "#E5ECF6",
              "width": 0.5
             },
             "pattern": {
              "fillmode": "overlay",
              "size": 10,
              "solidity": 0.2
             }
            },
            "type": "bar"
           }
          ],
          "barpolar": [
           {
            "marker": {
             "line": {
              "color": "#E5ECF6",
              "width": 0.5
             },
             "pattern": {
              "fillmode": "overlay",
              "size": 10,
              "solidity": 0.2
             }
            },
            "type": "barpolar"
           }
          ],
          "carpet": [
           {
            "aaxis": {
             "endlinecolor": "#2a3f5f",
             "gridcolor": "white",
             "linecolor": "white",
             "minorgridcolor": "white",
             "startlinecolor": "#2a3f5f"
            },
            "baxis": {
             "endlinecolor": "#2a3f5f",
             "gridcolor": "white",
             "linecolor": "white",
             "minorgridcolor": "white",
             "startlinecolor": "#2a3f5f"
            },
            "type": "carpet"
           }
          ],
          "choropleth": [
           {
            "colorbar": {
             "outlinewidth": 0,
             "ticks": ""
            },
            "type": "choropleth"
           }
          ],
          "contour": [
           {
            "colorbar": {
             "outlinewidth": 0,
             "ticks": ""
            },
            "colorscale": [
             [
              0,
              "#0d0887"
             ],
             [
              0.1111111111111111,
              "#46039f"
             ],
             [
              0.2222222222222222,
              "#7201a8"
             ],
             [
              0.3333333333333333,
              "#9c179e"
             ],
             [
              0.4444444444444444,
              "#bd3786"
             ],
             [
              0.5555555555555556,
              "#d8576b"
             ],
             [
              0.6666666666666666,
              "#ed7953"
             ],
             [
              0.7777777777777778,
              "#fb9f3a"
             ],
             [
              0.8888888888888888,
              "#fdca26"
             ],
             [
              1,
              "#f0f921"
             ]
            ],
            "type": "contour"
           }
          ],
          "contourcarpet": [
           {
            "colorbar": {
             "outlinewidth": 0,
             "ticks": ""
            },
            "type": "contourcarpet"
           }
          ],
          "heatmap": [
           {
            "colorbar": {
             "outlinewidth": 0,
             "ticks": ""
            },
            "colorscale": [
             [
              0,
              "#0d0887"
             ],
             [
              0.1111111111111111,
              "#46039f"
             ],
             [
              0.2222222222222222,
              "#7201a8"
             ],
             [
              0.3333333333333333,
              "#9c179e"
             ],
             [
              0.4444444444444444,
              "#bd3786"
             ],
             [
              0.5555555555555556,
              "#d8576b"
             ],
             [
              0.6666666666666666,
              "#ed7953"
             ],
             [
              0.7777777777777778,
              "#fb9f3a"
             ],
             [
              0.8888888888888888,
              "#fdca26"
             ],
             [
              1,
              "#f0f921"
             ]
            ],
            "type": "heatmap"
           }
          ],
          "histogram": [
           {
            "marker": {
             "pattern": {
              "fillmode": "overlay",
              "size": 10,
              "solidity": 0.2
             }
            },
            "type": "histogram"
           }
          ],
          "histogram2d": [
           {
            "colorbar": {
             "outlinewidth": 0,
             "ticks": ""
            },
            "colorscale": [
             [
              0,
              "#0d0887"
             ],
             [
              0.1111111111111111,
              "#46039f"
             ],
             [
              0.2222222222222222,
              "#7201a8"
             ],
             [
              0.3333333333333333,
              "#9c179e"
             ],
             [
              0.4444444444444444,
              "#bd3786"
             ],
             [
              0.5555555555555556,
              "#d8576b"
             ],
             [
              0.6666666666666666,
              "#ed7953"
             ],
             [
              0.7777777777777778,
              "#fb9f3a"
             ],
             [
              0.8888888888888888,
              "#fdca26"
             ],
             [
              1,
              "#f0f921"
             ]
            ],
            "type": "histogram2d"
           }
          ],
          "histogram2dcontour": [
           {
            "colorbar": {
             "outlinewidth": 0,
             "ticks": ""
            },
            "colorscale": [
             [
              0,
              "#0d0887"
             ],
             [
              0.1111111111111111,
              "#46039f"
             ],
             [
              0.2222222222222222,
              "#7201a8"
             ],
             [
              0.3333333333333333,
              "#9c179e"
             ],
             [
              0.4444444444444444,
              "#bd3786"
             ],
             [
              0.5555555555555556,
              "#d8576b"
             ],
             [
              0.6666666666666666,
              "#ed7953"
             ],
             [
              0.7777777777777778,
              "#fb9f3a"
             ],
             [
              0.8888888888888888,
              "#fdca26"
             ],
             [
              1,
              "#f0f921"
             ]
            ],
            "type": "histogram2dcontour"
           }
          ],
          "mesh3d": [
           {
            "colorbar": {
             "outlinewidth": 0,
             "ticks": ""
            },
            "type": "mesh3d"
           }
          ],
          "parcoords": [
           {
            "line": {
             "colorbar": {
              "outlinewidth": 0,
              "ticks": ""
             }
            },
            "type": "parcoords"
           }
          ],
          "pie": [
           {
            "automargin": true,
            "type": "pie"
           }
          ],
          "scatter": [
           {
            "fillpattern": {
             "fillmode": "overlay",
             "size": 10,
             "solidity": 0.2
            },
            "type": "scatter"
           }
          ],
          "scatter3d": [
           {
            "line": {
             "colorbar": {
              "outlinewidth": 0,
              "ticks": ""
             }
            },
            "marker": {
             "colorbar": {
              "outlinewidth": 0,
              "ticks": ""
             }
            },
            "type": "scatter3d"
           }
          ],
          "scattercarpet": [
           {
            "marker": {
             "colorbar": {
              "outlinewidth": 0,
              "ticks": ""
             }
            },
            "type": "scattercarpet"
           }
          ],
          "scattergeo": [
           {
            "marker": {
             "colorbar": {
              "outlinewidth": 0,
              "ticks": ""
             }
            },
            "type": "scattergeo"
           }
          ],
          "scattergl": [
           {
            "marker": {
             "colorbar": {
              "outlinewidth": 0,
              "ticks": ""
             }
            },
            "type": "scattergl"
           }
          ],
          "scattermap": [
           {
            "marker": {
             "colorbar": {
              "outlinewidth": 0,
              "ticks": ""
             }
            },
            "type": "scattermap"
           }
          ],
          "scattermapbox": [
           {
            "marker": {
             "colorbar": {
              "outlinewidth": 0,
              "ticks": ""
             }
            },
            "type": "scattermapbox"
           }
          ],
          "scatterpolar": [
           {
            "marker": {
             "colorbar": {
              "outlinewidth": 0,
              "ticks": ""
             }
            },
            "type": "scatterpolar"
           }
          ],
          "scatterpolargl": [
           {
            "marker": {
             "colorbar": {
              "outlinewidth": 0,
              "ticks": ""
             }
            },
            "type": "scatterpolargl"
           }
          ],
          "scatterternary": [
           {
            "marker": {
             "colorbar": {
              "outlinewidth": 0,
              "ticks": ""
             }
            },
            "type": "scatterternary"
           }
          ],
          "surface": [
           {
            "colorbar": {
             "outlinewidth": 0,
             "ticks": ""
            },
            "colorscale": [
             [
              0,
              "#0d0887"
             ],
             [
              0.1111111111111111,
              "#46039f"
             ],
             [
              0.2222222222222222,
              "#7201a8"
             ],
             [
              0.3333333333333333,
              "#9c179e"
             ],
             [
              0.4444444444444444,
              "#bd3786"
             ],
             [
              0.5555555555555556,
              "#d8576b"
             ],
             [
              0.6666666666666666,
              "#ed7953"
             ],
             [
              0.7777777777777778,
              "#fb9f3a"
             ],
             [
              0.8888888888888888,
              "#fdca26"
             ],
             [
              1,
              "#f0f921"
             ]
            ],
            "type": "surface"
           }
          ],
          "table": [
           {
            "cells": {
             "fill": {
              "color": "#EBF0F8"
             },
             "line": {
              "color": "white"
             }
            },
            "header": {
             "fill": {
              "color": "#C8D4E3"
             },
             "line": {
              "color": "white"
             }
            },
            "type": "table"
           }
          ]
         },
         "layout": {
          "annotationdefaults": {
           "arrowcolor": "#2a3f5f",
           "arrowhead": 0,
           "arrowwidth": 1
          },
          "autotypenumbers": "strict",
          "coloraxis": {
           "colorbar": {
            "outlinewidth": 0,
            "ticks": ""
           }
          },
          "colorscale": {
           "diverging": [
            [
             0,
             "#8e0152"
            ],
            [
             0.1,
             "#c51b7d"
            ],
            [
             0.2,
             "#de77ae"
            ],
            [
             0.3,
             "#f1b6da"
            ],
            [
             0.4,
             "#fde0ef"
            ],
            [
             0.5,
             "#f7f7f7"
            ],
            [
             0.6,
             "#e6f5d0"
            ],
            [
             0.7,
             "#b8e186"
            ],
            [
             0.8,
             "#7fbc41"
            ],
            [
             0.9,
             "#4d9221"
            ],
            [
             1,
             "#276419"
            ]
           ],
           "sequential": [
            [
             0,
             "#0d0887"
            ],
            [
             0.1111111111111111,
             "#46039f"
            ],
            [
             0.2222222222222222,
             "#7201a8"
            ],
            [
             0.3333333333333333,
             "#9c179e"
            ],
            [
             0.4444444444444444,
             "#bd3786"
            ],
            [
             0.5555555555555556,
             "#d8576b"
            ],
            [
             0.6666666666666666,
             "#ed7953"
            ],
            [
             0.7777777777777778,
             "#fb9f3a"
            ],
            [
             0.8888888888888888,
             "#fdca26"
            ],
            [
             1,
             "#f0f921"
            ]
           ],
           "sequentialminus": [
            [
             0,
             "#0d0887"
            ],
            [
             0.1111111111111111,
             "#46039f"
            ],
            [
             0.2222222222222222,
             "#7201a8"
            ],
            [
             0.3333333333333333,
             "#9c179e"
            ],
            [
             0.4444444444444444,
             "#bd3786"
            ],
            [
             0.5555555555555556,
             "#d8576b"
            ],
            [
             0.6666666666666666,
             "#ed7953"
            ],
            [
             0.7777777777777778,
             "#fb9f3a"
            ],
            [
             0.8888888888888888,
             "#fdca26"
            ],
            [
             1,
             "#f0f921"
            ]
           ]
          },
          "colorway": [
           "#636efa",
           "#EF553B",
           "#00cc96",
           "#ab63fa",
           "#FFA15A",
           "#19d3f3",
           "#FF6692",
           "#B6E880",
           "#FF97FF",
           "#FECB52"
          ],
          "font": {
           "color": "#2a3f5f"
          },
          "geo": {
           "bgcolor": "white",
           "lakecolor": "white",
           "landcolor": "#E5ECF6",
           "showlakes": true,
           "showland": true,
           "subunitcolor": "white"
          },
          "hoverlabel": {
           "align": "left"
          },
          "hovermode": "closest",
          "mapbox": {
           "style": "light"
          },
          "paper_bgcolor": "white",
          "plot_bgcolor": "#E5ECF6",
          "polar": {
           "angularaxis": {
            "gridcolor": "white",
            "linecolor": "white",
            "ticks": ""
           },
           "bgcolor": "#E5ECF6",
           "radialaxis": {
            "gridcolor": "white",
            "linecolor": "white",
            "ticks": ""
           }
          },
          "scene": {
           "xaxis": {
            "backgroundcolor": "#E5ECF6",
            "gridcolor": "white",
            "gridwidth": 2,
            "linecolor": "white",
            "showbackground": true,
            "ticks": "",
            "zerolinecolor": "white"
           },
           "yaxis": {
            "backgroundcolor": "#E5ECF6",
            "gridcolor": "white",
            "gridwidth": 2,
            "linecolor": "white",
            "showbackground": true,
            "ticks": "",
            "zerolinecolor": "white"
           },
           "zaxis": {
            "backgroundcolor": "#E5ECF6",
            "gridcolor": "white",
            "gridwidth": 2,
            "linecolor": "white",
            "showbackground": true,
            "ticks": "",
            "zerolinecolor": "white"
           }
          },
          "shapedefaults": {
           "line": {
            "color": "#2a3f5f"
           }
          },
          "ternary": {
           "aaxis": {
            "gridcolor": "white",
            "linecolor": "white",
            "ticks": ""
           },
           "baxis": {
            "gridcolor": "white",
            "linecolor": "white",
            "ticks": ""
           },
           "bgcolor": "#E5ECF6",
           "caxis": {
            "gridcolor": "white",
            "linecolor": "white",
            "ticks": ""
           }
          },
          "title": {
           "x": 0.05
          },
          "xaxis": {
           "automargin": true,
           "gridcolor": "white",
           "linecolor": "white",
           "ticks": "",
           "title": {
            "standoff": 15
           },
           "zerolinecolor": "white",
           "zerolinewidth": 2
          },
          "yaxis": {
           "automargin": true,
           "gridcolor": "white",
           "linecolor": "white",
           "ticks": "",
           "title": {
            "standoff": 15
           },
           "zerolinecolor": "white",
           "zerolinewidth": 2
          }
         }
        },
        "title": {
         "text": "Tangent Points and Sphere Mesh"
        },
        "width": 700
       }
      }
     },
     "metadata": {},
     "output_type": "display_data"
    }
   ],
   "source": [
    "plot_tangent_points(x, tangent_vectors)"
   ]
  },
  {
   "cell_type": "code",
   "execution_count": 40,
   "metadata": {},
   "outputs": [
    {
     "data": {
      "application/vnd.plotly.v1+json": {
       "config": {
        "plotlyServerURL": "https://plot.ly"
       },
       "data": [
        {
         "colorscale": [
          [
           0,
           "#440154"
          ],
          [
           0.1111111111111111,
           "#482878"
          ],
          [
           0.2222222222222222,
           "#3e4989"
          ],
          [
           0.3333333333333333,
           "#31688e"
          ],
          [
           0.4444444444444444,
           "#26828e"
          ],
          [
           0.5555555555555556,
           "#1f9e89"
          ],
          [
           0.6666666666666666,
           "#35b779"
          ],
          [
           0.7777777777777778,
           "#6ece58"
          ],
          [
           0.8888888888888888,
           "#b5de2b"
          ],
          [
           1,
           "#fde725"
          ]
         ],
         "opacity": 0.3,
         "showscale": false,
         "type": "surface",
         "x": {
          "bdata": "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",
          "dtype": "f8",
          "shape": "50, 25"
         },
         "y": {
          "bdata": "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",
          "dtype": "f8",
          "shape": "50, 25"
         },
         "z": {
          "bdata": "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",
          "dtype": "f8",
          "shape": "50, 25"
         }
        },
        {
         "marker": {
          "color": "red",
          "size": 3
         },
         "mode": "markers",
         "name": "Projected Points",
         "type": "scatter3d",
         "x": {
          "bdata": "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",
          "dtype": "f8"
         },
         "y": {
          "bdata": "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",
          "dtype": "f8"
         },
         "z": {
          "bdata": "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",
          "dtype": "f8"
         }
        },
        {
         "marker": {
          "color": "black",
          "size": 8
         },
         "mode": "markers",
         "name": "Base Point",
         "type": "scatter3d",
         "x": [
          -0.10978552368136928
         ],
         "y": [
          0.4795498778884235
         ],
         "z": [
          -0.8706199247703935
         ]
        }
       ],
       "layout": {
        "height": 700,
        "scene": {
         "aspectmode": "cube"
        },
        "template": {
         "data": {
          "bar": [
           {
            "error_x": {
             "color": "#2a3f5f"
            },
            "error_y": {
             "color": "#2a3f5f"
            },
            "marker": {
             "line": {
              "color": "#E5ECF6",
              "width": 0.5
             },
             "pattern": {
              "fillmode": "overlay",
              "size": 10,
              "solidity": 0.2
             }
            },
            "type": "bar"
           }
          ],
          "barpolar": [
           {
            "marker": {
             "line": {
              "color": "#E5ECF6",
              "width": 0.5
             },
             "pattern": {
              "fillmode": "overlay",
              "size": 10,
              "solidity": 0.2
             }
            },
            "type": "barpolar"
           }
          ],
          "carpet": [
           {
            "aaxis": {
             "endlinecolor": "#2a3f5f",
             "gridcolor": "white",
             "linecolor": "white",
             "minorgridcolor": "white",
             "startlinecolor": "#2a3f5f"
            },
            "baxis": {
             "endlinecolor": "#2a3f5f",
             "gridcolor": "white",
             "linecolor": "white",
             "minorgridcolor": "white",
             "startlinecolor": "#2a3f5f"
            },
            "type": "carpet"
           }
          ],
          "choropleth": [
           {
            "colorbar": {
             "outlinewidth": 0,
             "ticks": ""
            },
            "type": "choropleth"
           }
          ],
          "contour": [
           {
            "colorbar": {
             "outlinewidth": 0,
             "ticks": ""
            },
            "colorscale": [
             [
              0,
              "#0d0887"
             ],
             [
              0.1111111111111111,
              "#46039f"
             ],
             [
              0.2222222222222222,
              "#7201a8"
             ],
             [
              0.3333333333333333,
              "#9c179e"
             ],
             [
              0.4444444444444444,
              "#bd3786"
             ],
             [
              0.5555555555555556,
              "#d8576b"
             ],
             [
              0.6666666666666666,
              "#ed7953"
             ],
             [
              0.7777777777777778,
              "#fb9f3a"
             ],
             [
              0.8888888888888888,
              "#fdca26"
             ],
             [
              1,
              "#f0f921"
             ]
            ],
            "type": "contour"
           }
          ],
          "contourcarpet": [
           {
            "colorbar": {
             "outlinewidth": 0,
             "ticks": ""
            },
            "type": "contourcarpet"
           }
          ],
          "heatmap": [
           {
            "colorbar": {
             "outlinewidth": 0,
             "ticks": ""
            },
            "colorscale": [
             [
              0,
              "#0d0887"
             ],
             [
              0.1111111111111111,
              "#46039f"
             ],
             [
              0.2222222222222222,
              "#7201a8"
             ],
             [
              0.3333333333333333,
              "#9c179e"
             ],
             [
              0.4444444444444444,
              "#bd3786"
             ],
             [
              0.5555555555555556,
              "#d8576b"
             ],
             [
              0.6666666666666666,
              "#ed7953"
             ],
             [
              0.7777777777777778,
              "#fb9f3a"
             ],
             [
              0.8888888888888888,
              "#fdca26"
             ],
             [
              1,
              "#f0f921"
             ]
            ],
            "type": "heatmap"
           }
          ],
          "histogram": [
           {
            "marker": {
             "pattern": {
              "fillmode": "overlay",
              "size": 10,
              "solidity": 0.2
             }
            },
            "type": "histogram"
           }
          ],
          "histogram2d": [
           {
            "colorbar": {
             "outlinewidth": 0,
             "ticks": ""
            },
            "colorscale": [
             [
              0,
              "#0d0887"
             ],
             [
              0.1111111111111111,
              "#46039f"
             ],
             [
              0.2222222222222222,
              "#7201a8"
             ],
             [
              0.3333333333333333,
              "#9c179e"
             ],
             [
              0.4444444444444444,
              "#bd3786"
             ],
             [
              0.5555555555555556,
              "#d8576b"
             ],
             [
              0.6666666666666666,
              "#ed7953"
             ],
             [
              0.7777777777777778,
              "#fb9f3a"
             ],
             [
              0.8888888888888888,
              "#fdca26"
             ],
             [
              1,
              "#f0f921"
             ]
            ],
            "type": "histogram2d"
           }
          ],
          "histogram2dcontour": [
           {
            "colorbar": {
             "outlinewidth": 0,
             "ticks": ""
            },
            "colorscale": [
             [
              0,
              "#0d0887"
             ],
             [
              0.1111111111111111,
              "#46039f"
             ],
             [
              0.2222222222222222,
              "#7201a8"
             ],
             [
              0.3333333333333333,
              "#9c179e"
             ],
             [
              0.4444444444444444,
              "#bd3786"
             ],
             [
              0.5555555555555556,
              "#d8576b"
             ],
             [
              0.6666666666666666,
              "#ed7953"
             ],
             [
              0.7777777777777778,
              "#fb9f3a"
             ],
             [
              0.8888888888888888,
              "#fdca26"
             ],
             [
              1,
              "#f0f921"
             ]
            ],
            "type": "histogram2dcontour"
           }
          ],
          "mesh3d": [
           {
            "colorbar": {
             "outlinewidth": 0,
             "ticks": ""
            },
            "type": "mesh3d"
           }
          ],
          "parcoords": [
           {
            "line": {
             "colorbar": {
              "outlinewidth": 0,
              "ticks": ""
             }
            },
            "type": "parcoords"
           }
          ],
          "pie": [
           {
            "automargin": true,
            "type": "pie"
           }
          ],
          "scatter": [
           {
            "fillpattern": {
             "fillmode": "overlay",
             "size": 10,
             "solidity": 0.2
            },
            "type": "scatter"
           }
          ],
          "scatter3d": [
           {
            "line": {
             "colorbar": {
              "outlinewidth": 0,
              "ticks": ""
             }
            },
            "marker": {
             "colorbar": {
              "outlinewidth": 0,
              "ticks": ""
             }
            },
            "type": "scatter3d"
           }
          ],
          "scattercarpet": [
           {
            "marker": {
             "colorbar": {
              "outlinewidth": 0,
              "ticks": ""
             }
            },
            "type": "scattercarpet"
           }
          ],
          "scattergeo": [
           {
            "marker": {
             "colorbar": {
              "outlinewidth": 0,
              "ticks": ""
             }
            },
            "type": "scattergeo"
           }
          ],
          "scattergl": [
           {
            "marker": {
             "colorbar": {
              "outlinewidth": 0,
              "ticks": ""
             }
            },
            "type": "scattergl"
           }
          ],
          "scattermap": [
           {
            "marker": {
             "colorbar": {
              "outlinewidth": 0,
              "ticks": ""
             }
            },
            "type": "scattermap"
           }
          ],
          "scattermapbox": [
           {
            "marker": {
             "colorbar": {
              "outlinewidth": 0,
              "ticks": ""
             }
            },
            "type": "scattermapbox"
           }
          ],
          "scatterpolar": [
           {
            "marker": {
             "colorbar": {
              "outlinewidth": 0,
              "ticks": ""
             }
            },
            "type": "scatterpolar"
           }
          ],
          "scatterpolargl": [
           {
            "marker": {
             "colorbar": {
              "outlinewidth": 0,
              "ticks": ""
             }
            },
            "type": "scatterpolargl"
           }
          ],
          "scatterternary": [
           {
            "marker": {
             "colorbar": {
              "outlinewidth": 0,
              "ticks": ""
             }
            },
            "type": "scatterternary"
           }
          ],
          "surface": [
           {
            "colorbar": {
             "outlinewidth": 0,
             "ticks": ""
            },
            "colorscale": [
             [
              0,
              "#0d0887"
             ],
             [
              0.1111111111111111,
              "#46039f"
             ],
             [
              0.2222222222222222,
              "#7201a8"
             ],
             [
              0.3333333333333333,
              "#9c179e"
             ],
             [
              0.4444444444444444,
              "#bd3786"
             ],
             [
              0.5555555555555556,
              "#d8576b"
             ],
             [
              0.6666666666666666,
              "#ed7953"
             ],
             [
              0.7777777777777778,
              "#fb9f3a"
             ],
             [
              0.8888888888888888,
              "#fdca26"
             ],
             [
              1,
              "#f0f921"
             ]
            ],
            "type": "surface"
           }
          ],
          "table": [
           {
            "cells": {
             "fill": {
              "color": "#EBF0F8"
             },
             "line": {
              "color": "white"
             }
            },
            "header": {
             "fill": {
              "color": "#C8D4E3"
             },
             "line": {
              "color": "white"
             }
            },
            "type": "table"
           }
          ]
         },
         "layout": {
          "annotationdefaults": {
           "arrowcolor": "#2a3f5f",
           "arrowhead": 0,
           "arrowwidth": 1
          },
          "autotypenumbers": "strict",
          "coloraxis": {
           "colorbar": {
            "outlinewidth": 0,
            "ticks": ""
           }
          },
          "colorscale": {
           "diverging": [
            [
             0,
             "#8e0152"
            ],
            [
             0.1,
             "#c51b7d"
            ],
            [
             0.2,
             "#de77ae"
            ],
            [
             0.3,
             "#f1b6da"
            ],
            [
             0.4,
             "#fde0ef"
            ],
            [
             0.5,
             "#f7f7f7"
            ],
            [
             0.6,
             "#e6f5d0"
            ],
            [
             0.7,
             "#b8e186"
            ],
            [
             0.8,
             "#7fbc41"
            ],
            [
             0.9,
             "#4d9221"
            ],
            [
             1,
             "#276419"
            ]
           ],
           "sequential": [
            [
             0,
             "#0d0887"
            ],
            [
             0.1111111111111111,
             "#46039f"
            ],
            [
             0.2222222222222222,
             "#7201a8"
            ],
            [
             0.3333333333333333,
             "#9c179e"
            ],
            [
             0.4444444444444444,
             "#bd3786"
            ],
            [
             0.5555555555555556,
             "#d8576b"
            ],
            [
             0.6666666666666666,
             "#ed7953"
            ],
            [
             0.7777777777777778,
             "#fb9f3a"
            ],
            [
             0.8888888888888888,
             "#fdca26"
            ],
            [
             1,
             "#f0f921"
            ]
           ],
           "sequentialminus": [
            [
             0,
             "#0d0887"
            ],
            [
             0.1111111111111111,
             "#46039f"
            ],
            [
             0.2222222222222222,
             "#7201a8"
            ],
            [
             0.3333333333333333,
             "#9c179e"
            ],
            [
             0.4444444444444444,
             "#bd3786"
            ],
            [
             0.5555555555555556,
             "#d8576b"
            ],
            [
             0.6666666666666666,
             "#ed7953"
            ],
            [
             0.7777777777777778,
             "#fb9f3a"
            ],
            [
             0.8888888888888888,
             "#fdca26"
            ],
            [
             1,
             "#f0f921"
            ]
           ]
          },
          "colorway": [
           "#636efa",
           "#EF553B",
           "#00cc96",
           "#ab63fa",
           "#FFA15A",
           "#19d3f3",
           "#FF6692",
           "#B6E880",
           "#FF97FF",
           "#FECB52"
          ],
          "font": {
           "color": "#2a3f5f"
          },
          "geo": {
           "bgcolor": "white",
           "lakecolor": "white",
           "landcolor": "#E5ECF6",
           "showlakes": true,
           "showland": true,
           "subunitcolor": "white"
          },
          "hoverlabel": {
           "align": "left"
          },
          "hovermode": "closest",
          "mapbox": {
           "style": "light"
          },
          "paper_bgcolor": "white",
          "plot_bgcolor": "#E5ECF6",
          "polar": {
           "angularaxis": {
            "gridcolor": "white",
            "linecolor": "white",
            "ticks": ""
           },
           "bgcolor": "#E5ECF6",
           "radialaxis": {
            "gridcolor": "white",
            "linecolor": "white",
            "ticks": ""
           }
          },
          "scene": {
           "xaxis": {
            "backgroundcolor": "#E5ECF6",
            "gridcolor": "white",
            "gridwidth": 2,
            "linecolor": "white",
            "showbackground": true,
            "ticks": "",
            "zerolinecolor": "white"
           },
           "yaxis": {
            "backgroundcolor": "#E5ECF6",
            "gridcolor": "white",
            "gridwidth": 2,
            "linecolor": "white",
            "showbackground": true,
            "ticks": "",
            "zerolinecolor": "white"
           },
           "zaxis": {
            "backgroundcolor": "#E5ECF6",
            "gridcolor": "white",
            "gridwidth": 2,
            "linecolor": "white",
            "showbackground": true,
            "ticks": "",
            "zerolinecolor": "white"
           }
          },
          "shapedefaults": {
           "line": {
            "color": "#2a3f5f"
           }
          },
          "ternary": {
           "aaxis": {
            "gridcolor": "white",
            "linecolor": "white",
            "ticks": ""
           },
           "baxis": {
            "gridcolor": "white",
            "linecolor": "white",
            "ticks": ""
           },
           "bgcolor": "#E5ECF6",
           "caxis": {
            "gridcolor": "white",
            "linecolor": "white",
            "ticks": ""
           }
          },
          "title": {
           "x": 0.05
          },
          "xaxis": {
           "automargin": true,
           "gridcolor": "white",
           "linecolor": "white",
           "ticks": "",
           "title": {
            "standoff": 15
           },
           "zerolinecolor": "white",
           "zerolinewidth": 2
          },
          "yaxis": {
           "automargin": true,
           "gridcolor": "white",
           "linecolor": "white",
           "ticks": "",
           "title": {
            "standoff": 15
           },
           "zerolinecolor": "white",
           "zerolinewidth": 2
          }
         }
        },
        "title": {
         "text": "Interactive Projection on Sphere"
        },
        "width": 700
       }
      }
     },
     "metadata": {},
     "output_type": "display_data"
    }
   ],
   "source": [
    "plot_projected_sphere(x, projected_points)"
   ]
  },
  {
   "cell_type": "code",
   "execution_count": 56,
   "metadata": {},
   "outputs": [
    {
     "name": "stdout",
     "output_type": "stream",
     "text": [
      "x (mean): [-0.10978552  0.47954988 -0.87061992]\n",
      "Sigma: [[0.01 0.  ]\n",
      " [0.   0.01]]\n",
      "optimal mean: [-0.57144377  0.46490498 -0.67625097]\n",
      "optimal covariance: [[0.0758472  0.04244441]\n",
      " [0.04244441 0.17312804]]\n"
     ]
    },
    {
     "data": {
      "application/vnd.plotly.v1+json": {
       "config": {
        "plotlyServerURL": "https://plot.ly"
       },
       "data": [
        {
         "colorscale": [
          [
           0,
           "#440154"
          ],
          [
           0.1111111111111111,
           "#482878"
          ],
          [
           0.2222222222222222,
           "#3e4989"
          ],
          [
           0.3333333333333333,
           "#31688e"
          ],
          [
           0.4444444444444444,
           "#26828e"
          ],
          [
           0.5555555555555556,
           "#1f9e89"
          ],
          [
           0.6666666666666666,
           "#35b779"
          ],
          [
           0.7777777777777778,
           "#6ece58"
          ],
          [
           0.8888888888888888,
           "#b5de2b"
          ],
          [
           1,
           "#fde725"
          ]
         ],
         "opacity": 0.3,
         "showscale": false,
         "type": "surface",
         "x": {
          "bdata": "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",
          "dtype": "f8",
          "shape": "50, 25"
         },
         "y": {
          "bdata": "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",
          "dtype": "f8",
          "shape": "50, 25"
         },
         "z": {
          "bdata": "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",
          "dtype": "f8",
          "shape": "50, 25"
         }
        },
        {
         "marker": {
          "color": "red",
          "size": 8
         },
         "mode": "markers",
         "name": "Target Mean",
         "type": "scatter3d",
         "x": [
          -0.10978552368136928
         ],
         "y": [
          0.4795498778884235
         ],
         "z": [
          -0.8706199247703935
         ]
        },
        {
         "marker": {
          "color": "black",
          "opacity": 0,
          "size": 8
         },
         "mode": "markers",
         "showlegend": false,
         "type": "scatter3d",
         "x": [
          0
         ],
         "y": [
          0.13052619222005157
         ],
         "z": [
          0.25881904510252074
         ]
        },
        {
         "marker": {
          "color": "black",
          "opacity": 0.02,
          "size": 8
         },
         "mode": "markers",
         "showlegend": false,
         "type": "scatter3d",
         "x": [
          0
         ],
         "y": [
          0.12945457398622062
         ],
         "z": [
          0.2566941443199484
         ]
        },
        {
         "marker": {
          "color": "black",
          "opacity": 0.04,
          "size": 8
         },
         "mode": "markers",
         "showlegend": false,
         "type": "scatter3d",
         "x": [
          0
         ],
         "y": [
          0.12625731522650083
         ],
         "z": [
          0.25035433278433517
         ]
        },
        {
         "marker": {
          "color": "black",
          "opacity": 0.06,
          "size": 8
         },
         "mode": "markers",
         "showlegend": false,
         "type": "scatter3d",
         "x": [
          0
         ],
         "y": [
          0.12098691484133374
         ],
         "z": [
          0.23990371002582228
         ]
        },
        {
         "marker": {
          "color": "black",
          "opacity": 0.08,
          "size": 8
         },
         "mode": "markers",
         "showlegend": false,
         "type": "scatter3d",
         "x": [
          0
         ],
         "y": [
          0.11372991265933577
         ],
         "z": [
          0.22551387498118144
         ]
        },
        {
         "marker": {
          "color": "black",
          "opacity": 0.1,
          "size": 8
         },
         "mode": "markers",
         "showlegend": false,
         "type": "scatter3d",
         "x": [
          0
         ],
         "y": [
          0.10460546845570465
         ],
         "z": [
          0.2074211083440172
         ]
        },
        {
         "marker": {
          "color": "black",
          "opacity": 0.12,
          "size": 8
         },
         "mode": "markers",
         "showlegend": false,
         "type": "scatter3d",
         "x": [
          0
         ],
         "y": [
          0.09376340535200513
         ],
         "z": [
          0.18592249284231024
         ]
        },
        {
         "marker": {
          "color": "black",
          "opacity": 0.14,
          "size": 8
         },
         "mode": "markers",
         "showlegend": false,
         "type": "scatter3d",
         "x": [
          0
         ],
         "y": [
          0.08138174972465494
         ],
         "z": [
          0.16137103514823728
         ]
        },
        {
         "marker": {
          "color": "black",
          "opacity": 0.16,
          "size": 8
         },
         "mode": "markers",
         "showlegend": false,
         "type": "scatter3d",
         "x": [
          0
         ],
         "y": [
          0.06766380801674582
         ],
         "z": [
          0.13416986951837337
         ]
        },
        {
         "marker": {
          "color": "black",
          "opacity": 0.18,
          "size": 8
         },
         "mode": "markers",
         "showlegend": false,
         "type": "scatter3d",
         "x": [
          0
         ],
         "y": [
          0.05283482845186869
         ],
         "z": [
          0.10476563834034403
         ]
        },
        {
         "marker": {
          "color": "black",
          "opacity": 0.2,
          "size": 8
         },
         "mode": "markers",
         "showlegend": false,
         "type": "scatter3d",
         "x": [
          0
         ],
         "y": [
          0.03713830246450955
         ],
         "z": [
          0.07364115827716862
         ]
        },
        {
         "marker": {
          "color": "black",
          "opacity": 0.22,
          "size": 8
         },
         "mode": "markers",
         "showlegend": false,
         "type": "scatter3d",
         "x": [
          0
         ],
         "y": [
          0.020831966577426923
         ],
         "z": [
          0.04130749243100178
         ]
        },
        {
         "marker": {
          "color": "black",
          "opacity": 0.24,
          "size": 8
         },
         "mode": "markers",
         "showlegend": false,
         "type": "scatter3d",
         "x": [
          0
         ],
         "y": [
          0.004183570375073778
         ],
         "z": [
          0.008295558701125203
         ]
        },
        {
         "marker": {
          "color": "black",
          "opacity": 0.26,
          "size": 8
         },
         "mode": "markers",
         "showlegend": false,
         "type": "scatter3d",
         "x": [
          0
         ],
         "y": [
          -0.012533519937177032
         ],
         "z": [
          -0.024852587873280745
         ]
        },
        {
         "marker": {
          "color": "black",
          "opacity": 0.28,
          "size": 8
         },
         "mode": "markers",
         "showlegend": false,
         "type": "scatter3d",
         "x": [
          0
         ],
         "y": [
          -0.029044810198567285
         ],
         "z": [
          -0.05759265564189436
         ]
        },
        {
         "marker": {
          "color": "black",
          "opacity": 0.3,
          "size": 8
         },
         "mode": "markers",
         "showlegend": false,
         "type": "scatter3d",
         "x": [
          0
         ],
         "y": [
          -0.045079185479484155
         ],
         "z": [
          -0.08938705359710292
         ]
        },
        {
         "marker": {
          "color": "black",
          "opacity": 0.32,
          "size": 8
         },
         "mode": "markers",
         "showlegend": false,
         "type": "scatter3d",
         "x": [
          0
         ],
         "y": [
          -0.06037336178110925
         ],
         "z": [
          -0.11971371860348552
         ]
        },
        {
         "marker": {
          "color": "black",
          "opacity": 0.34,
          "size": 8
         },
         "mode": "markers",
         "showlegend": false,
         "type": "scatter3d",
         "x": [
          0
         ],
         "y": [
          -0.0746762091514002
         ],
         "z": [
          -0.1480746876600633
         ]
        },
        {
         "marker": {
          "color": "black",
          "opacity": 0.36,
          "size": 8
         },
         "mode": "markers",
         "showlegend": false,
         "type": "scatter3d",
         "x": [
          0
         ],
         "y": [
          -0.0877528752319604
         ],
         "z": [
          -0.17400427443900854
         ]
        },
        {
         "marker": {
          "color": "black",
          "opacity": 0.38,
          "size": 8
         },
         "mode": "markers",
         "showlegend": false,
         "type": "scatter3d",
         "x": [
          0
         ],
         "y": [
          -0.099388641527271
         ],
         "z": [
          -0.19707671584227307
         ]
        },
        {
         "marker": {
          "color": "black",
          "opacity": 0.4,
          "size": 8
         },
         "mode": "markers",
         "showlegend": false,
         "type": "scatter3d",
         "x": [
          0
         ],
         "y": [
          -0.1093924490764511
         ],
         "z": [
          -0.21691316301988736
         ]
        },
        {
         "marker": {
          "color": "black",
          "opacity": 0.42,
          "size": 8
         },
         "mode": "markers",
         "showlegend": false,
         "type": "scatter3d",
         "x": [
          0
         ],
         "y": [
          -0.1176000356361134
         ],
         "z": [
          -0.23318790205760323
         ]
        },
        {
         "marker": {
          "color": "black",
          "opacity": 0.44,
          "size": 8
         },
         "mode": "markers",
         "showlegend": false,
         "type": "scatter3d",
         "x": [
          0
         ],
         "y": [
          -0.12387663286185917
         ],
         "z": [
          -0.24563370219036076
         ]
        },
        {
         "marker": {
          "color": "black",
          "opacity": 0.46,
          "size": 8
         },
         "mode": "markers",
         "showlegend": false,
         "type": "scatter3d",
         "x": [
          0
         ],
         "y": [
          -0.12811917920076757
         ],
         "z": [
          -0.2540462037240628
         ]
        },
        {
         "marker": {
          "color": "black",
          "opacity": 0.48,
          "size": 8
         },
         "mode": "markers",
         "showlegend": false,
         "type": "scatter3d",
         "x": [
          0
         ],
         "y": [
          -0.13025801215924526
         ],
         "z": [
          -0.2582872736161021
         ]
        },
        {
         "marker": {
          "color": "black",
          "opacity": 0.5,
          "size": 8
         },
         "mode": "markers",
         "showlegend": false,
         "type": "scatter3d",
         "x": [
          0
         ],
         "y": [
          -0.13025801215924526
         ],
         "z": [
          -0.2582872736161021
         ]
        },
        {
         "marker": {
          "color": "black",
          "opacity": 0.52,
          "size": 8
         },
         "mode": "markers",
         "showlegend": false,
         "type": "scatter3d",
         "x": [
          0
         ],
         "y": [
          -0.1281191792007676
         ],
         "z": [
          -0.2540462037240628
         ]
        },
        {
         "marker": {
          "color": "black",
          "opacity": 0.54,
          "size": 8
         },
         "mode": "markers",
         "showlegend": false,
         "type": "scatter3d",
         "x": [
          0
         ],
         "y": [
          -0.1238766328618592
         ],
         "z": [
          -0.24563370219036082
         ]
        },
        {
         "marker": {
          "color": "black",
          "opacity": 0.56,
          "size": 8
         },
         "mode": "markers",
         "showlegend": false,
         "type": "scatter3d",
         "x": [
          0
         ],
         "y": [
          -0.11760003563611342
         ],
         "z": [
          -0.23318790205760326
         ]
        },
        {
         "marker": {
          "color": "black",
          "opacity": 0.58,
          "size": 8
         },
         "mode": "markers",
         "showlegend": false,
         "type": "scatter3d",
         "x": [
          0
         ],
         "y": [
          -0.10939244907645117
         ],
         "z": [
          -0.21691316301988747
         ]
        },
        {
         "marker": {
          "color": "black",
          "opacity": 0.6,
          "size": 8
         },
         "mode": "markers",
         "showlegend": false,
         "type": "scatter3d",
         "x": [
          0
         ],
         "y": [
          -0.09938864152727106
         ],
         "z": [
          -0.19707671584227318
         ]
        },
        {
         "marker": {
          "color": "black",
          "opacity": 0.62,
          "size": 8
         },
         "mode": "markers",
         "showlegend": false,
         "type": "scatter3d",
         "x": [
          0
         ],
         "y": [
          -0.08775287523196046
         ],
         "z": [
          -0.17400427443900865
         ]
        },
        {
         "marker": {
          "color": "black",
          "opacity": 0.64,
          "size": 8
         },
         "mode": "markers",
         "showlegend": false,
         "type": "scatter3d",
         "x": [
          0
         ],
         "y": [
          -0.07467620915140027
         ],
         "z": [
          -0.14807468766006343
         ]
        },
        {
         "marker": {
          "color": "black",
          "opacity": 0.66,
          "size": 8
         },
         "mode": "markers",
         "showlegend": false,
         "type": "scatter3d",
         "x": [
          0
         ],
         "y": [
          -0.060373361781109275
         ],
         "z": [
          -0.11971371860348558
         ]
        },
        {
         "marker": {
          "color": "black",
          "opacity": 0.68,
          "size": 8
         },
         "mode": "markers",
         "showlegend": false,
         "type": "scatter3d",
         "x": [
          0
         ],
         "y": [
          -0.045079185479484245
         ],
         "z": [
          -0.08938705359710308
         ]
        },
        {
         "marker": {
          "color": "black",
          "opacity": 0.7,
          "size": 8
         },
         "mode": "markers",
         "showlegend": false,
         "type": "scatter3d",
         "x": [
          0
         ],
         "y": [
          -0.02904481019856732
         ],
         "z": [
          -0.057592655641894426
         ]
        },
        {
         "marker": {
          "color": "black",
          "opacity": 0.72,
          "size": 8
         },
         "mode": "markers",
         "showlegend": false,
         "type": "scatter3d",
         "x": [
          0
         ],
         "y": [
          -0.01253351993717715
         ],
         "z": [
          -0.024852587873280978
         ]
        },
        {
         "marker": {
          "color": "black",
          "opacity": 0.74,
          "size": 8
         },
         "mode": "markers",
         "showlegend": false,
         "type": "scatter3d",
         "x": [
          0
         ],
         "y": [
          0.004183570375073716
         ],
         "z": [
          0.008295558701125081
         ]
        },
        {
         "marker": {
          "color": "black",
          "opacity": 0.76,
          "size": 8
         },
         "mode": "markers",
         "showlegend": false,
         "type": "scatter3d",
         "x": [
          0
         ],
         "y": [
          0.020831966577426805
         ],
         "z": [
          0.04130749243100154
         ]
        },
        {
         "marker": {
          "color": "black",
          "opacity": 0.78,
          "size": 8
         },
         "mode": "markers",
         "showlegend": false,
         "type": "scatter3d",
         "x": [
          0
         ],
         "y": [
          0.03713830246450946
         ],
         "z": [
          0.07364115827716845
         ]
        },
        {
         "marker": {
          "color": "black",
          "opacity": 0.8,
          "size": 8
         },
         "mode": "markers",
         "showlegend": false,
         "type": "scatter3d",
         "x": [
          0
         ],
         "y": [
          0.05283482845186855
         ],
         "z": [
          0.10476563834034375
         ]
        },
        {
         "marker": {
          "color": "black",
          "opacity": 0.82,
          "size": 8
         },
         "mode": "markers",
         "showlegend": false,
         "type": "scatter3d",
         "x": [
          0
         ],
         "y": [
          0.06766380801674574
         ],
         "z": [
          0.1341698695183732
         ]
        },
        {
         "marker": {
          "color": "black",
          "opacity": 0.84,
          "size": 8
         },
         "mode": "markers",
         "showlegend": false,
         "type": "scatter3d",
         "x": [
          0
         ],
         "y": [
          0.0813817497246549
         ],
         "z": [
          0.16137103514823722
         ]
        },
        {
         "marker": {
          "color": "black",
          "opacity": 0.86,
          "size": 8
         },
         "mode": "markers",
         "showlegend": false,
         "type": "scatter3d",
         "x": [
          0
         ],
         "y": [
          0.09376340535200504
         ],
         "z": [
          0.18592249284231008
         ]
        },
        {
         "marker": {
          "color": "black",
          "opacity": 0.88,
          "size": 8
         },
         "mode": "markers",
         "showlegend": false,
         "type": "scatter3d",
         "x": [
          0
         ],
         "y": [
          0.10460546845570462
         ],
         "z": [
          0.20742110834401714
         ]
        },
        {
         "marker": {
          "color": "black",
          "opacity": 0.9,
          "size": 8
         },
         "mode": "markers",
         "showlegend": false,
         "type": "scatter3d",
         "x": [
          0
         ],
         "y": [
          0.11372991265933571
         ],
         "z": [
          0.22551387498118133
         ]
        },
        {
         "marker": {
          "color": "black",
          "opacity": 0.92,
          "size": 8
         },
         "mode": "markers",
         "showlegend": false,
         "type": "scatter3d",
         "x": [
          0
         ],
         "y": [
          0.12098691484133371
         ],
         "z": [
          0.23990371002582223
         ]
        },
        {
         "marker": {
          "color": "black",
          "opacity": 0.94,
          "size": 8
         },
         "mode": "markers",
         "showlegend": false,
         "type": "scatter3d",
         "x": [
          0
         ],
         "y": [
          0.12625731522650077
         ],
         "z": [
          0.2503543327843351
         ]
        },
        {
         "marker": {
          "color": "black",
          "opacity": 0.96,
          "size": 8
         },
         "mode": "markers",
         "showlegend": false,
         "type": "scatter3d",
         "x": [
          0
         ],
         "y": [
          0.12945457398622062
         ],
         "z": [
          0.2566941443199484
         ]
        },
        {
         "marker": {
          "color": "black",
          "opacity": 0.96,
          "size": 8
         },
         "mode": "markers",
         "name": "Current Mean",
         "type": "scatter3d",
         "x": [
          0
         ],
         "y": [
          0.12945457398622062
         ],
         "z": [
          0.2566941443199484
         ]
        }
       ],
       "layout": {
        "height": 700,
        "scene": {
         "aspectmode": "cube"
        },
        "template": {
         "data": {
          "bar": [
           {
            "error_x": {
             "color": "#2a3f5f"
            },
            "error_y": {
             "color": "#2a3f5f"
            },
            "marker": {
             "line": {
              "color": "#E5ECF6",
              "width": 0.5
             },
             "pattern": {
              "fillmode": "overlay",
              "size": 10,
              "solidity": 0.2
             }
            },
            "type": "bar"
           }
          ],
          "barpolar": [
           {
            "marker": {
             "line": {
              "color": "#E5ECF6",
              "width": 0.5
             },
             "pattern": {
              "fillmode": "overlay",
              "size": 10,
              "solidity": 0.2
             }
            },
            "type": "barpolar"
           }
          ],
          "carpet": [
           {
            "aaxis": {
             "endlinecolor": "#2a3f5f",
             "gridcolor": "white",
             "linecolor": "white",
             "minorgridcolor": "white",
             "startlinecolor": "#2a3f5f"
            },
            "baxis": {
             "endlinecolor": "#2a3f5f",
             "gridcolor": "white",
             "linecolor": "white",
             "minorgridcolor": "white",
             "startlinecolor": "#2a3f5f"
            },
            "type": "carpet"
           }
          ],
          "choropleth": [
           {
            "colorbar": {
             "outlinewidth": 0,
             "ticks": ""
            },
            "type": "choropleth"
           }
          ],
          "contour": [
           {
            "colorbar": {
             "outlinewidth": 0,
             "ticks": ""
            },
            "colorscale": [
             [
              0,
              "#0d0887"
             ],
             [
              0.1111111111111111,
              "#46039f"
             ],
             [
              0.2222222222222222,
              "#7201a8"
             ],
             [
              0.3333333333333333,
              "#9c179e"
             ],
             [
              0.4444444444444444,
              "#bd3786"
             ],
             [
              0.5555555555555556,
              "#d8576b"
             ],
             [
              0.6666666666666666,
              "#ed7953"
             ],
             [
              0.7777777777777778,
              "#fb9f3a"
             ],
             [
              0.8888888888888888,
              "#fdca26"
             ],
             [
              1,
              "#f0f921"
             ]
            ],
            "type": "contour"
           }
          ],
          "contourcarpet": [
           {
            "colorbar": {
             "outlinewidth": 0,
             "ticks": ""
            },
            "type": "contourcarpet"
           }
          ],
          "heatmap": [
           {
            "colorbar": {
             "outlinewidth": 0,
             "ticks": ""
            },
            "colorscale": [
             [
              0,
              "#0d0887"
             ],
             [
              0.1111111111111111,
              "#46039f"
             ],
             [
              0.2222222222222222,
              "#7201a8"
             ],
             [
              0.3333333333333333,
              "#9c179e"
             ],
             [
              0.4444444444444444,
              "#bd3786"
             ],
             [
              0.5555555555555556,
              "#d8576b"
             ],
             [
              0.6666666666666666,
              "#ed7953"
             ],
             [
              0.7777777777777778,
              "#fb9f3a"
             ],
             [
              0.8888888888888888,
              "#fdca26"
             ],
             [
              1,
              "#f0f921"
             ]
            ],
            "type": "heatmap"
           }
          ],
          "histogram": [
           {
            "marker": {
             "pattern": {
              "fillmode": "overlay",
              "size": 10,
              "solidity": 0.2
             }
            },
            "type": "histogram"
           }
          ],
          "histogram2d": [
           {
            "colorbar": {
             "outlinewidth": 0,
             "ticks": ""
            },
            "colorscale": [
             [
              0,
              "#0d0887"
             ],
             [
              0.1111111111111111,
              "#46039f"
             ],
             [
              0.2222222222222222,
              "#7201a8"
             ],
             [
              0.3333333333333333,
              "#9c179e"
             ],
             [
              0.4444444444444444,
              "#bd3786"
             ],
             [
              0.5555555555555556,
              "#d8576b"
             ],
             [
              0.6666666666666666,
              "#ed7953"
             ],
             [
              0.7777777777777778,
              "#fb9f3a"
             ],
             [
              0.8888888888888888,
              "#fdca26"
             ],
             [
              1,
              "#f0f921"
             ]
            ],
            "type": "histogram2d"
           }
          ],
          "histogram2dcontour": [
           {
            "colorbar": {
             "outlinewidth": 0,
             "ticks": ""
            },
            "colorscale": [
             [
              0,
              "#0d0887"
             ],
             [
              0.1111111111111111,
              "#46039f"
             ],
             [
              0.2222222222222222,
              "#7201a8"
             ],
             [
              0.3333333333333333,
              "#9c179e"
             ],
             [
              0.4444444444444444,
              "#bd3786"
             ],
             [
              0.5555555555555556,
              "#d8576b"
             ],
             [
              0.6666666666666666,
              "#ed7953"
             ],
             [
              0.7777777777777778,
              "#fb9f3a"
             ],
             [
              0.8888888888888888,
              "#fdca26"
             ],
             [
              1,
              "#f0f921"
             ]
            ],
            "type": "histogram2dcontour"
           }
          ],
          "mesh3d": [
           {
            "colorbar": {
             "outlinewidth": 0,
             "ticks": ""
            },
            "type": "mesh3d"
           }
          ],
          "parcoords": [
           {
            "line": {
             "colorbar": {
              "outlinewidth": 0,
              "ticks": ""
             }
            },
            "type": "parcoords"
           }
          ],
          "pie": [
           {
            "automargin": true,
            "type": "pie"
           }
          ],
          "scatter": [
           {
            "fillpattern": {
             "fillmode": "overlay",
             "size": 10,
             "solidity": 0.2
            },
            "type": "scatter"
           }
          ],
          "scatter3d": [
           {
            "line": {
             "colorbar": {
              "outlinewidth": 0,
              "ticks": ""
             }
            },
            "marker": {
             "colorbar": {
              "outlinewidth": 0,
              "ticks": ""
             }
            },
            "type": "scatter3d"
           }
          ],
          "scattercarpet": [
           {
            "marker": {
             "colorbar": {
              "outlinewidth": 0,
              "ticks": ""
             }
            },
            "type": "scattercarpet"
           }
          ],
          "scattergeo": [
           {
            "marker": {
             "colorbar": {
              "outlinewidth": 0,
              "ticks": ""
             }
            },
            "type": "scattergeo"
           }
          ],
          "scattergl": [
           {
            "marker": {
             "colorbar": {
              "outlinewidth": 0,
              "ticks": ""
             }
            },
            "type": "scattergl"
           }
          ],
          "scattermap": [
           {
            "marker": {
             "colorbar": {
              "outlinewidth": 0,
              "ticks": ""
             }
            },
            "type": "scattermap"
           }
          ],
          "scattermapbox": [
           {
            "marker": {
             "colorbar": {
              "outlinewidth": 0,
              "ticks": ""
             }
            },
            "type": "scattermapbox"
           }
          ],
          "scatterpolar": [
           {
            "marker": {
             "colorbar": {
              "outlinewidth": 0,
              "ticks": ""
             }
            },
            "type": "scatterpolar"
           }
          ],
          "scatterpolargl": [
           {
            "marker": {
             "colorbar": {
              "outlinewidth": 0,
              "ticks": ""
             }
            },
            "type": "scatterpolargl"
           }
          ],
          "scatterternary": [
           {
            "marker": {
             "colorbar": {
              "outlinewidth": 0,
              "ticks": ""
             }
            },
            "type": "scatterternary"
           }
          ],
          "surface": [
           {
            "colorbar": {
             "outlinewidth": 0,
             "ticks": ""
            },
            "colorscale": [
             [
              0,
              "#0d0887"
             ],
             [
              0.1111111111111111,
              "#46039f"
             ],
             [
              0.2222222222222222,
              "#7201a8"
             ],
             [
              0.3333333333333333,
              "#9c179e"
             ],
             [
              0.4444444444444444,
              "#bd3786"
             ],
             [
              0.5555555555555556,
              "#d8576b"
             ],
             [
              0.6666666666666666,
              "#ed7953"
             ],
             [
              0.7777777777777778,
              "#fb9f3a"
             ],
             [
              0.8888888888888888,
              "#fdca26"
             ],
             [
              1,
              "#f0f921"
             ]
            ],
            "type": "surface"
           }
          ],
          "table": [
           {
            "cells": {
             "fill": {
              "color": "#EBF0F8"
             },
             "line": {
              "color": "white"
             }
            },
            "header": {
             "fill": {
              "color": "#C8D4E3"
             },
             "line": {
              "color": "white"
             }
            },
            "type": "table"
           }
          ]
         },
         "layout": {
          "annotationdefaults": {
           "arrowcolor": "#2a3f5f",
           "arrowhead": 0,
           "arrowwidth": 1
          },
          "autotypenumbers": "strict",
          "coloraxis": {
           "colorbar": {
            "outlinewidth": 0,
            "ticks": ""
           }
          },
          "colorscale": {
           "diverging": [
            [
             0,
             "#8e0152"
            ],
            [
             0.1,
             "#c51b7d"
            ],
            [
             0.2,
             "#de77ae"
            ],
            [
             0.3,
             "#f1b6da"
            ],
            [
             0.4,
             "#fde0ef"
            ],
            [
             0.5,
             "#f7f7f7"
            ],
            [
             0.6,
             "#e6f5d0"
            ],
            [
             0.7,
             "#b8e186"
            ],
            [
             0.8,
             "#7fbc41"
            ],
            [
             0.9,
             "#4d9221"
            ],
            [
             1,
             "#276419"
            ]
           ],
           "sequential": [
            [
             0,
             "#0d0887"
            ],
            [
             0.1111111111111111,
             "#46039f"
            ],
            [
             0.2222222222222222,
             "#7201a8"
            ],
            [
             0.3333333333333333,
             "#9c179e"
            ],
            [
             0.4444444444444444,
             "#bd3786"
            ],
            [
             0.5555555555555556,
             "#d8576b"
            ],
            [
             0.6666666666666666,
             "#ed7953"
            ],
            [
             0.7777777777777778,
             "#fb9f3a"
            ],
            [
             0.8888888888888888,
             "#fdca26"
            ],
            [
             1,
             "#f0f921"
            ]
           ],
           "sequentialminus": [
            [
             0,
             "#0d0887"
            ],
            [
             0.1111111111111111,
             "#46039f"
            ],
            [
             0.2222222222222222,
             "#7201a8"
            ],
            [
             0.3333333333333333,
             "#9c179e"
            ],
            [
             0.4444444444444444,
             "#bd3786"
            ],
            [
             0.5555555555555556,
             "#d8576b"
            ],
            [
             0.6666666666666666,
             "#ed7953"
            ],
            [
             0.7777777777777778,
             "#fb9f3a"
            ],
            [
             0.8888888888888888,
             "#fdca26"
            ],
            [
             1,
             "#f0f921"
            ]
           ]
          },
          "colorway": [
           "#636efa",
           "#EF553B",
           "#00cc96",
           "#ab63fa",
           "#FFA15A",
           "#19d3f3",
           "#FF6692",
           "#B6E880",
           "#FF97FF",
           "#FECB52"
          ],
          "font": {
           "color": "#2a3f5f"
          },
          "geo": {
           "bgcolor": "white",
           "lakecolor": "white",
           "landcolor": "#E5ECF6",
           "showlakes": true,
           "showland": true,
           "subunitcolor": "white"
          },
          "hoverlabel": {
           "align": "left"
          },
          "hovermode": "closest",
          "mapbox": {
           "style": "light"
          },
          "paper_bgcolor": "white",
          "plot_bgcolor": "#E5ECF6",
          "polar": {
           "angularaxis": {
            "gridcolor": "white",
            "linecolor": "white",
            "ticks": ""
           },
           "bgcolor": "#E5ECF6",
           "radialaxis": {
            "gridcolor": "white",
            "linecolor": "white",
            "ticks": ""
           }
          },
          "scene": {
           "xaxis": {
            "backgroundcolor": "#E5ECF6",
            "gridcolor": "white",
            "gridwidth": 2,
            "linecolor": "white",
            "showbackground": true,
            "ticks": "",
            "zerolinecolor": "white"
           },
           "yaxis": {
            "backgroundcolor": "#E5ECF6",
            "gridcolor": "white",
            "gridwidth": 2,
            "linecolor": "white",
            "showbackground": true,
            "ticks": "",
            "zerolinecolor": "white"
           },
           "zaxis": {
            "backgroundcolor": "#E5ECF6",
            "gridcolor": "white",
            "gridwidth": 2,
            "linecolor": "white",
            "showbackground": true,
            "ticks": "",
            "zerolinecolor": "white"
           }
          },
          "shapedefaults": {
           "line": {
            "color": "#2a3f5f"
           }
          },
          "ternary": {
           "aaxis": {
            "gridcolor": "white",
            "linecolor": "white",
            "ticks": ""
           },
           "baxis": {
            "gridcolor": "white",
            "linecolor": "white",
            "ticks": ""
           },
           "bgcolor": "#E5ECF6",
           "caxis": {
            "gridcolor": "white",
            "linecolor": "white",
            "ticks": ""
           }
          },
          "title": {
           "x": 0.05
          },
          "xaxis": {
           "automargin": true,
           "gridcolor": "white",
           "linecolor": "white",
           "ticks": "",
           "title": {
            "standoff": 15
           },
           "zerolinecolor": "white",
           "zerolinewidth": 2
          },
          "yaxis": {
           "automargin": true,
           "gridcolor": "white",
           "linecolor": "white",
           "ticks": "",
           "title": {
            "standoff": 15
           },
           "zerolinecolor": "white",
           "zerolinewidth": 2
          }
         }
        },
        "title": {
         "text": "Target vs Achieved Mean"
        },
        "width": 700
       }
      }
     },
     "metadata": {},
     "output_type": "display_data"
    }
   ],
   "source": [
    "sigma = 0.1\n",
    "sphere = PymanoptSphereManifold(dim)\n",
    "mean = sphere.random_point()\n",
    "axis = get_axis(x)\n",
    "data = np.random.multivariate_normal(np.zeros(dim - 1), sigma**2 * np.eye(dim - 1), size=1000)\n",
    "tangent_vectors = data@axis\n",
    "projected_points = np.array([sphere.exp(x, t) for t in tangent_vectors])\n",
    "\n",
    "print(f'x (mean): {x}')\n",
    "print(f'Sigma: {sigma**2 * np.eye(dim - 1)}')\n",
    "\n",
    "mus, opt_cov = mle_manifold(projected_points, sphere, 0.01, 0.01)\n",
    "opt_mu = mus[-1]\n",
    "print(f'optimal mean: {opt_mu}')\n",
    "print(f'optimal covariance: {opt_cov}')"
   ]
  },
  {
   "cell_type": "code",
   "execution_count": 58,
   "metadata": {},
   "outputs": [
    {
     "data": {
      "application/vnd.plotly.v1+json": {
       "config": {
        "plotlyServerURL": "https://plot.ly"
       },
       "data": [
        {
         "colorscale": [
          [
           0,
           "#440154"
          ],
          [
           0.1111111111111111,
           "#482878"
          ],
          [
           0.2222222222222222,
           "#3e4989"
          ],
          [
           0.3333333333333333,
           "#31688e"
          ],
          [
           0.4444444444444444,
           "#26828e"
          ],
          [
           0.5555555555555556,
           "#1f9e89"
          ],
          [
           0.6666666666666666,
           "#35b779"
          ],
          [
           0.7777777777777778,
           "#6ece58"
          ],
          [
           0.8888888888888888,
           "#b5de2b"
          ],
          [
           1,
           "#fde725"
          ]
         ],
         "opacity": 0.3,
         "showscale": false,
         "type": "surface",
         "x": {
          "bdata": "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",
          "dtype": "f8",
          "shape": "50, 25"
         },
         "y": {
          "bdata": "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",
          "dtype": "f8",
          "shape": "50, 25"
         },
         "z": {
          "bdata": "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",
          "dtype": "f8",
          "shape": "50, 25"
         }
        },
        {
         "marker": {
          "color": "red",
          "size": 8
         },
         "mode": "markers",
         "name": "Target Mean",
         "type": "scatter3d",
         "x": [
          -0.10978552368136928
         ],
         "y": [
          0.4795498778884235
         ],
         "z": [
          -0.8706199247703935
         ]
        },
        {
         "marker": {
          "color": "black",
          "opacity": 0,
          "size": 2
         },
         "mode": "markers",
         "showlegend": false,
         "type": "scatter3d",
         "x": [
          0
         ],
         "y": [
          0.13052619222005157
         ],
         "z": [
          0.25881904510252074
         ]
        },
        {
         "marker": {
          "color": "black",
          "opacity": 0.02,
          "size": 2
         },
         "mode": "markers",
         "showlegend": false,
         "type": "scatter3d",
         "x": [
          0
         ],
         "y": [
          0.12945457398622062
         ],
         "z": [
          0.2566941443199484
         ]
        },
        {
         "marker": {
          "color": "black",
          "opacity": 0.04,
          "size": 2
         },
         "mode": "markers",
         "showlegend": false,
         "type": "scatter3d",
         "x": [
          0
         ],
         "y": [
          0.12625731522650083
         ],
         "z": [
          0.25035433278433517
         ]
        },
        {
         "marker": {
          "color": "black",
          "opacity": 0.06,
          "size": 2
         },
         "mode": "markers",
         "showlegend": false,
         "type": "scatter3d",
         "x": [
          0
         ],
         "y": [
          0.12098691484133374
         ],
         "z": [
          0.23990371002582228
         ]
        },
        {
         "marker": {
          "color": "black",
          "opacity": 0.08,
          "size": 2
         },
         "mode": "markers",
         "showlegend": false,
         "type": "scatter3d",
         "x": [
          0
         ],
         "y": [
          0.11372991265933577
         ],
         "z": [
          0.22551387498118144
         ]
        },
        {
         "marker": {
          "color": "black",
          "opacity": 0.1,
          "size": 2
         },
         "mode": "markers",
         "showlegend": false,
         "type": "scatter3d",
         "x": [
          0
         ],
         "y": [
          0.10460546845570465
         ],
         "z": [
          0.2074211083440172
         ]
        },
        {
         "marker": {
          "color": "black",
          "opacity": 0.12,
          "size": 2
         },
         "mode": "markers",
         "showlegend": false,
         "type": "scatter3d",
         "x": [
          0
         ],
         "y": [
          0.09376340535200513
         ],
         "z": [
          0.18592249284231024
         ]
        },
        {
         "marker": {
          "color": "black",
          "opacity": 0.14,
          "size": 2
         },
         "mode": "markers",
         "showlegend": false,
         "type": "scatter3d",
         "x": [
          0
         ],
         "y": [
          0.08138174972465494
         ],
         "z": [
          0.16137103514823728
         ]
        },
        {
         "marker": {
          "color": "black",
          "opacity": 0.16,
          "size": 2
         },
         "mode": "markers",
         "showlegend": false,
         "type": "scatter3d",
         "x": [
          0
         ],
         "y": [
          0.06766380801674582
         ],
         "z": [
          0.13416986951837337
         ]
        },
        {
         "marker": {
          "color": "black",
          "opacity": 0.18,
          "size": 2
         },
         "mode": "markers",
         "showlegend": false,
         "type": "scatter3d",
         "x": [
          0
         ],
         "y": [
          0.05283482845186869
         ],
         "z": [
          0.10476563834034403
         ]
        },
        {
         "marker": {
          "color": "black",
          "opacity": 0.2,
          "size": 2
         },
         "mode": "markers",
         "showlegend": false,
         "type": "scatter3d",
         "x": [
          0
         ],
         "y": [
          0.03713830246450955
         ],
         "z": [
          0.07364115827716862
         ]
        },
        {
         "marker": {
          "color": "black",
          "opacity": 0.22,
          "size": 2
         },
         "mode": "markers",
         "showlegend": false,
         "type": "scatter3d",
         "x": [
          0
         ],
         "y": [
          0.020831966577426923
         ],
         "z": [
          0.04130749243100178
         ]
        },
        {
         "marker": {
          "color": "black",
          "opacity": 0.24,
          "size": 2
         },
         "mode": "markers",
         "showlegend": false,
         "type": "scatter3d",
         "x": [
          0
         ],
         "y": [
          0.004183570375073778
         ],
         "z": [
          0.008295558701125203
         ]
        },
        {
         "marker": {
          "color": "black",
          "opacity": 0.26,
          "size": 2
         },
         "mode": "markers",
         "showlegend": false,
         "type": "scatter3d",
         "x": [
          0
         ],
         "y": [
          -0.012533519937177032
         ],
         "z": [
          -0.024852587873280745
         ]
        },
        {
         "marker": {
          "color": "black",
          "opacity": 0.28,
          "size": 2
         },
         "mode": "markers",
         "showlegend": false,
         "type": "scatter3d",
         "x": [
          0
         ],
         "y": [
          -0.029044810198567285
         ],
         "z": [
          -0.05759265564189436
         ]
        },
        {
         "marker": {
          "color": "black",
          "opacity": 0.3,
          "size": 2
         },
         "mode": "markers",
         "showlegend": false,
         "type": "scatter3d",
         "x": [
          0
         ],
         "y": [
          -0.045079185479484155
         ],
         "z": [
          -0.08938705359710292
         ]
        },
        {
         "marker": {
          "color": "black",
          "opacity": 0.32,
          "size": 2
         },
         "mode": "markers",
         "showlegend": false,
         "type": "scatter3d",
         "x": [
          0
         ],
         "y": [
          -0.06037336178110925
         ],
         "z": [
          -0.11971371860348552
         ]
        },
        {
         "marker": {
          "color": "black",
          "opacity": 0.34,
          "size": 2
         },
         "mode": "markers",
         "showlegend": false,
         "type": "scatter3d",
         "x": [
          0
         ],
         "y": [
          -0.0746762091514002
         ],
         "z": [
          -0.1480746876600633
         ]
        },
        {
         "marker": {
          "color": "black",
          "opacity": 0.36,
          "size": 2
         },
         "mode": "markers",
         "showlegend": false,
         "type": "scatter3d",
         "x": [
          0
         ],
         "y": [
          -0.0877528752319604
         ],
         "z": [
          -0.17400427443900854
         ]
        },
        {
         "marker": {
          "color": "black",
          "opacity": 0.38,
          "size": 2
         },
         "mode": "markers",
         "showlegend": false,
         "type": "scatter3d",
         "x": [
          0
         ],
         "y": [
          -0.099388641527271
         ],
         "z": [
          -0.19707671584227307
         ]
        },
        {
         "marker": {
          "color": "black",
          "opacity": 0.4,
          "size": 2
         },
         "mode": "markers",
         "showlegend": false,
         "type": "scatter3d",
         "x": [
          0
         ],
         "y": [
          -0.1093924490764511
         ],
         "z": [
          -0.21691316301988736
         ]
        },
        {
         "marker": {
          "color": "black",
          "opacity": 0.42,
          "size": 2
         },
         "mode": "markers",
         "showlegend": false,
         "type": "scatter3d",
         "x": [
          0
         ],
         "y": [
          -0.1176000356361134
         ],
         "z": [
          -0.23318790205760323
         ]
        },
        {
         "marker": {
          "color": "black",
          "opacity": 0.44,
          "size": 2
         },
         "mode": "markers",
         "showlegend": false,
         "type": "scatter3d",
         "x": [
          0
         ],
         "y": [
          -0.12387663286185917
         ],
         "z": [
          -0.24563370219036076
         ]
        },
        {
         "marker": {
          "color": "black",
          "opacity": 0.46,
          "size": 2
         },
         "mode": "markers",
         "showlegend": false,
         "type": "scatter3d",
         "x": [
          0
         ],
         "y": [
          -0.12811917920076757
         ],
         "z": [
          -0.2540462037240628
         ]
        },
        {
         "marker": {
          "color": "black",
          "opacity": 0.48,
          "size": 2
         },
         "mode": "markers",
         "showlegend": false,
         "type": "scatter3d",
         "x": [
          0
         ],
         "y": [
          -0.13025801215924526
         ],
         "z": [
          -0.2582872736161021
         ]
        },
        {
         "marker": {
          "color": "black",
          "opacity": 0.5,
          "size": 2
         },
         "mode": "markers",
         "showlegend": false,
         "type": "scatter3d",
         "x": [
          0
         ],
         "y": [
          -0.13025801215924526
         ],
         "z": [
          -0.2582872736161021
         ]
        },
        {
         "marker": {
          "color": "black",
          "opacity": 0.52,
          "size": 2
         },
         "mode": "markers",
         "showlegend": false,
         "type": "scatter3d",
         "x": [
          0
         ],
         "y": [
          -0.1281191792007676
         ],
         "z": [
          -0.2540462037240628
         ]
        },
        {
         "marker": {
          "color": "black",
          "opacity": 0.54,
          "size": 2
         },
         "mode": "markers",
         "showlegend": false,
         "type": "scatter3d",
         "x": [
          0
         ],
         "y": [
          -0.1238766328618592
         ],
         "z": [
          -0.24563370219036082
         ]
        },
        {
         "marker": {
          "color": "black",
          "opacity": 0.56,
          "size": 2
         },
         "mode": "markers",
         "showlegend": false,
         "type": "scatter3d",
         "x": [
          0
         ],
         "y": [
          -0.11760003563611342
         ],
         "z": [
          -0.23318790205760326
         ]
        },
        {
         "marker": {
          "color": "black",
          "opacity": 0.58,
          "size": 2
         },
         "mode": "markers",
         "showlegend": false,
         "type": "scatter3d",
         "x": [
          0
         ],
         "y": [
          -0.10939244907645117
         ],
         "z": [
          -0.21691316301988747
         ]
        },
        {
         "marker": {
          "color": "black",
          "opacity": 0.6,
          "size": 2
         },
         "mode": "markers",
         "showlegend": false,
         "type": "scatter3d",
         "x": [
          0
         ],
         "y": [
          -0.09938864152727106
         ],
         "z": [
          -0.19707671584227318
         ]
        },
        {
         "marker": {
          "color": "black",
          "opacity": 0.62,
          "size": 2
         },
         "mode": "markers",
         "showlegend": false,
         "type": "scatter3d",
         "x": [
          0
         ],
         "y": [
          -0.08775287523196046
         ],
         "z": [
          -0.17400427443900865
         ]
        },
        {
         "marker": {
          "color": "black",
          "opacity": 0.64,
          "size": 2
         },
         "mode": "markers",
         "showlegend": false,
         "type": "scatter3d",
         "x": [
          0
         ],
         "y": [
          -0.07467620915140027
         ],
         "z": [
          -0.14807468766006343
         ]
        },
        {
         "marker": {
          "color": "black",
          "opacity": 0.66,
          "size": 2
         },
         "mode": "markers",
         "showlegend": false,
         "type": "scatter3d",
         "x": [
          0
         ],
         "y": [
          -0.060373361781109275
         ],
         "z": [
          -0.11971371860348558
         ]
        },
        {
         "marker": {
          "color": "black",
          "opacity": 0.68,
          "size": 2
         },
         "mode": "markers",
         "showlegend": false,
         "type": "scatter3d",
         "x": [
          0
         ],
         "y": [
          -0.045079185479484245
         ],
         "z": [
          -0.08938705359710308
         ]
        },
        {
         "marker": {
          "color": "black",
          "opacity": 0.7,
          "size": 2
         },
         "mode": "markers",
         "showlegend": false,
         "type": "scatter3d",
         "x": [
          0
         ],
         "y": [
          -0.02904481019856732
         ],
         "z": [
          -0.057592655641894426
         ]
        },
        {
         "marker": {
          "color": "black",
          "opacity": 0.72,
          "size": 2
         },
         "mode": "markers",
         "showlegend": false,
         "type": "scatter3d",
         "x": [
          0
         ],
         "y": [
          -0.01253351993717715
         ],
         "z": [
          -0.024852587873280978
         ]
        },
        {
         "marker": {
          "color": "black",
          "opacity": 0.74,
          "size": 2
         },
         "mode": "markers",
         "showlegend": false,
         "type": "scatter3d",
         "x": [
          0
         ],
         "y": [
          0.004183570375073716
         ],
         "z": [
          0.008295558701125081
         ]
        },
        {
         "marker": {
          "color": "black",
          "opacity": 0.76,
          "size": 2
         },
         "mode": "markers",
         "showlegend": false,
         "type": "scatter3d",
         "x": [
          0
         ],
         "y": [
          0.020831966577426805
         ],
         "z": [
          0.04130749243100154
         ]
        },
        {
         "marker": {
          "color": "black",
          "opacity": 0.78,
          "size": 2
         },
         "mode": "markers",
         "showlegend": false,
         "type": "scatter3d",
         "x": [
          0
         ],
         "y": [
          0.03713830246450946
         ],
         "z": [
          0.07364115827716845
         ]
        },
        {
         "marker": {
          "color": "black",
          "opacity": 0.8,
          "size": 2
         },
         "mode": "markers",
         "showlegend": false,
         "type": "scatter3d",
         "x": [
          0
         ],
         "y": [
          0.05283482845186855
         ],
         "z": [
          0.10476563834034375
         ]
        },
        {
         "marker": {
          "color": "black",
          "opacity": 0.82,
          "size": 2
         },
         "mode": "markers",
         "showlegend": false,
         "type": "scatter3d",
         "x": [
          0
         ],
         "y": [
          0.06766380801674574
         ],
         "z": [
          0.1341698695183732
         ]
        },
        {
         "marker": {
          "color": "black",
          "opacity": 0.84,
          "size": 2
         },
         "mode": "markers",
         "showlegend": false,
         "type": "scatter3d",
         "x": [
          0
         ],
         "y": [
          0.0813817497246549
         ],
         "z": [
          0.16137103514823722
         ]
        },
        {
         "marker": {
          "color": "black",
          "opacity": 0.86,
          "size": 2
         },
         "mode": "markers",
         "showlegend": false,
         "type": "scatter3d",
         "x": [
          0
         ],
         "y": [
          0.09376340535200504
         ],
         "z": [
          0.18592249284231008
         ]
        },
        {
         "marker": {
          "color": "black",
          "opacity": 0.88,
          "size": 2
         },
         "mode": "markers",
         "showlegend": false,
         "type": "scatter3d",
         "x": [
          0
         ],
         "y": [
          0.10460546845570462
         ],
         "z": [
          0.20742110834401714
         ]
        },
        {
         "marker": {
          "color": "black",
          "opacity": 0.9,
          "size": 2
         },
         "mode": "markers",
         "showlegend": false,
         "type": "scatter3d",
         "x": [
          0
         ],
         "y": [
          0.11372991265933571
         ],
         "z": [
          0.22551387498118133
         ]
        },
        {
         "marker": {
          "color": "black",
          "opacity": 0.92,
          "size": 2
         },
         "mode": "markers",
         "showlegend": false,
         "type": "scatter3d",
         "x": [
          0
         ],
         "y": [
          0.12098691484133371
         ],
         "z": [
          0.23990371002582223
         ]
        },
        {
         "marker": {
          "color": "black",
          "opacity": 0.94,
          "size": 2
         },
         "mode": "markers",
         "showlegend": false,
         "type": "scatter3d",
         "x": [
          0
         ],
         "y": [
          0.12625731522650077
         ],
         "z": [
          0.2503543327843351
         ]
        },
        {
         "marker": {
          "color": "black",
          "opacity": 0.96,
          "size": 2
         },
         "mode": "markers",
         "showlegend": false,
         "type": "scatter3d",
         "x": [
          0
         ],
         "y": [
          0.12945457398622062
         ],
         "z": [
          0.2566941443199484
         ]
        },
        {
         "marker": {
          "color": "black",
          "opacity": 0.96,
          "size": 8
         },
         "mode": "markers",
         "name": "Current Mean",
         "type": "scatter3d",
         "x": [
          0
         ],
         "y": [
          0.12945457398622062
         ],
         "z": [
          0.2566941443199484
         ]
        }
       ],
       "layout": {
        "height": 700,
        "scene": {
         "aspectmode": "cube"
        },
        "template": {
         "data": {
          "bar": [
           {
            "error_x": {
             "color": "#2a3f5f"
            },
            "error_y": {
             "color": "#2a3f5f"
            },
            "marker": {
             "line": {
              "color": "#E5ECF6",
              "width": 0.5
             },
             "pattern": {
              "fillmode": "overlay",
              "size": 10,
              "solidity": 0.2
             }
            },
            "type": "bar"
           }
          ],
          "barpolar": [
           {
            "marker": {
             "line": {
              "color": "#E5ECF6",
              "width": 0.5
             },
             "pattern": {
              "fillmode": "overlay",
              "size": 10,
              "solidity": 0.2
             }
            },
            "type": "barpolar"
           }
          ],
          "carpet": [
           {
            "aaxis": {
             "endlinecolor": "#2a3f5f",
             "gridcolor": "white",
             "linecolor": "white",
             "minorgridcolor": "white",
             "startlinecolor": "#2a3f5f"
            },
            "baxis": {
             "endlinecolor": "#2a3f5f",
             "gridcolor": "white",
             "linecolor": "white",
             "minorgridcolor": "white",
             "startlinecolor": "#2a3f5f"
            },
            "type": "carpet"
           }
          ],
          "choropleth": [
           {
            "colorbar": {
             "outlinewidth": 0,
             "ticks": ""
            },
            "type": "choropleth"
           }
          ],
          "contour": [
           {
            "colorbar": {
             "outlinewidth": 0,
             "ticks": ""
            },
            "colorscale": [
             [
              0,
              "#0d0887"
             ],
             [
              0.1111111111111111,
              "#46039f"
             ],
             [
              0.2222222222222222,
              "#7201a8"
             ],
             [
              0.3333333333333333,
              "#9c179e"
             ],
             [
              0.4444444444444444,
              "#bd3786"
             ],
             [
              0.5555555555555556,
              "#d8576b"
             ],
             [
              0.6666666666666666,
              "#ed7953"
             ],
             [
              0.7777777777777778,
              "#fb9f3a"
             ],
             [
              0.8888888888888888,
              "#fdca26"
             ],
             [
              1,
              "#f0f921"
             ]
            ],
            "type": "contour"
           }
          ],
          "contourcarpet": [
           {
            "colorbar": {
             "outlinewidth": 0,
             "ticks": ""
            },
            "type": "contourcarpet"
           }
          ],
          "heatmap": [
           {
            "colorbar": {
             "outlinewidth": 0,
             "ticks": ""
            },
            "colorscale": [
             [
              0,
              "#0d0887"
             ],
             [
              0.1111111111111111,
              "#46039f"
             ],
             [
              0.2222222222222222,
              "#7201a8"
             ],
             [
              0.3333333333333333,
              "#9c179e"
             ],
             [
              0.4444444444444444,
              "#bd3786"
             ],
             [
              0.5555555555555556,
              "#d8576b"
             ],
             [
              0.6666666666666666,
              "#ed7953"
             ],
             [
              0.7777777777777778,
              "#fb9f3a"
             ],
             [
              0.8888888888888888,
              "#fdca26"
             ],
             [
              1,
              "#f0f921"
             ]
            ],
            "type": "heatmap"
           }
          ],
          "histogram": [
           {
            "marker": {
             "pattern": {
              "fillmode": "overlay",
              "size": 10,
              "solidity": 0.2
             }
            },
            "type": "histogram"
           }
          ],
          "histogram2d": [
           {
            "colorbar": {
             "outlinewidth": 0,
             "ticks": ""
            },
            "colorscale": [
             [
              0,
              "#0d0887"
             ],
             [
              0.1111111111111111,
              "#46039f"
             ],
             [
              0.2222222222222222,
              "#7201a8"
             ],
             [
              0.3333333333333333,
              "#9c179e"
             ],
             [
              0.4444444444444444,
              "#bd3786"
             ],
             [
              0.5555555555555556,
              "#d8576b"
             ],
             [
              0.6666666666666666,
              "#ed7953"
             ],
             [
              0.7777777777777778,
              "#fb9f3a"
             ],
             [
              0.8888888888888888,
              "#fdca26"
             ],
             [
              1,
              "#f0f921"
             ]
            ],
            "type": "histogram2d"
           }
          ],
          "histogram2dcontour": [
           {
            "colorbar": {
             "outlinewidth": 0,
             "ticks": ""
            },
            "colorscale": [
             [
              0,
              "#0d0887"
             ],
             [
              0.1111111111111111,
              "#46039f"
             ],
             [
              0.2222222222222222,
              "#7201a8"
             ],
             [
              0.3333333333333333,
              "#9c179e"
             ],
             [
              0.4444444444444444,
              "#bd3786"
             ],
             [
              0.5555555555555556,
              "#d8576b"
             ],
             [
              0.6666666666666666,
              "#ed7953"
             ],
             [
              0.7777777777777778,
              "#fb9f3a"
             ],
             [
              0.8888888888888888,
              "#fdca26"
             ],
             [
              1,
              "#f0f921"
             ]
            ],
            "type": "histogram2dcontour"
           }
          ],
          "mesh3d": [
           {
            "colorbar": {
             "outlinewidth": 0,
             "ticks": ""
            },
            "type": "mesh3d"
           }
          ],
          "parcoords": [
           {
            "line": {
             "colorbar": {
              "outlinewidth": 0,
              "ticks": ""
             }
            },
            "type": "parcoords"
           }
          ],
          "pie": [
           {
            "automargin": true,
            "type": "pie"
           }
          ],
          "scatter": [
           {
            "fillpattern": {
             "fillmode": "overlay",
             "size": 10,
             "solidity": 0.2
            },
            "type": "scatter"
           }
          ],
          "scatter3d": [
           {
            "line": {
             "colorbar": {
              "outlinewidth": 0,
              "ticks": ""
             }
            },
            "marker": {
             "colorbar": {
              "outlinewidth": 0,
              "ticks": ""
             }
            },
            "type": "scatter3d"
           }
          ],
          "scattercarpet": [
           {
            "marker": {
             "colorbar": {
              "outlinewidth": 0,
              "ticks": ""
             }
            },
            "type": "scattercarpet"
           }
          ],
          "scattergeo": [
           {
            "marker": {
             "colorbar": {
              "outlinewidth": 0,
              "ticks": ""
             }
            },
            "type": "scattergeo"
           }
          ],
          "scattergl": [
           {
            "marker": {
             "colorbar": {
              "outlinewidth": 0,
              "ticks": ""
             }
            },
            "type": "scattergl"
           }
          ],
          "scattermap": [
           {
            "marker": {
             "colorbar": {
              "outlinewidth": 0,
              "ticks": ""
             }
            },
            "type": "scattermap"
           }
          ],
          "scattermapbox": [
           {
            "marker": {
             "colorbar": {
              "outlinewidth": 0,
              "ticks": ""
             }
            },
            "type": "scattermapbox"
           }
          ],
          "scatterpolar": [
           {
            "marker": {
             "colorbar": {
              "outlinewidth": 0,
              "ticks": ""
             }
            },
            "type": "scatterpolar"
           }
          ],
          "scatterpolargl": [
           {
            "marker": {
             "colorbar": {
              "outlinewidth": 0,
              "ticks": ""
             }
            },
            "type": "scatterpolargl"
           }
          ],
          "scatterternary": [
           {
            "marker": {
             "colorbar": {
              "outlinewidth": 0,
              "ticks": ""
             }
            },
            "type": "scatterternary"
           }
          ],
          "surface": [
           {
            "colorbar": {
             "outlinewidth": 0,
             "ticks": ""
            },
            "colorscale": [
             [
              0,
              "#0d0887"
             ],
             [
              0.1111111111111111,
              "#46039f"
             ],
             [
              0.2222222222222222,
              "#7201a8"
             ],
             [
              0.3333333333333333,
              "#9c179e"
             ],
             [
              0.4444444444444444,
              "#bd3786"
             ],
             [
              0.5555555555555556,
              "#d8576b"
             ],
             [
              0.6666666666666666,
              "#ed7953"
             ],
             [
              0.7777777777777778,
              "#fb9f3a"
             ],
             [
              0.8888888888888888,
              "#fdca26"
             ],
             [
              1,
              "#f0f921"
             ]
            ],
            "type": "surface"
           }
          ],
          "table": [
           {
            "cells": {
             "fill": {
              "color": "#EBF0F8"
             },
             "line": {
              "color": "white"
             }
            },
            "header": {
             "fill": {
              "color": "#C8D4E3"
             },
             "line": {
              "color": "white"
             }
            },
            "type": "table"
           }
          ]
         },
         "layout": {
          "annotationdefaults": {
           "arrowcolor": "#2a3f5f",
           "arrowhead": 0,
           "arrowwidth": 1
          },
          "autotypenumbers": "strict",
          "coloraxis": {
           "colorbar": {
            "outlinewidth": 0,
            "ticks": ""
           }
          },
          "colorscale": {
           "diverging": [
            [
             0,
             "#8e0152"
            ],
            [
             0.1,
             "#c51b7d"
            ],
            [
             0.2,
             "#de77ae"
            ],
            [
             0.3,
             "#f1b6da"
            ],
            [
             0.4,
             "#fde0ef"
            ],
            [
             0.5,
             "#f7f7f7"
            ],
            [
             0.6,
             "#e6f5d0"
            ],
            [
             0.7,
             "#b8e186"
            ],
            [
             0.8,
             "#7fbc41"
            ],
            [
             0.9,
             "#4d9221"
            ],
            [
             1,
             "#276419"
            ]
           ],
           "sequential": [
            [
             0,
             "#0d0887"
            ],
            [
             0.1111111111111111,
             "#46039f"
            ],
            [
             0.2222222222222222,
             "#7201a8"
            ],
            [
             0.3333333333333333,
             "#9c179e"
            ],
            [
             0.4444444444444444,
             "#bd3786"
            ],
            [
             0.5555555555555556,
             "#d8576b"
            ],
            [
             0.6666666666666666,
             "#ed7953"
            ],
            [
             0.7777777777777778,
             "#fb9f3a"
            ],
            [
             0.8888888888888888,
             "#fdca26"
            ],
            [
             1,
             "#f0f921"
            ]
           ],
           "sequentialminus": [
            [
             0,
             "#0d0887"
            ],
            [
             0.1111111111111111,
             "#46039f"
            ],
            [
             0.2222222222222222,
             "#7201a8"
            ],
            [
             0.3333333333333333,
             "#9c179e"
            ],
            [
             0.4444444444444444,
             "#bd3786"
            ],
            [
             0.5555555555555556,
             "#d8576b"
            ],
            [
             0.6666666666666666,
             "#ed7953"
            ],
            [
             0.7777777777777778,
             "#fb9f3a"
            ],
            [
             0.8888888888888888,
             "#fdca26"
            ],
            [
             1,
             "#f0f921"
            ]
           ]
          },
          "colorway": [
           "#636efa",
           "#EF553B",
           "#00cc96",
           "#ab63fa",
           "#FFA15A",
           "#19d3f3",
           "#FF6692",
           "#B6E880",
           "#FF97FF",
           "#FECB52"
          ],
          "font": {
           "color": "#2a3f5f"
          },
          "geo": {
           "bgcolor": "white",
           "lakecolor": "white",
           "landcolor": "#E5ECF6",
           "showlakes": true,
           "showland": true,
           "subunitcolor": "white"
          },
          "hoverlabel": {
           "align": "left"
          },
          "hovermode": "closest",
          "mapbox": {
           "style": "light"
          },
          "paper_bgcolor": "white",
          "plot_bgcolor": "#E5ECF6",
          "polar": {
           "angularaxis": {
            "gridcolor": "white",
            "linecolor": "white",
            "ticks": ""
           },
           "bgcolor": "#E5ECF6",
           "radialaxis": {
            "gridcolor": "white",
            "linecolor": "white",
            "ticks": ""
           }
          },
          "scene": {
           "xaxis": {
            "backgroundcolor": "#E5ECF6",
            "gridcolor": "white",
            "gridwidth": 2,
            "linecolor": "white",
            "showbackground": true,
            "ticks": "",
            "zerolinecolor": "white"
           },
           "yaxis": {
            "backgroundcolor": "#E5ECF6",
            "gridcolor": "white",
            "gridwidth": 2,
            "linecolor": "white",
            "showbackground": true,
            "ticks": "",
            "zerolinecolor": "white"
           },
           "zaxis": {
            "backgroundcolor": "#E5ECF6",
            "gridcolor": "white",
            "gridwidth": 2,
            "linecolor": "white",
            "showbackground": true,
            "ticks": "",
            "zerolinecolor": "white"
           }
          },
          "shapedefaults": {
           "line": {
            "color": "#2a3f5f"
           }
          },
          "ternary": {
           "aaxis": {
            "gridcolor": "white",
            "linecolor": "white",
            "ticks": ""
           },
           "baxis": {
            "gridcolor": "white",
            "linecolor": "white",
            "ticks": ""
           },
           "bgcolor": "#E5ECF6",
           "caxis": {
            "gridcolor": "white",
            "linecolor": "white",
            "ticks": ""
           }
          },
          "title": {
           "x": 0.05
          },
          "xaxis": {
           "automargin": true,
           "gridcolor": "white",
           "linecolor": "white",
           "ticks": "",
           "title": {
            "standoff": 15
           },
           "zerolinecolor": "white",
           "zerolinewidth": 2
          },
          "yaxis": {
           "automargin": true,
           "gridcolor": "white",
           "linecolor": "white",
           "ticks": "",
           "title": {
            "standoff": 15
           },
           "zerolinecolor": "white",
           "zerolinewidth": 2
          }
         }
        },
        "title": {
         "text": "Target vs Achieved Mean"
        },
        "width": 700
       }
      }
     },
     "metadata": {},
     "output_type": "display_data"
    }
   ],
   "source": [
    "plot_mean(x, mus)"
   ]
  },
  {
   "cell_type": "code",
   "execution_count": null,
   "metadata": {},
   "outputs": [],
   "source": []
  }
 ],
 "metadata": {
  "kernelspec": {
   "display_name": "neml-venv",
   "language": "python",
   "name": "python3"
  },
  "language_info": {
   "codemirror_mode": {
    "name": "ipython",
    "version": 3
   },
   "file_extension": ".py",
   "mimetype": "text/x-python",
   "name": "python",
   "nbconvert_exporter": "python",
   "pygments_lexer": "ipython3",
   "version": "3.10.16"
  }
 },
 "nbformat": 4,
 "nbformat_minor": 2
}

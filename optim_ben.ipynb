{
 "cells": [
  {
   "cell_type": "code",
   "execution_count": 1,
   "metadata": {},
   "outputs": [],
   "source": [
    "import pymanopt\n",
    "import numpy as np\n",
    "from scipy.integrate import solve_ivp\n",
    "from scipy.optimize import minimize\n",
    "import matplotlib.pyplot as plt\n",
    "from mpl_toolkits.mplot3d import Axes3D\n",
    "from pymanopt.manifolds import Sphere\n",
    "import plotly.graph_objects as go"
   ]
  },
  {
   "cell_type": "code",
   "execution_count": 45,
   "metadata": {},
   "outputs": [],
   "source": [
    "dim = 3\n",
    "man = Sphere(dim)"
   ]
  },
  {
   "cell_type": "code",
   "execution_count": 46,
   "metadata": {},
   "outputs": [],
   "source": [
    "# Compute local metric tensor\n",
    "def local_metric_tensor(x, data, rho=1e-5):\n",
    "    \"\"\"\n",
    "    Computes the local diagonal metric tensor at point x.\n",
    "\n",
    "    Parameters:\n",
    "    - x: (D,) point at which the metric is evaluated\n",
    "    - data: (N, D) array of data points\n",
    "    - rho: regularization constant to prevent singularities\n",
    "\n",
    "    Returns:\n",
    "    - metric_tensor: (D,) diagonal elements of the metric tensor at point x\n",
    "    \"\"\"\n",
    "    # Gaussian kernel bandwidth\n",
    "    sigma = 0.5\n",
    "\n",
    "    # The metric tensor is a diagonal matrix with diagonal elements\n",
    "    diff_sq = (data - x)**2\n",
    "    distances_sq = np.sum(diff_sq, axis=1)\n",
    "    weights = np.exp(-distances_sq / (2 * sigma**2))\n",
    "    weighted_cov_diag = np.sum(weights[:, np.newaxis] * diff_sq, axis=0) + rho\n",
    "    metric_tensor = np.diag(1.0 / weighted_cov_diag)\n",
    "\n",
    "    return metric_tensor\n",
    "\n",
    "# Determinant of local metric (assumed diagonal)\n",
    "def det_local_metric(x, data, rho=1e-5):\n",
    "    metric_tensor = local_metric_tensor(x, data, rho)\n",
    "    metric_det = np.prod(metric_tensor)\n",
    "    return metric_det"
   ]
  },
  {
   "cell_type": "code",
   "execution_count": 47,
   "metadata": {},
   "outputs": [],
   "source": [
    "tol = 1e-5\n",
    "\n",
    "def gram_schmidt(vectors):\n",
    "    Q = np.zeros_like(vectors)\n",
    "    for i in range(len(vectors)):\n",
    "        v = vectors[i]\n",
    "        for j in range(i):\n",
    "            proj = np.dot(v, Q[j]) / np.dot(Q[j], Q[j]) * Q[j]\n",
    "            v = v - proj\n",
    "        Q[i] = v / np.linalg.norm(v)\n",
    "    return Q\n",
    "    \n",
    "def get_axis(normal):\n",
    "    # Assumes it is norm 1\n",
    "    Q = np.eye(dim)\n",
    "    arg = np.argmax(normal)\n",
    "    if normal[arg]>(1-tol) and np.sum(normal)>(1-tol):\n",
    "        return np.concatenate([Q[:arg], Q[arg+1:]])\n",
    "    return gram_schmidt(np.vstack([normal,Q[:-1]]))[1:]\n",
    "\n",
    "def get_e(i,n):\n",
    "    return np.array(i*[0]+[1]+(n-i-1)*[0])"
   ]
  },
  {
   "cell_type": "code",
   "execution_count": 48,
   "metadata": {},
   "outputs": [],
   "source": [
    "# Compute derivative of the metric tensor numerically\n",
    "def metric_tensor_jacobian(x, data, eps=1e-5):\n",
    "    D = len(x)\n",
    "    jac = np.zeros((D, D, D))\n",
    "    for i in range(D):\n",
    "        dx = np.zeros(D)\n",
    "        dx[i] = eps\n",
    "        jac[:, :, i] = (local_metric_tensor(x + dx, data) - local_metric_tensor(x - dx, data)) / (2 * eps)\n",
    "    return jac\n",
    "\n",
    "# Geodesic ODE function\n",
    "def geodesic_ode(t, y, data):\n",
    "    D = len(y) // 2\n",
    "    pos, vel = y[:D], y[D:]\n",
    "\n",
    "    M = local_metric_tensor(pos, data)\n",
    "    M_inv = np.linalg.inv(M)\n",
    "    M_jac = metric_tensor_jacobian(pos, data)\n",
    "\n",
    "    # Compute Christoffel term\n",
    "    christoffel = np.zeros(D)\n",
    "    for i in range(D):\n",
    "        christoffel[i] = vel @ M_jac[:, :, i] @ vel\n",
    "\n",
    "    acc = -0.5 * M_inv @ christoffel\n",
    "    return np.concatenate([vel, acc])\n",
    "\n",
    "# Exponential map (Initial value problem)\n",
    "def exp_map(x, v, data, t_final=1.0):\n",
    "    y0 = np.concatenate([x, v])\n",
    "    sol = solve_ivp(geodesic_ode, [0, t_final], y0, args=(data,), method='RK45', atol=1e-8)\n",
    "    return sol.y[:len(x), -1]\n",
    "\n",
    "# Logarithmic map (Boundary value problem solved via optimization)\n",
    "def log_map(x, y_target, data, t_final=1.0):\n",
    "    D = len(x)\n",
    "\n",
    "    def objective(v_guess):\n",
    "        y_final = exp_map(x, v_guess, data, t_final)\n",
    "        return np.linalg.norm(y_final - y_target)**2\n",
    "\n",
    "    res = minimize(objective, np.zeros(D), method='BFGS', options={'gtol':1e-8, 'disp':False})\n",
    "    return res.x"
   ]
  },
  {
   "cell_type": "code",
   "execution_count": 55,
   "metadata": {},
   "outputs": [],
   "source": [
    "def estimate_normalization_constant(data, mu, Sigma, exp, num_samples=1000):\n",
    "    D = len(mu)\n",
    "\n",
    "    # Compute normalization of Euclidean normal distribution\n",
    "    Z = np.sqrt((2 * np.pi) ** D * np.linalg.det(Sigma))\n",
    "\n",
    "    # Generate tangent space samples\n",
    "    axis = get_axis(mu)\n",
    "    vectors = np.random.multivariate_normal(np.zeros(D), Sigma, num_samples)\n",
    "    tangent_vectors = vectors@axis\n",
    "\n",
    "    # Perform Monte Carlo integration\n",
    "    metric_sum = 0\n",
    "    for v in tangent_vectors:\n",
    "        x_s = exp(mu, v, data)\n",
    "        metric_det = np.abs(np.linalg.det(local_metric_tensor(x_s, data)))\n",
    "        metric_sum += np.sqrt(metric_det)\n",
    "\n",
    "    C_hat = Z * metric_sum / num_samples\n",
    "\n",
    "    return C_hat"
   ]
  },
  {
   "cell_type": "code",
   "execution_count": 50,
   "metadata": {},
   "outputs": [
    {
     "data": {
      "text/plain": [
       "array([[-0.0332278 , -0.1162302 ,  0.27888432],\n",
       "       [-1.41482827, -1.02367815, -0.37403805],\n",
       "       [ 0.00483307,  0.06926743, -0.20395488],\n",
       "       [-0.31167053,  0.22296873, -1.48182758],\n",
       "       [-0.28979637, -0.27018546,  0.1121964 ],\n",
       "       [ 0.37309062,  0.31906908, -0.05465689],\n",
       "       [-0.47267079, -0.38056677, -0.00459616],\n",
       "       [ 0.23148886, -0.02912111,  0.67471172],\n",
       "       [-0.37641178, -0.47829956,  0.54314869],\n",
       "       [-0.33855164,  0.03061379, -0.94939398]])"
      ]
     },
     "execution_count": 50,
     "metadata": {},
     "output_type": "execute_result"
    }
   ],
   "source": [
    "sigma = 0.7\n",
    "x = man.random_point()\n",
    "ax = get_axis(x)\n",
    "data = np.random.multivariate_normal(np.zeros(dim - 1), sigma**2 * np.eye(dim - 1), size=1000)\n",
    "tangent_vectors = data@ax\n",
    "tangent_vectors[:10]"
   ]
  },
  {
   "cell_type": "code",
   "execution_count": 51,
   "metadata": {},
   "outputs": [
    {
     "name": "stdout",
     "output_type": "stream",
     "text": [
      "projected_points: [[ 0.54926535 -0.83449632  0.04385733]\n",
      " [-0.90415565 -0.3988733  -0.15297927]\n",
      " [ 0.60063792 -0.66846073 -0.43862779]\n",
      " [-0.17893994  0.11521563 -0.97709051]\n",
      " [ 0.27728106 -0.95417149 -0.11256992]\n",
      " [ 0.89513777 -0.35818378 -0.26539169]\n",
      " [ 0.05684808 -0.97753198 -0.20297666]\n",
      " [ 0.67331924 -0.59707149  0.43605829]\n",
      " [ 0.08197234 -0.94415407  0.31914515]\n",
      " [ 0.04120247 -0.37669257 -0.92542156]]\n",
      "reconstructed vectors: [[-0.0332278  -0.1162302   0.27888432]\n",
      " [-1.41482827 -1.02367815 -0.37403805]\n",
      " [ 0.00483307  0.06926743 -0.20395488]\n",
      " [-0.31167053  0.22296873 -1.48182758]\n",
      " [-0.28979637 -0.27018546  0.1121964 ]\n",
      " [ 0.37309062  0.31906908 -0.05465689]\n",
      " [-0.47267079 -0.38056677 -0.00459616]\n",
      " [ 0.23148886 -0.02912111  0.67471172]\n",
      " [-0.37641178 -0.47829956  0.54314869]\n",
      " [-0.33855164  0.03061379 -0.94939398]]\n"
     ]
    }
   ],
   "source": [
    "projected_points = np.array([man.exp(x, t) for t in tangent_vectors])\n",
    "print(f'projected_points: {projected_points[:10]}')\n",
    "recon_vectors = np.array([man.log(x, y) for y in projected_points])\n",
    "print(f'reconstructed vectors: {recon_vectors[:10]}')"
   ]
  },
  {
   "cell_type": "code",
   "execution_count": 52,
   "metadata": {},
   "outputs": [
    {
     "name": "stdout",
     "output_type": "stream",
     "text": [
      "tangent vector: [-0.63675844 -0.72356075  0.65184608]\n",
      "y (our implementation): [ 0.01451016 -1.38283575  0.36971809]\n",
      "y (pymanopt implementation): [-0.26091793 -0.8698749   0.41861616]\n",
      "reconstructed vector: [-0.62505274 -0.68970806  0.6678184 ]\n"
     ]
    }
   ],
   "source": [
    "tangent_vector = tangent_vectors[np.random.randint(0, len(tangent_vectors))]\n",
    "print(f'tangent vector: {tangent_vector}')\n",
    "\n",
    "y = exp_map(x, tangent_vector, projected_points)\n",
    "y_auto = man.exp(x, tangent_vector)\n",
    "print(f'y (our implementation): {y}')\n",
    "print(f'y (pymanopt implementation): {y_auto}')\n",
    "\n",
    "recon_vector = log_map(x, y, projected_points)\n",
    "print(f'reconstructed vector: {recon_vector}')"
   ]
  },
  {
   "cell_type": "code",
   "execution_count": 53,
   "metadata": {},
   "outputs": [
    {
     "data": {
      "application/vnd.plotly.v1+json": {
       "config": {
        "plotlyServerURL": "https://plot.ly"
       },
       "data": [
        {
         "colorscale": [
          [
           0,
           "#440154"
          ],
          [
           0.1111111111111111,
           "#482878"
          ],
          [
           0.2222222222222222,
           "#3e4989"
          ],
          [
           0.3333333333333333,
           "#31688e"
          ],
          [
           0.4444444444444444,
           "#26828e"
          ],
          [
           0.5555555555555556,
           "#1f9e89"
          ],
          [
           0.6666666666666666,
           "#35b779"
          ],
          [
           0.7777777777777778,
           "#6ece58"
          ],
          [
           0.8888888888888888,
           "#b5de2b"
          ],
          [
           1,
           "#fde725"
          ]
         ],
         "opacity": 0.3,
         "showscale": false,
         "type": "surface",
         "x": {
          "bdata": "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",
          "dtype": "f8",
          "shape": "50, 25"
         },
         "y": {
          "bdata": "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",
          "dtype": "f8",
          "shape": "50, 25"
         },
         "z": {
          "bdata": "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",
          "dtype": "f8",
          "shape": "50, 25"
         }
        },
        {
         "marker": {
          "color": "red",
          "size": 3
         },
         "mode": "markers",
         "name": "Tangent Points",
         "type": "scatter3d",
         "x": {
          "bdata": "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",
          "dtype": "f8"
         },
         "y": {
          "bdata": "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",
          "dtype": "f8"
         },
         "z": {
          "bdata": "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",
          "dtype": "f8"
         }
        },
        {
         "marker": {
          "color": "black",
          "size": 8
         },
         "mode": "markers",
         "name": "Base Point",
         "type": "scatter3d",
         "x": [
          0.6099439521131674
         ],
         "y": [
          -0.7546406811857134
         ],
         "z": [
          -0.24183841212704937
         ]
        }
       ],
       "layout": {
        "height": 700,
        "scene": {
         "aspectmode": "data"
        },
        "template": {
         "data": {
          "bar": [
           {
            "error_x": {
             "color": "#2a3f5f"
            },
            "error_y": {
             "color": "#2a3f5f"
            },
            "marker": {
             "line": {
              "color": "#E5ECF6",
              "width": 0.5
             },
             "pattern": {
              "fillmode": "overlay",
              "size": 10,
              "solidity": 0.2
             }
            },
            "type": "bar"
           }
          ],
          "barpolar": [
           {
            "marker": {
             "line": {
              "color": "#E5ECF6",
              "width": 0.5
             },
             "pattern": {
              "fillmode": "overlay",
              "size": 10,
              "solidity": 0.2
             }
            },
            "type": "barpolar"
           }
          ],
          "carpet": [
           {
            "aaxis": {
             "endlinecolor": "#2a3f5f",
             "gridcolor": "white",
             "linecolor": "white",
             "minorgridcolor": "white",
             "startlinecolor": "#2a3f5f"
            },
            "baxis": {
             "endlinecolor": "#2a3f5f",
             "gridcolor": "white",
             "linecolor": "white",
             "minorgridcolor": "white",
             "startlinecolor": "#2a3f5f"
            },
            "type": "carpet"
           }
          ],
          "choropleth": [
           {
            "colorbar": {
             "outlinewidth": 0,
             "ticks": ""
            },
            "type": "choropleth"
           }
          ],
          "contour": [
           {
            "colorbar": {
             "outlinewidth": 0,
             "ticks": ""
            },
            "colorscale": [
             [
              0,
              "#0d0887"
             ],
             [
              0.1111111111111111,
              "#46039f"
             ],
             [
              0.2222222222222222,
              "#7201a8"
             ],
             [
              0.3333333333333333,
              "#9c179e"
             ],
             [
              0.4444444444444444,
              "#bd3786"
             ],
             [
              0.5555555555555556,
              "#d8576b"
             ],
             [
              0.6666666666666666,
              "#ed7953"
             ],
             [
              0.7777777777777778,
              "#fb9f3a"
             ],
             [
              0.8888888888888888,
              "#fdca26"
             ],
             [
              1,
              "#f0f921"
             ]
            ],
            "type": "contour"
           }
          ],
          "contourcarpet": [
           {
            "colorbar": {
             "outlinewidth": 0,
             "ticks": ""
            },
            "type": "contourcarpet"
           }
          ],
          "heatmap": [
           {
            "colorbar": {
             "outlinewidth": 0,
             "ticks": ""
            },
            "colorscale": [
             [
              0,
              "#0d0887"
             ],
             [
              0.1111111111111111,
              "#46039f"
             ],
             [
              0.2222222222222222,
              "#7201a8"
             ],
             [
              0.3333333333333333,
              "#9c179e"
             ],
             [
              0.4444444444444444,
              "#bd3786"
             ],
             [
              0.5555555555555556,
              "#d8576b"
             ],
             [
              0.6666666666666666,
              "#ed7953"
             ],
             [
              0.7777777777777778,
              "#fb9f3a"
             ],
             [
              0.8888888888888888,
              "#fdca26"
             ],
             [
              1,
              "#f0f921"
             ]
            ],
            "type": "heatmap"
           }
          ],
          "histogram": [
           {
            "marker": {
             "pattern": {
              "fillmode": "overlay",
              "size": 10,
              "solidity": 0.2
             }
            },
            "type": "histogram"
           }
          ],
          "histogram2d": [
           {
            "colorbar": {
             "outlinewidth": 0,
             "ticks": ""
            },
            "colorscale": [
             [
              0,
              "#0d0887"
             ],
             [
              0.1111111111111111,
              "#46039f"
             ],
             [
              0.2222222222222222,
              "#7201a8"
             ],
             [
              0.3333333333333333,
              "#9c179e"
             ],
             [
              0.4444444444444444,
              "#bd3786"
             ],
             [
              0.5555555555555556,
              "#d8576b"
             ],
             [
              0.6666666666666666,
              "#ed7953"
             ],
             [
              0.7777777777777778,
              "#fb9f3a"
             ],
             [
              0.8888888888888888,
              "#fdca26"
             ],
             [
              1,
              "#f0f921"
             ]
            ],
            "type": "histogram2d"
           }
          ],
          "histogram2dcontour": [
           {
            "colorbar": {
             "outlinewidth": 0,
             "ticks": ""
            },
            "colorscale": [
             [
              0,
              "#0d0887"
             ],
             [
              0.1111111111111111,
              "#46039f"
             ],
             [
              0.2222222222222222,
              "#7201a8"
             ],
             [
              0.3333333333333333,
              "#9c179e"
             ],
             [
              0.4444444444444444,
              "#bd3786"
             ],
             [
              0.5555555555555556,
              "#d8576b"
             ],
             [
              0.6666666666666666,
              "#ed7953"
             ],
             [
              0.7777777777777778,
              "#fb9f3a"
             ],
             [
              0.8888888888888888,
              "#fdca26"
             ],
             [
              1,
              "#f0f921"
             ]
            ],
            "type": "histogram2dcontour"
           }
          ],
          "mesh3d": [
           {
            "colorbar": {
             "outlinewidth": 0,
             "ticks": ""
            },
            "type": "mesh3d"
           }
          ],
          "parcoords": [
           {
            "line": {
             "colorbar": {
              "outlinewidth": 0,
              "ticks": ""
             }
            },
            "type": "parcoords"
           }
          ],
          "pie": [
           {
            "automargin": true,
            "type": "pie"
           }
          ],
          "scatter": [
           {
            "fillpattern": {
             "fillmode": "overlay",
             "size": 10,
             "solidity": 0.2
            },
            "type": "scatter"
           }
          ],
          "scatter3d": [
           {
            "line": {
             "colorbar": {
              "outlinewidth": 0,
              "ticks": ""
             }
            },
            "marker": {
             "colorbar": {
              "outlinewidth": 0,
              "ticks": ""
             }
            },
            "type": "scatter3d"
           }
          ],
          "scattercarpet": [
           {
            "marker": {
             "colorbar": {
              "outlinewidth": 0,
              "ticks": ""
             }
            },
            "type": "scattercarpet"
           }
          ],
          "scattergeo": [
           {
            "marker": {
             "colorbar": {
              "outlinewidth": 0,
              "ticks": ""
             }
            },
            "type": "scattergeo"
           }
          ],
          "scattergl": [
           {
            "marker": {
             "colorbar": {
              "outlinewidth": 0,
              "ticks": ""
             }
            },
            "type": "scattergl"
           }
          ],
          "scattermap": [
           {
            "marker": {
             "colorbar": {
              "outlinewidth": 0,
              "ticks": ""
             }
            },
            "type": "scattermap"
           }
          ],
          "scattermapbox": [
           {
            "marker": {
             "colorbar": {
              "outlinewidth": 0,
              "ticks": ""
             }
            },
            "type": "scattermapbox"
           }
          ],
          "scatterpolar": [
           {
            "marker": {
             "colorbar": {
              "outlinewidth": 0,
              "ticks": ""
             }
            },
            "type": "scatterpolar"
           }
          ],
          "scatterpolargl": [
           {
            "marker": {
             "colorbar": {
              "outlinewidth": 0,
              "ticks": ""
             }
            },
            "type": "scatterpolargl"
           }
          ],
          "scatterternary": [
           {
            "marker": {
             "colorbar": {
              "outlinewidth": 0,
              "ticks": ""
             }
            },
            "type": "scatterternary"
           }
          ],
          "surface": [
           {
            "colorbar": {
             "outlinewidth": 0,
             "ticks": ""
            },
            "colorscale": [
             [
              0,
              "#0d0887"
             ],
             [
              0.1111111111111111,
              "#46039f"
             ],
             [
              0.2222222222222222,
              "#7201a8"
             ],
             [
              0.3333333333333333,
              "#9c179e"
             ],
             [
              0.4444444444444444,
              "#bd3786"
             ],
             [
              0.5555555555555556,
              "#d8576b"
             ],
             [
              0.6666666666666666,
              "#ed7953"
             ],
             [
              0.7777777777777778,
              "#fb9f3a"
             ],
             [
              0.8888888888888888,
              "#fdca26"
             ],
             [
              1,
              "#f0f921"
             ]
            ],
            "type": "surface"
           }
          ],
          "table": [
           {
            "cells": {
             "fill": {
              "color": "#EBF0F8"
             },
             "line": {
              "color": "white"
             }
            },
            "header": {
             "fill": {
              "color": "#C8D4E3"
             },
             "line": {
              "color": "white"
             }
            },
            "type": "table"
           }
          ]
         },
         "layout": {
          "annotationdefaults": {
           "arrowcolor": "#2a3f5f",
           "arrowhead": 0,
           "arrowwidth": 1
          },
          "autotypenumbers": "strict",
          "coloraxis": {
           "colorbar": {
            "outlinewidth": 0,
            "ticks": ""
           }
          },
          "colorscale": {
           "diverging": [
            [
             0,
             "#8e0152"
            ],
            [
             0.1,
             "#c51b7d"
            ],
            [
             0.2,
             "#de77ae"
            ],
            [
             0.3,
             "#f1b6da"
            ],
            [
             0.4,
             "#fde0ef"
            ],
            [
             0.5,
             "#f7f7f7"
            ],
            [
             0.6,
             "#e6f5d0"
            ],
            [
             0.7,
             "#b8e186"
            ],
            [
             0.8,
             "#7fbc41"
            ],
            [
             0.9,
             "#4d9221"
            ],
            [
             1,
             "#276419"
            ]
           ],
           "sequential": [
            [
             0,
             "#0d0887"
            ],
            [
             0.1111111111111111,
             "#46039f"
            ],
            [
             0.2222222222222222,
             "#7201a8"
            ],
            [
             0.3333333333333333,
             "#9c179e"
            ],
            [
             0.4444444444444444,
             "#bd3786"
            ],
            [
             0.5555555555555556,
             "#d8576b"
            ],
            [
             0.6666666666666666,
             "#ed7953"
            ],
            [
             0.7777777777777778,
             "#fb9f3a"
            ],
            [
             0.8888888888888888,
             "#fdca26"
            ],
            [
             1,
             "#f0f921"
            ]
           ],
           "sequentialminus": [
            [
             0,
             "#0d0887"
            ],
            [
             0.1111111111111111,
             "#46039f"
            ],
            [
             0.2222222222222222,
             "#7201a8"
            ],
            [
             0.3333333333333333,
             "#9c179e"
            ],
            [
             0.4444444444444444,
             "#bd3786"
            ],
            [
             0.5555555555555556,
             "#d8576b"
            ],
            [
             0.6666666666666666,
             "#ed7953"
            ],
            [
             0.7777777777777778,
             "#fb9f3a"
            ],
            [
             0.8888888888888888,
             "#fdca26"
            ],
            [
             1,
             "#f0f921"
            ]
           ]
          },
          "colorway": [
           "#636efa",
           "#EF553B",
           "#00cc96",
           "#ab63fa",
           "#FFA15A",
           "#19d3f3",
           "#FF6692",
           "#B6E880",
           "#FF97FF",
           "#FECB52"
          ],
          "font": {
           "color": "#2a3f5f"
          },
          "geo": {
           "bgcolor": "white",
           "lakecolor": "white",
           "landcolor": "#E5ECF6",
           "showlakes": true,
           "showland": true,
           "subunitcolor": "white"
          },
          "hoverlabel": {
           "align": "left"
          },
          "hovermode": "closest",
          "mapbox": {
           "style": "light"
          },
          "paper_bgcolor": "white",
          "plot_bgcolor": "#E5ECF6",
          "polar": {
           "angularaxis": {
            "gridcolor": "white",
            "linecolor": "white",
            "ticks": ""
           },
           "bgcolor": "#E5ECF6",
           "radialaxis": {
            "gridcolor": "white",
            "linecolor": "white",
            "ticks": ""
           }
          },
          "scene": {
           "xaxis": {
            "backgroundcolor": "#E5ECF6",
            "gridcolor": "white",
            "gridwidth": 2,
            "linecolor": "white",
            "showbackground": true,
            "ticks": "",
            "zerolinecolor": "white"
           },
           "yaxis": {
            "backgroundcolor": "#E5ECF6",
            "gridcolor": "white",
            "gridwidth": 2,
            "linecolor": "white",
            "showbackground": true,
            "ticks": "",
            "zerolinecolor": "white"
           },
           "zaxis": {
            "backgroundcolor": "#E5ECF6",
            "gridcolor": "white",
            "gridwidth": 2,
            "linecolor": "white",
            "showbackground": true,
            "ticks": "",
            "zerolinecolor": "white"
           }
          },
          "shapedefaults": {
           "line": {
            "color": "#2a3f5f"
           }
          },
          "ternary": {
           "aaxis": {
            "gridcolor": "white",
            "linecolor": "white",
            "ticks": ""
           },
           "baxis": {
            "gridcolor": "white",
            "linecolor": "white",
            "ticks": ""
           },
           "bgcolor": "#E5ECF6",
           "caxis": {
            "gridcolor": "white",
            "linecolor": "white",
            "ticks": ""
           }
          },
          "title": {
           "x": 0.05
          },
          "xaxis": {
           "automargin": true,
           "gridcolor": "white",
           "linecolor": "white",
           "ticks": "",
           "title": {
            "standoff": 15
           },
           "zerolinecolor": "white",
           "zerolinewidth": 2
          },
          "yaxis": {
           "automargin": true,
           "gridcolor": "white",
           "linecolor": "white",
           "ticks": "",
           "title": {
            "standoff": 15
           },
           "zerolinecolor": "white",
           "zerolinewidth": 2
          }
         }
        },
        "title": {
         "text": "Tangent Points and Sphere Mesh"
        },
        "width": 700
       }
      }
     },
     "metadata": {},
     "output_type": "display_data"
    }
   ],
   "source": [
    "# Sphere mesh\n",
    "theta, phi = np.mgrid[0:2*np.pi:50j, 0:np.pi:25j]\n",
    "xs = np.cos(theta)*np.sin(phi)\n",
    "ys = np.sin(theta)*np.sin(phi)\n",
    "zs = np.cos(phi)\n",
    "\n",
    "tangent_points = tangent_vectors + x\n",
    "\n",
    "fig = go.Figure()\n",
    "\n",
    "# Sphere surface\n",
    "fig.add_trace(go.Surface(x=xs, y=ys, z=zs, opacity=0.3, colorscale='Viridis', showscale=False))\n",
    "\n",
    "# Projected points\n",
    "fig.add_trace(go.Scatter3d(x=tangent_points[:,0], y=tangent_points[:,1], z=tangent_points[:,2],\n",
    "                           mode='markers', marker=dict(size=3, color='red'), name='Tangent Points'))\n",
    "\n",
    "# Base point\n",
    "fig.add_trace(go.Scatter3d(x=[x[0]], y=[x[1]], z=[x[2]],\n",
    "                           mode='markers', marker=dict(size=8, color='black'), name='Base Point'))\n",
    "\n",
    "fig.update_layout(\n",
    "    scene=dict(\n",
    "        aspectmode='data',\n",
    "    ),\n",
    "    width=700, \n",
    "    height=700,\n",
    "    title='Tangent Points and Sphere Mesh'\n",
    ")\n",
    "\n",
    "fig.show()"
   ]
  },
  {
   "cell_type": "code",
   "execution_count": 54,
   "metadata": {},
   "outputs": [
    {
     "data": {
      "application/vnd.plotly.v1+json": {
       "config": {
        "plotlyServerURL": "https://plot.ly"
       },
       "data": [
        {
         "colorscale": [
          [
           0,
           "#440154"
          ],
          [
           0.1111111111111111,
           "#482878"
          ],
          [
           0.2222222222222222,
           "#3e4989"
          ],
          [
           0.3333333333333333,
           "#31688e"
          ],
          [
           0.4444444444444444,
           "#26828e"
          ],
          [
           0.5555555555555556,
           "#1f9e89"
          ],
          [
           0.6666666666666666,
           "#35b779"
          ],
          [
           0.7777777777777778,
           "#6ece58"
          ],
          [
           0.8888888888888888,
           "#b5de2b"
          ],
          [
           1,
           "#fde725"
          ]
         ],
         "opacity": 0.3,
         "showscale": false,
         "type": "surface",
         "x": {
          "bdata": "AAAAAAAAAADQom0PFbXAP5AGk8F9kNA/Y6mupuJ92D/////////fP+kTlT/5euM/zDt/Zp6g5j+SJFeLJmPpP6pMWOh6tus/Ro0yz2uQ7T8Uv0hH3ejuP5to7JLque8/AAAAAAAA8D+caOyS6rnvPxW/SEfd6O4/R40yz2uQ7T+rTFjoerbrP5QkV4smY+k/zTt/Zp6g5j/sE5U/+XrjPwMAAAAAAOA/ZamupuJ92D+VBpPBfZDQP9+ibQ8VtcA/B1wUMyamoTwAAAAAAAAAAKxRy6z3kcA/0HK7Rq1t0D+8EQnhaErYP+zYO2m+vN8/RtEl2AdS4z9JR/u5D3HmPxu4oOnKLek/LezGCTx86z+GjNPUSFLtP7EAWV3mp+4/JVqqSDx37z/t2DtpvrzvPyZaqkg8d+8/sgBZXean7j+HjNPUSFLtPy7sxgk8fOs/Hbig6cot6T9KR/u5D3HmP0nRJdgHUuM/89g7ab683z++EQnhaErYP9Vyu0atbdA/u1HLrPeRwD9fz3QmDoGhPAAAAAAAAAAAo6jjHzMpwD+kHu4tzgXQP9CvB/HTsNc//+xKWxT03j+TrI+839fiP76P1Zwr4+U/wqjtTpiO6D8gCxtEdM7qP+uS5hblmOw/EJ/MsxLm7T98hBO1SbDuPwDtSlsU9O4/fYQTtUmw7j8Rn8yzEubtP+yS5hblmOw/IQsbRHTO6j/EqO1OmI7oP7+P1Zwr4+U/lqyPvN/X4j8G7UpbFPTeP9KvB/HTsNc/qR7uLc4F0D+xqOMfMynAPwFBWu1hEqE8AAAAAAAAAACJynya//i+Pyb/Xy4qtc4/kcfra6mz1j8HTN1UTandPzQsiGmCDuI/nd/vf0b55D/pcr/rK4jnP55/QRT+r+k/OgwP30tn6z9m34cLkabsP/0Pfh9XaO0/CEzdVE2p7T/+D34fV2jtP2ffhwuRpuw/OwwP30tn6z+ff0EU/q/pP+tyv+sriOc/nt/vf0b55D83LIhpgg7iPw5M3VRNqd0/ksfra6mz1j8v/18uKrXOP6XKfJr/+L4/glOivvJboDwAAAAAAAAAAHrjck9nHb0/61DrfqPdzD/wCJGBEVfVPz9MU8PX4ds/b5BPTz754D9+9YGRN7fjP1GEttnUHuY/6xZun40l6D/A4KTDgcLpP7jJPHGg7uo/5xQYEMek6z9ATFPD1+HrP+gUGBDHpOs/uck8caDu6j/B4KTDgcLpP+wWbp+NJeg/U4S22dQe5j9+9YGRN7fjP3KQT08++eA/RUxTw9fh2z/xCJGBEVfVP/RQ636j3cw/lONyT2cdvT+My3bvfsGePAAAAAAAAAAAugAAimzHuj9ZN2texozKP8i5GoPFoNM/srwPLi6l2T/l7FnXQTnfP4aeSZhIIuI/y/ms/oFY5D/SonftnDXmP+L57I9vsec/XWzkL3rF6D9XUzqtA23pP7O8Dy4upek/WFM6rQNt6T9dbOQvesXoP+P57I9vsec/06J37Zw15j/M+az+gVjkP4eeSZhIIuI/6uxZ10E53z+4vA8uLqXZP8q5GoPFoNM/YTdrXsaMyj/SAACKbMe6P1duOwrQSZw8AAAAAAAAAABxZ4zn4AC4PzGcLOlOzMc/Cil50/eX0T8YubjGt/zWP5Xii03H/Ns/xu/suB9B4D+0rwEcqTziP9deSq9Q6OM/ojzzOMU85T/SFjhzMzTmP9CFgpBfyuY/Gbm4xrf85j/RhYKQX8rmP9MWOHMzNOY/ojzzOMU85T/XXkqvUOjjP7WvARypPOI/x+/suB9B4D+Z4otNx/zbPx25uMa3/NY/DCl50/eX0T84nCzpTszHP4dnjOfgALg/CENpFzhbmTwAAAAAAAAAAK8DjzFv1bQ/Rd49W86nxD/Cu9VNa4rOP9Hti+Kg89M/G4qGhqdK2D9zZf4FRzfcP3mv0+VOqN8/aUjhA1ZH4T8yuBtZ1W7iP0uqzhmXReM//rO4lu7H4z/S7YvioPPjP/+zuJbux+M/S6rOGZdF4z8zuBtZ1W7iP2lI4QNWR+E/fK/T5U6o3z90Zf4FRzfcPx6KhoanStg/1u2L4qDz0z/Fu9VNa4rOP0zePVvOp8Q/wQOPMW/VtD+cJjM4CgKWPAAAAAAAAAAA1AOOUmpSsT/zUdhweizBPwgyRyGGZMk/xkLsAqyW0D9Ym8+NazLUP9IlSXazddc/sBQzAzlS2j/J0FOXc7vcP6WV1pfTpt4/ZqdaV/gF4D8umjlPV3LgP8dC7AKsluA/L5o5T1dy4D9mp1pX+AXgP6aV1pfTpt4/ytBTl3O73D+yFDMDOVLaP9MlSXazddc/W5vPjWsy1D/KQuwCrJbQPwsyRyGGZMk/+FHYcHoswT/kA45SalKxPyNBh5ZZTJI8AAAAAAAAAAB9wpSoKg2rP1iVar7r0bo/FbBm6+PTwz9URytl+OfJP6s3I0+Tis8/wnXc24JR0j8A8cfrfo3UP+QwmGp0b9Y/UInaQCTv1z8YG3fL/QXZP+DzRJ07r9k/VUcrZfjn2T/h80SdO6/ZPxkbd8v9Bdk/UYnaQCTv1z/kMJhqdG/WPwLxx+t+jdQ/w3Xc24JR0j+vNyNPk4rPP1pHK2X458k/FrBm6+PTwz9glWq+69G6P5bClKgqDas/z+s5dnyTjDwAAAAAAAAAAD8uB6XKA6M/xaNwniXasj/27fFG0t+7P0T32DGzNcI/EpCf7bkrxj+Qfm2ro8DJP5e5xiDA5Mw/RKZaHE2Kzz+UQgRl2dLQPzroUj3bltE/h0OMiNEN0j9F99gxszXSP4dDjIjRDdI/OuhSPduW0T+UQgRl2dLQP0amWhxNis8/mrnGIMDkzD+Sfm2ro8DJPxWQn+25K8Y/SPfYMbM1wj/47fFG0t+7P8ujcJ4l2rI/UC4HpcoDoz8un8cBJxaEPAAAAAAAAAAAoUmlnPlUlT+mTyRyQSalP2syPmViRa8/yoPO9MRttD8mlPcdXd+4PxIzA8EC5Lw/4wnlEw41wD/SrZH1HLHBPxezeUet38I/cq0KvZG7wz+uVksoB0HEP8uDzvTEbcQ/r1ZLKAdBxD9zrQq9kbvDPxizeUet38I/062R9RyxwT/kCeUTDjXAPxMzA8EC5Lw/KpT3HV3fuD/Pg870xG20P20yPmViRa8/rE8kckEmpT+0SaWc+VSVP4zycuXEiHY8AAAAAAAAAACDNBCfyiJxP8VIlgpD/YA/rgEcALYeiT/vMul6EGmQPygv5VPk+pM/HchwxDM1lz9kJnZe2wmaPz1LS/p0bJw/hDM6Bo5Snj+A7LtJ1bOfPwCY+akfRaA/8DLpehBpoD8AmPmpH0WgP4Hsu0nVs58/hTM6Bo5Snj8+S0v6dGycP2Ymdl7bCZo/HshwxDM1lz8rL+VT5PqTP/My6XoQaZA/sAEcALYeiT/LSJYKQ/2AP5I0EJ/KInE/ueN9uwoaUjwAAAAAAAAAgJUb35Esq4m/6/yL8PRymb/2HhZKbdCiv2C77wv3lKi/zfLbKdTtrb8F27BZzGGxv2+Yj3mLgLO/uNqPGd5Jtb/ie8sL8bW2v0Da05WJvre/4gj5uSBfuL9hu+8L95S4v+MI+bkgX7i/QdrTlYm+t7/je8sL8bW2v7najxneSbW/cZiPeYuAs78G27BZzGGxv9Ly2ynU7a2/ZrvvC/eUqL/3HhZKbdCiv/P8i/D0cpm/rBvfkSyrib+3ZQ+wih1rvAAAAAAAAACAmnyvN+y9nb8XhvHYyHytv4IuRBW5zLW/f0UC45B7vL+pLkL50lbBv3MZ123qI8S/v3BayMmYxr+B23ttrqrIv1JgUE+HUMq/+XoTpByDy7/qReSDLz3Mv4BFAuOQe8y/60Xkgy89zL/5ehOkHIPLv1NgUE+HUMq/gtt7ba6qyL/AcFrIyZjGv3QZ123qI8S/rC5C+dJWwb+FRQLjkHu8v4MuRBW5zLW/IIbx2Mh8rb+1fK837L2dv6rYy/APa3+8AAAAAAAAAIBKurp2nhSnv7Sm4ucR4ra/reiscMzqwL/97XoHdhrGvwf7fUBO6cq/e9N5uUVCz78FeaqyKInRv+wV+fpeJNO/TtCBgbxr1L9qk7VWp1nVv9txlVgN6tW//u16B3Ya1r/bcZVYDerVv2uTtVanWdW/T9CBgbxr1L/sFfn6XiTTvwZ5qrIoidG/fNN5uUVCz78L+31ATunKvwLuegd2Gsa/ruiscMzqwL+7puLnEeK2v1+6unaeFKe/dALptaRhiLwAAAAAAAAAgHiDzNxB6a6/HdZI6o6lvr8TuljFH6jGv2zbbjM6ms2/Q1RUH1UF0r8DDK6une7Uv2phSUQ2fNe/u8hX+e+i2b/Z8eJ/Xlnbv4tBQGkBmNy/TbEAAmVZ3b9t224zOprdv06xAAJlWd2/jEFAaQGY3L/a8eJ/Xlnbv7zIV/nvotm/bGFJRDZ8178EDK6une7Uv0ZUVB9VBdK/c9tuMzqazb8VuljFH6jGvyfWSOqOpb6/lIPM3EHprr8Ac6NPolOQvAAAAAAAAACAczIY5Pods7/9xG6CHPTCv4EpezQ2Bsy/PRYXmcdO0r9Av33qQkrWv2R7tX0b5Nm/aXnBbIsM3b+kolGTvbXfvwPD4xIF6uC/8W523xSv4b8Bql0Crybivz4WF5nHTuK/AapdAq8m4r/ybnbfFK/hvwPD4xIF6uC/paJRk721379recFsiwzdv2V7tX0b5Nm/RL996kJK1r9BFheZx07Sv4MpezQ2Bsy/A8Vughz0wr+EMhjk+h2zv75KCR/RMZS8AAAAAAAAAIAoUUDx+Ha2v0M1CqbFRca/pOmp3z930L8rzxcofYPVv5Prt11+Mdq/2Oj29sNs3r/YAFl8YhHhv5jvKROgoeK//QqBmkHg47+9Af5k08fkv5zqsB5fVOW/LM8XKH2D5b+d6rAeX1Tlv70B/mTTx+S//gqBmkHg47+Y7ykToKHiv9kAWXxiEeG/2ej29sNs3r+X67ddfjHavzDPFyh9g9W/pemp3z930L9KNQqmxUXGvzxRQPH4dra/ZgERihy7l7wAAAAAAAAAgFgY9LSIcbm/MT6sUM85yb+NVgLKLabSv+W8G+rDXdi/DirnL5+q3b+csoghxDrhvys9dH7AVOO/StowLhAa5b82wBKV8YLmvyjCs/U3iee/TcD0fGYo6L/mvBvqw13ov07A9HxmKOi/KcKz9TeJ5783wBKV8YLmv0vaMC4QGuW/LT10fsBU47+csoghxDrhvxIq5y+fqt2/67wb6sNd2L+OVgLKLabSvzk+rFDPOcm/bhj0tIhxub9ThtUlp+CavAAAAAAAAACAsnM2vyQBvL/DBJ9+z8PLv39GyGG3htS/kqo1JZ7R2r9962X1hVPgv3OTMpG59uK/+GYIXNxG5b9Ekr2kzDnnv2417/MAx+i/o1TacK3n6b+8Dkqm4Zbqv5OqNSWe0eq/vQ5KpuGW6r+kVNpwrefpv2817/MAx+i/RZK9pMw557/6Zghc3Eblv3OTMpG59uK/f+tl9YVT4L+YqjUlntHav4BGyGG3htS/zASffs/Dy7/Lcza/JAG8v8PywNc2lZ28AAAAAAAAAIBWxxAzCRu+v02DlOYZ2c2/8SbxtPgQ1r9vXMupvNTcv1ZDvaQbjeG/QQrJGvhi5L/UzX5GiN/mv9x3rtzn9+i/v+bgbOmi6r8VK26UPtnrv8/WNf+Xley/cFzLqbzU7L/Q1jX/l5XsvxYrbpQ+2eu/wObgbOmi6r/dd67c5/fov9bNfkaI3+a/QgrJGvhi5L9ZQ72kG43hv3Vcy6m81Ny/8ybxtPgQ1r9Wg5TmGdnNv3HHEDMJG76/dowUb2zNn7wAAAAAAAAAgEta4QZhtr+/AfzZ1uxwz78QVcSBeD7Xv8W7byiqXt6/zGawfep84r8/pkWjhHnlv5hbrGIOGOi/0BpPnw5N6r/hhoiD2g7svz8l/Ni/Ve2/VZGSviYc7r/Gu28oql7uv1aRkr4mHO6/QCX82L9V7b/ihoiD2g7sv9EaT58OTeq/mlusYg4Y6L9ApkWjhHnlv89msH3qfOK/zLtvKKpe3r8SVcSBeD7Xvwr82dbscM+/aFrhBmG2v78WYRG5+b+gvAAAAAAAAACANS5UkjVmwL9JvSoCS0LQvxTuJ21DCti/57XLv+5o37892wZ3Ah/jv8M2UUjMNea/WV7Z/Uzr6L8OYtTjpjPrv+dpbmLaBO2/aJVmyfFW7r9H0potJCTvv+i1y7/uaO+/SNKaLSQk779plWbJ8Vbuv+hpbmLaBO2/D2LU46Yz679bXtn9TOvov8Q2UUjMNea/QNsGdwIf47/utcu/7mjfvxbuJ21DCti/Tr0qAktC0L9ELlSSNWbAv5DlJavUUqG8AAAAAAAAAID0CSJnS6zAv8vdSVjHh9C/4ZP50QBx2L9rzyEtK+/fv7694zO6cOO//mgXmreU5r+GKucfzFXpv5/qV1vnp+u/A62v+d6A7b/jVzxGm9juv6+H4Jw6qe+/bM8hLSvv77+wh+CcOqnvv+RXPEab2O6/BK2v+d6A7b+g6ldb56frv4gq5x/MVem//2gXmreU5r/BveMzunDjv3LPIS0r79+/45P50QBx2L/Q3UlYx4fQvwMKImdLrMC/T9nwvt2cobwAAAAAAAAAgPQJImdLrMC/y91JWMeH0L/hk/nRAHHYv2vPIS0r79+/vr3jM7pw47/+aBeat5Tmv4Yq5x/MVem/n+pXW+en678Dra/53oDtv+NXPEab2O6/r4fgnDqp779szyEtK+/vv7CH4Jw6qe+/5Fc8RpvY7r8Era/53oDtv6DqV1vnp+u/iCrnH8xV6b//aBeat5Tmv8G94zO6cOO/cs8hLSvv37/jk/nRAHHYv9DdSVjHh9C/AwoiZ0uswL9P2fC+3ZyhvAAAAAAAAACANi5UkjVmwL9JvSoCS0LQvxXuJ21DCti/6LXLv+5o37892wZ3Ah/jv8Q2UUjMNea/Wl7Z/Uzr6L8PYtTjpjPrv+hpbmLaBO2/aZVmyfFW7r9I0potJCTvv+m1y7/uaO+/SdKaLSQk779qlWbJ8Vbuv+lpbmLaBO2/EGLU46Yz679cXtn9TOvov8U2UUjMNea/QNsGdwIf47/vtcu/7mjfvxbuJ21DCti/Tr0qAktC0L9ELlSSNWbAv5HlJavUUqG8AAAAAAAAAIBNWuEGYba/vwP82dbscM+/ElXEgXg+17/Hu28oql7ev81msH3qfOK/QKZFo4R55b+ZW6xiDhjov9IaT58OTeq/44aIg9oO7L9BJfzYv1Xtv1eRkr4mHO6/yLtvKKpe7r9YkZK+Jhzuv0Il/Ni/Ve2/5IaIg9oO7L/TGk+fDk3qv5tbrGIOGOi/QaZFo4R55b/QZrB96nziv867byiqXt6/E1XEgXg+178M/NnW7HDPv2pa4QZhtr+/F2ERufm/oLwAAAAAAAAAgFfHEDMJG76/ToOU5hnZzb/xJvG0+BDWv3Bcy6m81Ny/V0O9pBuN4b9CCska+GLkv9XNfkaI3+a/3Xeu3Of36L/A5uBs6aLqvxYrbpQ+2eu/0NY1/5eV7L9xXMupvNTsv9HWNf+Xley/FytulD7Z67/B5uBs6aLqv953rtzn9+i/181+Rojf5r9DCska+GLkv1pDvaQbjeG/dlzLqbzU3L/zJvG0+BDWv1eDlOYZ2c2/cscQMwkbvr93jBRvbM2fvAAAAAAAAACAt3M2vyQBvL/HBJ9+z8PLv4JGyGG3htS/lqo1JZ7R2r9/62X1hVPgv3WTMpG59uK/+2YIXNxG5b9Hkr2kzDnnv3I17/MAx+i/p1TacK3n6b/ADkqm4Zbqv5eqNSWe0eq/wQ5KpuGW6r+oVNpwrefpv3M17/MAx+i/SJK9pMw557/9Zghc3Eblv3aTMpG59uK/getl9YVT4L+cqjUlntHav4NGyGG3htS/0ASffs/Dy7/Qcza/JAG8v8fywNc2lZ28AAAAAAAAAIBcGPS0iHG5vzU+rFDPOcm/kFYCyi2m0r/pvBvqw13YvxIq5y+fqt2/nrKIIcQ64b8uPXR+wFTjv07aMC4QGuW/OsASlfGC5r8swrP1N4nnv1HA9HxmKOi/6rwb6sNd6L9SwPR8ZijovyzCs/U3iee/O8ASlfGC5r9P2jAuEBrlvzA9dH7AVOO/n7KIIcQ64b8XKucvn6rdv++8G+rDXdi/kVYCyi2m0r89PqxQzznJv3MY9LSIcbm/V4bVJafgmrwAAAAAAAAAgCxRQPH4dra/RzUKpsVFxr+n6anfP3fQvy/PFyh9g9W/mOu3XX4x2r/d6Pb2w2zev9sAWXxiEeG/m+8pE6Ch4r8BC4GaQeDjv8AB/mTTx+S/oOqwHl9U5b8wzxcofYPlv6HqsB5fVOW/wQH+ZNPH5L8BC4GaQeDjv5zvKROgoeK/3QBZfGIR4b/f6Pb2w2zev5zrt11+Mdq/NM8XKH2D1b+o6anfP3fQv041CqbFRca/QFFA8fh2tr9rARGKHLuXvAAAAAAAAACAeDIY5Pods78CxW6CHPTCv4kpezQ2Bsy/QhYXmcdO0r9Gv33qQkrWv2t7tX0b5Nm/cXnBbIsM3b+tolGTvbXfvwfD4xIF6uC/9m523xSv4b8Gql0Crybiv0MWF5nHTuK/BqpdAq8m4r/3bnbfFK/hvwjD4xIF6uC/rqJRk721379zecFsiwzdv2x7tX0b5Nm/Sr996kJK1r9GFheZx07Sv4spezQ2Bsy/CMVughz0wr+JMhjk+h2zv8NKCR/RMZS8AAAAAAAAAIB8g8zcQemuvyHWSOqOpb6/FrpYxR+oxr9w224zOprNv0ZUVB9VBdK/Bgyurp3u1L9tYUlENnzXv7/IV/nvotm/3fHif15Z27+PQUBpAZjcv1GxAAJlWd2/cdtuMzqa3b9SsQACZVndv5BBQGkBmNy/3fHif15Z27+/yFf576LZv29hSUQ2fNe/Bwyurp3u1L9IVFQfVQXSv3fbbjM6ms2/GLpYxR+oxr8r1kjqjqW+v5iDzNxB6a6/AnOjT6JTkLwAAAAAAAAAgFe6unaeFKe/wKbi5xHitr+26KxwzOrAvwnuegd2Gsa/Fvt9QE7pyr+M03m5RULPvw55qrIoidG/9hX5+l4k079Z0IGBvGvUv3aTtVanWdW/5nGVWA3q1b8K7noHdhrWv+dxlVgN6tW/d5O1VqdZ1b9a0IGBvGvUv/cV+fpeJNO/EHmqsiiJ0b+N03m5RULPvxr7fUBO6cq/Du56B3Yaxr+46KxwzOrAv8em4ucR4ra/a7q6dp4Up7+BAum1pGGIvAAAAAAAAACApHyvN+y9nb8hhvHYyHytv4kuRBW5zLW/iEUC45B7vL+uLkL50lbBv3kZ123qI8S/xnBayMmYxr+J23ttrqrIv1pgUE+HUMq/AXsTpByDy7/zReSDLz3Mv4lFAuOQe8y/9EXkgy89zL8CexOkHIPLv1tgUE+HUMq/itt7ba6qyL/IcFrIyZjGv3oZ123qI8S/sS5C+dJWwb+ORQLjkHu8v4ouRBW5zLW/Kobx2Mh8rb+/fK837L2dv7TYy/APa3+8AAAAAAAAAIDZG9+RLKuJvy79i/D0cpm/KB8WSm3Qor+hu+8L95Sovxzz2ynU7a2/M9uwWcxhsb+jmI95i4Czv/DajxneSbW/HnzLC/G1tr9/2tOVib63vyIJ+bkgX7i/orvvC/eUuL8jCfm5IF+4v3/a05WJvre/H3zLC/G1tr/x2o8Z3km1v6WYj3mLgLO/NNuwWcxhsb8h89sp1O2tv6e77wv3lKi/KR8WSm3Qor82/Yvw9HKZv/Ab35Esq4m//mUPsIoda7wAAAAAAAAAADw0EJ/KInE/f0iWCkP9gD9FARwAth6JP6sy6XoQaZA/1S7lU+T6kz+9x3DEMzWXP/gldl7bCZo/x0pL+nRsnD8HMzoGjlKeP/3ru0nVs58/vJf5qR9FoD+sMul6EGmgP72X+akfRaA//uu7SdWznz8IMzoGjlKeP8hKS/p0bJw/+iV2XtsJmj++x3DEMzWXP9gu5VPk+pM/rzLpehBpkD9IARwAth6JP4RIlgpD/YA/SzQQn8oicT9u4327ChpSPAAAAAAAAAAAf0mlnPlUlT+ETyRyQSalPzgyPmViRa8/qYPO9MRttD/+k/cdXd+4P+MyA8EC5Lw/yQnlEw41wD+1rZH1HLHBP/myeUet38I/Uq0KvZG7wz+NVksoB0HEP6qDzvTEbcQ/jlZLKAdBxD9TrQq9kbvDP/myeUet38I/tq2R9RyxwT/KCeUTDjXAP+QyA8EC5Lw/AZT3HV3fuD+ug870xG20PzsyPmViRa8/ik8kckEmpT+SSaWc+VSVP2jycuXEiHY8AAAAAAAAAAAyLgelygOjP7mjcJ4l2rI/4+3xRtLfuz8499gxszXCPwOQn+25K8Y/f35tq6PAyT+EucYgwOTMPzCmWhxNis8/iUIEZdnS0D8u6FI925bRP3tDjIjRDdI/OffYMbM10j97Q4yI0Q3SPy7oUj3bltE/iUIEZdnS0D8xplocTYrPP4e5xiDA5Mw/gX5tq6PAyT8HkJ/tuSvGPzz32DGzNcI/5u3xRtLfuz++o3CeJdqyP0MuB6XKA6M/IJ/HAScWhDwAAAAAAAAAAGnClKgqDas/RJVqvuvRuj8GsGbr49PDP0FHK2X458k/kzcjT5OKzz+0ddzbglHSP/Hwx+t+jdQ/0zCYanRv1j8/idpAJO/XPwYbd8v9Bdk/zfNEnTuv2T9CRytl+OfZP87zRJ07r9k/Bht3y/0F2T8/idpAJO/XP9QwmGp0b9Y/8/DH636N1D+1ddzbglHSP5g3I0+Tis8/R0crZfjnyT8IsGbr49PDP0yVar7r0bo/gsKUqCoNqz+66zl2fJOMPAAAAAAAAAAAzgOOUmpSsT/tUdhweizBP/8xRyGGZMk/wELsAqyW0D9Rm8+NazLUP8klSXazddc/pxQzAzlS2j+/0FOXc7vcP5qV1pfTpt4/YKdaV/gF4D8pmjlPV3LgP8FC7AKsluA/KZo5T1dy4D9gp1pX+AXgP5uV1pfTpt4/wNBTl3O73D+pFDMDOVLaP8olSXazddc/VJvPjWsy1D/EQuwCrJbQPwEyRyGGZMk/8lHYcHoswT/eA45SalKxPx1Bh5ZZTJI8AAAAAAAAAACsA48xb9W0P0PePVvOp8Q/v7vVTWuKzj/P7YvioPPTPxiKhoanStg/cGX+BUc33D92r9PlTqjfP2dI4QNWR+E/MbgbWdVu4j9Jqs4Zl0XjP/yzuJbux+M/0O2L4qDz4z/9s7iW7sfjP0mqzhmXReM/MbgbWdVu4j9oSOEDVkfhP3iv0+VOqN8/cWX+BUc33D8cioaGp0rYP9Tti+Kg89M/wrvVTWuKzj9K3j1bzqfEP78DjzFv1bQ/mSYzOAoCljwAAAAAAAAAAGtnjOfgALg/K5ws6U7Mxz8GKXnT95fRPxK5uMa3/NY/jeKLTcf82z/C7+y4H0HgP6+vARypPOI/0V5Kr1Do4z+cPPM4xTzlP80WOHMzNOY/yoWCkF/K5j8TubjGt/zmP8uFgpBfyuY/zRY4czM05j+dPPM4xTzlP9JeSq9Q6OM/sK8BHKk84j/D7+y4H0HgP5Lii03H/Ns/F7m4xrf81j8HKXnT95fRPzKcLOlOzMc/gWeM5+AAuD8BQ2kXOFuZPAAAAAAAAAAAuAAAimzHuj9XN2texozKP8e5GoPFoNM/sLwPLi6l2T/j7FnXQTnfP4WeSZhIIuI/yfms/oFY5D/QonftnDXmP+D57I9vsec/W2zkL3rF6D9VUzqtA23pP7G8Dy4upek/VlM6rQNt6T9bbOQvesXoP+H57I9vsec/0aJ37Zw15j/L+az+gVjkP4aeSZhIIuI/6OxZ10E53z+2vA8uLqXZP8i5GoPFoNM/XzdrXsaMyj/QAACKbMe6P1VuOwrQSZw8AAAAAAAAAAB243JPZx29P+dQ636j3cw/7QiRgRFX1T87TFPD1+HbP22QT08++eA/e/WBkTe34z9OhLbZ1B7mP+gWbp+NJeg/veCkw4HC6T+0yTxxoO7qP+MUGBDHpOs/PExTw9fh6z/kFBgQx6TrP7XJPHGg7uo/vuCkw4HC6T/pFm6fjSXoP1CEttnUHuY/fPWBkTe34z9vkE9PPvngP0FMU8PX4ds/7giRgRFX1T/wUOt+o93MP5Djck9nHb0/iMt2737BnjwAAAAAAAAAAIfKfJr/+L4/JP9fLiq1zj+Px+trqbPWPwVM3VRNqd0/MyyIaYIO4j+c3+9/RvnkP+dyv+sriOc/nX9BFP6v6T84DA/fS2frP2TfhwuRpuw/+w9+H1do7T8GTN1UTantP/wPfh9XaO0/Zd+HC5Gm7D85DA/fS2frP55/QRT+r+k/6XK/6yuI5z+c3+9/RvnkPzYsiGmCDuI/DEzdVE2p3T+Rx+trqbPWPy3/Xy4qtc4/osp8mv/4vj+BU6K+8lugPAAAAAAAAAAAoajjHzMpwD+jHu4tzgXQP86vB/HTsNc//OxKWxT03j+SrI+839fiP7yP1Zwr4+U/wKjtTpiO6D8dCxtEdM7qP+iS5hblmOw/DZ/MsxLm7T95hBO1SbDuP/3sSlsU9O4/eoQTtUmw7j8On8yzEubtP+mS5hblmOw/HgsbRHTO6j/BqO1OmI7oP72P1Zwr4+U/lKyPvN/X4j8D7UpbFPTeP9CvB/HTsNc/qB7uLc4F0D+wqOMfMynAP/9AWu1hEqE8AAAAAAAAAACsUcus95HAP9Byu0atbdA/uxEJ4WhK2D/r2DtpvrzfP0bRJdgHUuM/SEf7uQ9x5j8auKDpyi3pPyzsxgk8fOs/hYzT1EhS7T+wAFld5qfuPyRaqkg8d+8/7Ng7ab687z8lWqpIPHfvP7EAWV3mp+4/hozT1EhS7T8t7MYJPHzrPxy4oOnKLek/SUf7uQ9x5j9J0SXYB1LjP/LYO2m+vN8/vREJ4WhK2D/UcrtGrW3QP7tRy6z3kcA/Xs90Jg6BoTwAAAAAAAAAANCibQ8VtcA/kAaTwX2Q0D9jqa6m4n3YP////////98/6ROVP/l64z/MO39mnqDmP5IkV4smY+k/qkxY6Hq26z9GjTLPa5DtPxS/SEfd6O4/m2jskuq57z8AAAAAAADwP5xo7JLque8/Fb9IR93o7j9HjTLPa5DtP6tMWOh6tus/lCRXiyZj6T/NO39mnqDmP+wTlT/5euM/AwAAAAAA4D9lqa6m4n3YP5UGk8F9kNA/36JtDxW1wD8HXBQzJqahPA==",
          "dtype": "f8",
          "shape": "50, 25"
         },
         "y": {
          "bdata": "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",
          "dtype": "f8",
          "shape": "50, 25"
         },
         "z": {
          "bdata": "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",
          "dtype": "f8",
          "shape": "50, 25"
         }
        },
        {
         "marker": {
          "color": "red",
          "size": 3
         },
         "mode": "markers",
         "name": "Projected Points",
         "type": "scatter3d",
         "x": {
          "bdata": "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",
          "dtype": "f8"
         },
         "y": {
          "bdata": "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",
          "dtype": "f8"
         },
         "z": {
          "bdata": "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",
          "dtype": "f8"
         }
        },
        {
         "marker": {
          "color": "black",
          "size": 8
         },
         "mode": "markers",
         "name": "Base Point",
         "type": "scatter3d",
         "x": [
          0.6099439521131674
         ],
         "y": [
          -0.7546406811857134
         ],
         "z": [
          -0.24183841212704937
         ]
        }
       ],
       "layout": {
        "height": 700,
        "scene": {
         "aspectmode": "cube"
        },
        "template": {
         "data": {
          "bar": [
           {
            "error_x": {
             "color": "#2a3f5f"
            },
            "error_y": {
             "color": "#2a3f5f"
            },
            "marker": {
             "line": {
              "color": "#E5ECF6",
              "width": 0.5
             },
             "pattern": {
              "fillmode": "overlay",
              "size": 10,
              "solidity": 0.2
             }
            },
            "type": "bar"
           }
          ],
          "barpolar": [
           {
            "marker": {
             "line": {
              "color": "#E5ECF6",
              "width": 0.5
             },
             "pattern": {
              "fillmode": "overlay",
              "size": 10,
              "solidity": 0.2
             }
            },
            "type": "barpolar"
           }
          ],
          "carpet": [
           {
            "aaxis": {
             "endlinecolor": "#2a3f5f",
             "gridcolor": "white",
             "linecolor": "white",
             "minorgridcolor": "white",
             "startlinecolor": "#2a3f5f"
            },
            "baxis": {
             "endlinecolor": "#2a3f5f",
             "gridcolor": "white",
             "linecolor": "white",
             "minorgridcolor": "white",
             "startlinecolor": "#2a3f5f"
            },
            "type": "carpet"
           }
          ],
          "choropleth": [
           {
            "colorbar": {
             "outlinewidth": 0,
             "ticks": ""
            },
            "type": "choropleth"
           }
          ],
          "contour": [
           {
            "colorbar": {
             "outlinewidth": 0,
             "ticks": ""
            },
            "colorscale": [
             [
              0,
              "#0d0887"
             ],
             [
              0.1111111111111111,
              "#46039f"
             ],
             [
              0.2222222222222222,
              "#7201a8"
             ],
             [
              0.3333333333333333,
              "#9c179e"
             ],
             [
              0.4444444444444444,
              "#bd3786"
             ],
             [
              0.5555555555555556,
              "#d8576b"
             ],
             [
              0.6666666666666666,
              "#ed7953"
             ],
             [
              0.7777777777777778,
              "#fb9f3a"
             ],
             [
              0.8888888888888888,
              "#fdca26"
             ],
             [
              1,
              "#f0f921"
             ]
            ],
            "type": "contour"
           }
          ],
          "contourcarpet": [
           {
            "colorbar": {
             "outlinewidth": 0,
             "ticks": ""
            },
            "type": "contourcarpet"
           }
          ],
          "heatmap": [
           {
            "colorbar": {
             "outlinewidth": 0,
             "ticks": ""
            },
            "colorscale": [
             [
              0,
              "#0d0887"
             ],
             [
              0.1111111111111111,
              "#46039f"
             ],
             [
              0.2222222222222222,
              "#7201a8"
             ],
             [
              0.3333333333333333,
              "#9c179e"
             ],
             [
              0.4444444444444444,
              "#bd3786"
             ],
             [
              0.5555555555555556,
              "#d8576b"
             ],
             [
              0.6666666666666666,
              "#ed7953"
             ],
             [
              0.7777777777777778,
              "#fb9f3a"
             ],
             [
              0.8888888888888888,
              "#fdca26"
             ],
             [
              1,
              "#f0f921"
             ]
            ],
            "type": "heatmap"
           }
          ],
          "histogram": [
           {
            "marker": {
             "pattern": {
              "fillmode": "overlay",
              "size": 10,
              "solidity": 0.2
             }
            },
            "type": "histogram"
           }
          ],
          "histogram2d": [
           {
            "colorbar": {
             "outlinewidth": 0,
             "ticks": ""
            },
            "colorscale": [
             [
              0,
              "#0d0887"
             ],
             [
              0.1111111111111111,
              "#46039f"
             ],
             [
              0.2222222222222222,
              "#7201a8"
             ],
             [
              0.3333333333333333,
              "#9c179e"
             ],
             [
              0.4444444444444444,
              "#bd3786"
             ],
             [
              0.5555555555555556,
              "#d8576b"
             ],
             [
              0.6666666666666666,
              "#ed7953"
             ],
             [
              0.7777777777777778,
              "#fb9f3a"
             ],
             [
              0.8888888888888888,
              "#fdca26"
             ],
             [
              1,
              "#f0f921"
             ]
            ],
            "type": "histogram2d"
           }
          ],
          "histogram2dcontour": [
           {
            "colorbar": {
             "outlinewidth": 0,
             "ticks": ""
            },
            "colorscale": [
             [
              0,
              "#0d0887"
             ],
             [
              0.1111111111111111,
              "#46039f"
             ],
             [
              0.2222222222222222,
              "#7201a8"
             ],
             [
              0.3333333333333333,
              "#9c179e"
             ],
             [
              0.4444444444444444,
              "#bd3786"
             ],
             [
              0.5555555555555556,
              "#d8576b"
             ],
             [
              0.6666666666666666,
              "#ed7953"
             ],
             [
              0.7777777777777778,
              "#fb9f3a"
             ],
             [
              0.8888888888888888,
              "#fdca26"
             ],
             [
              1,
              "#f0f921"
             ]
            ],
            "type": "histogram2dcontour"
           }
          ],
          "mesh3d": [
           {
            "colorbar": {
             "outlinewidth": 0,
             "ticks": ""
            },
            "type": "mesh3d"
           }
          ],
          "parcoords": [
           {
            "line": {
             "colorbar": {
              "outlinewidth": 0,
              "ticks": ""
             }
            },
            "type": "parcoords"
           }
          ],
          "pie": [
           {
            "automargin": true,
            "type": "pie"
           }
          ],
          "scatter": [
           {
            "fillpattern": {
             "fillmode": "overlay",
             "size": 10,
             "solidity": 0.2
            },
            "type": "scatter"
           }
          ],
          "scatter3d": [
           {
            "line": {
             "colorbar": {
              "outlinewidth": 0,
              "ticks": ""
             }
            },
            "marker": {
             "colorbar": {
              "outlinewidth": 0,
              "ticks": ""
             }
            },
            "type": "scatter3d"
           }
          ],
          "scattercarpet": [
           {
            "marker": {
             "colorbar": {
              "outlinewidth": 0,
              "ticks": ""
             }
            },
            "type": "scattercarpet"
           }
          ],
          "scattergeo": [
           {
            "marker": {
             "colorbar": {
              "outlinewidth": 0,
              "ticks": ""
             }
            },
            "type": "scattergeo"
           }
          ],
          "scattergl": [
           {
            "marker": {
             "colorbar": {
              "outlinewidth": 0,
              "ticks": ""
             }
            },
            "type": "scattergl"
           }
          ],
          "scattermap": [
           {
            "marker": {
             "colorbar": {
              "outlinewidth": 0,
              "ticks": ""
             }
            },
            "type": "scattermap"
           }
          ],
          "scattermapbox": [
           {
            "marker": {
             "colorbar": {
              "outlinewidth": 0,
              "ticks": ""
             }
            },
            "type": "scattermapbox"
           }
          ],
          "scatterpolar": [
           {
            "marker": {
             "colorbar": {
              "outlinewidth": 0,
              "ticks": ""
             }
            },
            "type": "scatterpolar"
           }
          ],
          "scatterpolargl": [
           {
            "marker": {
             "colorbar": {
              "outlinewidth": 0,
              "ticks": ""
             }
            },
            "type": "scatterpolargl"
           }
          ],
          "scatterternary": [
           {
            "marker": {
             "colorbar": {
              "outlinewidth": 0,
              "ticks": ""
             }
            },
            "type": "scatterternary"
           }
          ],
          "surface": [
           {
            "colorbar": {
             "outlinewidth": 0,
             "ticks": ""
            },
            "colorscale": [
             [
              0,
              "#0d0887"
             ],
             [
              0.1111111111111111,
              "#46039f"
             ],
             [
              0.2222222222222222,
              "#7201a8"
             ],
             [
              0.3333333333333333,
              "#9c179e"
             ],
             [
              0.4444444444444444,
              "#bd3786"
             ],
             [
              0.5555555555555556,
              "#d8576b"
             ],
             [
              0.6666666666666666,
              "#ed7953"
             ],
             [
              0.7777777777777778,
              "#fb9f3a"
             ],
             [
              0.8888888888888888,
              "#fdca26"
             ],
             [
              1,
              "#f0f921"
             ]
            ],
            "type": "surface"
           }
          ],
          "table": [
           {
            "cells": {
             "fill": {
              "color": "#EBF0F8"
             },
             "line": {
              "color": "white"
             }
            },
            "header": {
             "fill": {
              "color": "#C8D4E3"
             },
             "line": {
              "color": "white"
             }
            },
            "type": "table"
           }
          ]
         },
         "layout": {
          "annotationdefaults": {
           "arrowcolor": "#2a3f5f",
           "arrowhead": 0,
           "arrowwidth": 1
          },
          "autotypenumbers": "strict",
          "coloraxis": {
           "colorbar": {
            "outlinewidth": 0,
            "ticks": ""
           }
          },
          "colorscale": {
           "diverging": [
            [
             0,
             "#8e0152"
            ],
            [
             0.1,
             "#c51b7d"
            ],
            [
             0.2,
             "#de77ae"
            ],
            [
             0.3,
             "#f1b6da"
            ],
            [
             0.4,
             "#fde0ef"
            ],
            [
             0.5,
             "#f7f7f7"
            ],
            [
             0.6,
             "#e6f5d0"
            ],
            [
             0.7,
             "#b8e186"
            ],
            [
             0.8,
             "#7fbc41"
            ],
            [
             0.9,
             "#4d9221"
            ],
            [
             1,
             "#276419"
            ]
           ],
           "sequential": [
            [
             0,
             "#0d0887"
            ],
            [
             0.1111111111111111,
             "#46039f"
            ],
            [
             0.2222222222222222,
             "#7201a8"
            ],
            [
             0.3333333333333333,
             "#9c179e"
            ],
            [
             0.4444444444444444,
             "#bd3786"
            ],
            [
             0.5555555555555556,
             "#d8576b"
            ],
            [
             0.6666666666666666,
             "#ed7953"
            ],
            [
             0.7777777777777778,
             "#fb9f3a"
            ],
            [
             0.8888888888888888,
             "#fdca26"
            ],
            [
             1,
             "#f0f921"
            ]
           ],
           "sequentialminus": [
            [
             0,
             "#0d0887"
            ],
            [
             0.1111111111111111,
             "#46039f"
            ],
            [
             0.2222222222222222,
             "#7201a8"
            ],
            [
             0.3333333333333333,
             "#9c179e"
            ],
            [
             0.4444444444444444,
             "#bd3786"
            ],
            [
             0.5555555555555556,
             "#d8576b"
            ],
            [
             0.6666666666666666,
             "#ed7953"
            ],
            [
             0.7777777777777778,
             "#fb9f3a"
            ],
            [
             0.8888888888888888,
             "#fdca26"
            ],
            [
             1,
             "#f0f921"
            ]
           ]
          },
          "colorway": [
           "#636efa",
           "#EF553B",
           "#00cc96",
           "#ab63fa",
           "#FFA15A",
           "#19d3f3",
           "#FF6692",
           "#B6E880",
           "#FF97FF",
           "#FECB52"
          ],
          "font": {
           "color": "#2a3f5f"
          },
          "geo": {
           "bgcolor": "white",
           "lakecolor": "white",
           "landcolor": "#E5ECF6",
           "showlakes": true,
           "showland": true,
           "subunitcolor": "white"
          },
          "hoverlabel": {
           "align": "left"
          },
          "hovermode": "closest",
          "mapbox": {
           "style": "light"
          },
          "paper_bgcolor": "white",
          "plot_bgcolor": "#E5ECF6",
          "polar": {
           "angularaxis": {
            "gridcolor": "white",
            "linecolor": "white",
            "ticks": ""
           },
           "bgcolor": "#E5ECF6",
           "radialaxis": {
            "gridcolor": "white",
            "linecolor": "white",
            "ticks": ""
           }
          },
          "scene": {
           "xaxis": {
            "backgroundcolor": "#E5ECF6",
            "gridcolor": "white",
            "gridwidth": 2,
            "linecolor": "white",
            "showbackground": true,
            "ticks": "",
            "zerolinecolor": "white"
           },
           "yaxis": {
            "backgroundcolor": "#E5ECF6",
            "gridcolor": "white",
            "gridwidth": 2,
            "linecolor": "white",
            "showbackground": true,
            "ticks": "",
            "zerolinecolor": "white"
           },
           "zaxis": {
            "backgroundcolor": "#E5ECF6",
            "gridcolor": "white",
            "gridwidth": 2,
            "linecolor": "white",
            "showbackground": true,
            "ticks": "",
            "zerolinecolor": "white"
           }
          },
          "shapedefaults": {
           "line": {
            "color": "#2a3f5f"
           }
          },
          "ternary": {
           "aaxis": {
            "gridcolor": "white",
            "linecolor": "white",
            "ticks": ""
           },
           "baxis": {
            "gridcolor": "white",
            "linecolor": "white",
            "ticks": ""
           },
           "bgcolor": "#E5ECF6",
           "caxis": {
            "gridcolor": "white",
            "linecolor": "white",
            "ticks": ""
           }
          },
          "title": {
           "x": 0.05
          },
          "xaxis": {
           "automargin": true,
           "gridcolor": "white",
           "linecolor": "white",
           "ticks": "",
           "title": {
            "standoff": 15
           },
           "zerolinecolor": "white",
           "zerolinewidth": 2
          },
          "yaxis": {
           "automargin": true,
           "gridcolor": "white",
           "linecolor": "white",
           "ticks": "",
           "title": {
            "standoff": 15
           },
           "zerolinecolor": "white",
           "zerolinewidth": 2
          }
         }
        },
        "title": {
         "text": "Interactive Projection on Sphere"
        },
        "width": 700
       }
      }
     },
     "metadata": {},
     "output_type": "display_data"
    }
   ],
   "source": [
    "fig = go.Figure()\n",
    "\n",
    "# Sphere surface\n",
    "fig.add_trace(go.Surface(x=xs, y=ys, z=zs, opacity=0.3, colorscale='Viridis', showscale=False))\n",
    "\n",
    "# Projected points\n",
    "fig.add_trace(go.Scatter3d(x=projected_points[:,0], y=projected_points[:,1], z=projected_points[:,2],\n",
    "                           mode='markers', marker=dict(size=3, color='red'), name='Projected Points'))\n",
    "\n",
    "# Base point\n",
    "fig.add_trace(go.Scatter3d(x=[x[0]], y=[x[1]], z=[x[2]],\n",
    "                           mode='markers', marker=dict(size=8, color='black'), name='Base Point'))\n",
    "\n",
    "fig.update_layout(\n",
    "    scene=dict(\n",
    "        aspectmode=\"cube\"\n",
    "    ), \n",
    "    width=700, \n",
    "    height=700,\n",
    "    title='Interactive Projection on Sphere'\n",
    ")\n",
    "fig.show()"
   ]
  },
  {
   "cell_type": "code",
   "execution_count": null,
   "metadata": {},
   "outputs": [],
   "source": []
  }
 ],
 "metadata": {
  "kernelspec": {
   "display_name": "neml-venv",
   "language": "python",
   "name": "python3"
  },
  "language_info": {
   "codemirror_mode": {
    "name": "ipython",
    "version": 3
   },
   "file_extension": ".py",
   "mimetype": "text/x-python",
   "name": "python",
   "nbconvert_exporter": "python",
   "pygments_lexer": "ipython3",
   "version": "3.10.16"
  }
 },
 "nbformat": 4,
 "nbformat_minor": 2
}
